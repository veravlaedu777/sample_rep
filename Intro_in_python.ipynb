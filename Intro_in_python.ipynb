{
 "cells": [
  {
   "cell_type": "markdown",
   "id": "b5377597",
   "metadata": {},
   "source": [
    "# This is Python tutorial"
   ]
  },
  {
   "cell_type": "markdown",
   "id": "d199a22d",
   "metadata": {},
   "source": [
    "This is our program in python: It is just started here"
   ]
  },
  {
   "cell_type": "code",
   "execution_count": 8,
   "id": "9c9da5b4",
   "metadata": {},
   "outputs": [
    {
     "name": "stdout",
     "output_type": "stream",
     "text": [
      "Hello, World!\n"
     ]
    }
   ],
   "source": [
    "print(\"Hello, World!\")"
   ]
  },
  {
   "cell_type": "code",
   "execution_count": 10,
   "id": "668957e1",
   "metadata": {
    "scrolled": true
   },
   "outputs": [
    {
     "data": {
      "text/plain": [
       "50"
      ]
     },
     "execution_count": 10,
     "metadata": {},
     "output_type": "execute_result"
    }
   ],
   "source": [
    "25+25"
   ]
  },
  {
   "cell_type": "markdown",
   "id": "eecf57e6",
   "metadata": {},
   "source": [
    "## Variables"
   ]
  },
  {
   "cell_type": "code",
   "execution_count": 13,
   "id": "e864053d",
   "metadata": {},
   "outputs": [],
   "source": [
    "x = 3"
   ]
  },
  {
   "cell_type": "code",
   "execution_count": 14,
   "id": "dd57ec86",
   "metadata": {},
   "outputs": [
    {
     "name": "stdout",
     "output_type": "stream",
     "text": [
      "Variable   Type    Data/Info\n",
      "----------------------------\n",
      "x          int     3\n"
     ]
    }
   ],
   "source": [
    "%whos"
   ]
  },
  {
   "cell_type": "code",
   "execution_count": 16,
   "id": "28608ce7",
   "metadata": {},
   "outputs": [
    {
     "name": "stdout",
     "output_type": "stream",
     "text": [
      "<class 'int'>\n"
     ]
    }
   ],
   "source": [
    "print(type(x))"
   ]
  },
  {
   "cell_type": "code",
   "execution_count": 17,
   "id": "f91bed60",
   "metadata": {},
   "outputs": [],
   "source": [
    "y = 5"
   ]
  },
  {
   "cell_type": "code",
   "execution_count": 18,
   "id": "b2f6448b",
   "metadata": {},
   "outputs": [
    {
     "name": "stdout",
     "output_type": "stream",
     "text": [
      "<class 'int'>\n"
     ]
    }
   ],
   "source": [
    "print(type(y))"
   ]
  },
  {
   "cell_type": "code",
   "execution_count": 20,
   "id": "e108bec3",
   "metadata": {},
   "outputs": [
    {
     "data": {
      "text/plain": [
       "3"
      ]
     },
     "execution_count": 20,
     "metadata": {},
     "output_type": "execute_result"
    }
   ],
   "source": [
    "x"
   ]
  },
  {
   "cell_type": "code",
   "execution_count": 21,
   "id": "6fafb4e6",
   "metadata": {},
   "outputs": [],
   "source": [
    "x = 5.7"
   ]
  },
  {
   "cell_type": "code",
   "execution_count": 22,
   "id": "1e021f85",
   "metadata": {},
   "outputs": [
    {
     "data": {
      "text/plain": [
       "5.7"
      ]
     },
     "execution_count": 22,
     "metadata": {},
     "output_type": "execute_result"
    }
   ],
   "source": [
    "x"
   ]
  },
  {
   "cell_type": "code",
   "execution_count": 23,
   "id": "3e09497f",
   "metadata": {},
   "outputs": [
    {
     "name": "stdout",
     "output_type": "stream",
     "text": [
      "<class 'float'>\n"
     ]
    }
   ],
   "source": [
    "print(type(x))"
   ]
  },
  {
   "cell_type": "code",
   "execution_count": 26,
   "id": "a0f809f7",
   "metadata": {},
   "outputs": [
    {
     "name": "stdout",
     "output_type": "stream",
     "text": [
      "Variable   Type     Data/Info\n",
      "-----------------------------\n",
      "abcd       float    556.32\n",
      "x          float    5.7\n",
      "y          int      5\n"
     ]
    }
   ],
   "source": [
    "%whos"
   ]
  },
  {
   "cell_type": "code",
   "execution_count": 25,
   "id": "d9688f6f",
   "metadata": {},
   "outputs": [],
   "source": [
    "abcd = 556.32"
   ]
  },
  {
   "cell_type": "code",
   "execution_count": 27,
   "id": "c4c398e9",
   "metadata": {},
   "outputs": [
    {
     "ename": "NameError",
     "evalue": "name 'x' is not defined",
     "output_type": "error",
     "traceback": [
      "\u001b[1;31m---------------------------------------------------------------------------\u001b[0m",
      "\u001b[1;31mNameError\u001b[0m                                 Traceback (most recent call last)",
      "\u001b[1;32m~\\AppData\\Local\\Temp/ipykernel_12856/412694103.py\u001b[0m in \u001b[0;36m<module>\u001b[1;34m\u001b[0m\n\u001b[0;32m      1\u001b[0m \u001b[1;32mdel\u001b[0m \u001b[0mx\u001b[0m\u001b[1;33m\u001b[0m\u001b[1;33m\u001b[0m\u001b[0m\n\u001b[1;32m----> 2\u001b[1;33m \u001b[0mprint\u001b[0m\u001b[1;33m(\u001b[0m\u001b[0mx\u001b[0m\u001b[1;33m)\u001b[0m\u001b[1;33m\u001b[0m\u001b[1;33m\u001b[0m\u001b[0m\n\u001b[0m",
      "\u001b[1;31mNameError\u001b[0m: name 'x' is not defined"
     ]
    }
   ],
   "source": [
    "del x\n",
    "print(x)"
   ]
  },
  {
   "cell_type": "code",
   "execution_count": 28,
   "id": "74f93c8c",
   "metadata": {},
   "outputs": [
    {
     "name": "stdout",
     "output_type": "stream",
     "text": [
      "Variable   Type     Data/Info\n",
      "-----------------------------\n",
      "abcd       float    556.32\n",
      "y          int      5\n"
     ]
    }
   ],
   "source": [
    "%whos"
   ]
  },
  {
   "cell_type": "code",
   "execution_count": 29,
   "id": "43dd2a8b",
   "metadata": {},
   "outputs": [],
   "source": [
    "a, b, c, d, f = 3, 5, 6.0, 7.2, -3"
   ]
  },
  {
   "cell_type": "code",
   "execution_count": 30,
   "id": "a1bb2a41",
   "metadata": {},
   "outputs": [
    {
     "name": "stdout",
     "output_type": "stream",
     "text": [
      "Variable   Type     Data/Info\n",
      "-----------------------------\n",
      "a          int      3\n",
      "abcd       float    556.32\n",
      "b          int      5\n",
      "c          float    6.0\n",
      "d          float    7.2\n",
      "f          int      -3\n",
      "y          int      5\n"
     ]
    }
   ],
   "source": [
    "%whos"
   ]
  },
  {
   "cell_type": "code",
   "execution_count": 31,
   "id": "e797c033",
   "metadata": {},
   "outputs": [
    {
     "name": "stdout",
     "output_type": "stream",
     "text": [
      "<class 'complex'>\n"
     ]
    }
   ],
   "source": [
    "c = 2 + 4j\n",
    "print(type(c))"
   ]
  },
  {
   "cell_type": "code",
   "execution_count": 32,
   "id": "3fcec034",
   "metadata": {},
   "outputs": [
    {
     "data": {
      "text/plain": [
       "(2+4j)"
      ]
     },
     "execution_count": 32,
     "metadata": {},
     "output_type": "execute_result"
    }
   ],
   "source": [
    "c"
   ]
  },
  {
   "cell_type": "code",
   "execution_count": 33,
   "id": "492797af",
   "metadata": {},
   "outputs": [],
   "source": [
    "s = \"Hello, how are you\""
   ]
  },
  {
   "cell_type": "code",
   "execution_count": 34,
   "id": "c26c565b",
   "metadata": {},
   "outputs": [
    {
     "name": "stdout",
     "output_type": "stream",
     "text": [
      "<class 'str'>\n"
     ]
    }
   ],
   "source": [
    "print(type(s))"
   ]
  },
  {
   "cell_type": "markdown",
   "id": "ee3c9881",
   "metadata": {},
   "source": [
    "## Operators"
   ]
  },
  {
   "cell_type": "code",
   "execution_count": 3,
   "id": "35b7312b",
   "metadata": {},
   "outputs": [
    {
     "name": "stdout",
     "output_type": "stream",
     "text": [
      "Variable   Type    Data/Info\n",
      "----------------------------\n",
      "a          int     3\n",
      "b          int     5\n"
     ]
    }
   ],
   "source": [
    "%whos"
   ]
  },
  {
   "cell_type": "code",
   "execution_count": 2,
   "id": "8e7cd5d9",
   "metadata": {},
   "outputs": [],
   "source": [
    "a = 3\n",
    "b = 5"
   ]
  },
  {
   "cell_type": "code",
   "execution_count": 4,
   "id": "4eddb79e",
   "metadata": {},
   "outputs": [],
   "source": [
    "sum_ab = a + b"
   ]
  },
  {
   "cell_type": "code",
   "execution_count": 5,
   "id": "68a7e53f",
   "metadata": {},
   "outputs": [
    {
     "name": "stdout",
     "output_type": "stream",
     "text": [
      "8\n"
     ]
    }
   ],
   "source": [
    "print(sum_ab)"
   ]
  },
  {
   "cell_type": "code",
   "execution_count": 6,
   "id": "0b8ae68b",
   "metadata": {},
   "outputs": [
    {
     "data": {
      "text/plain": [
       "int"
      ]
     },
     "execution_count": 6,
     "metadata": {},
     "output_type": "execute_result"
    }
   ],
   "source": [
    "type(sum_ab)"
   ]
  },
  {
   "cell_type": "code",
   "execution_count": 7,
   "id": "2b17ec49",
   "metadata": {},
   "outputs": [],
   "source": [
    "d = 7.2"
   ]
  },
  {
   "cell_type": "code",
   "execution_count": 8,
   "id": "82bbc7c8",
   "metadata": {},
   "outputs": [
    {
     "data": {
      "text/plain": [
       "float"
      ]
     },
     "execution_count": 8,
     "metadata": {},
     "output_type": "execute_result"
    }
   ],
   "source": [
    "type(a + d)"
   ]
  },
  {
   "cell_type": "code",
   "execution_count": 9,
   "id": "b5eaafa1",
   "metadata": {},
   "outputs": [],
   "source": [
    "v = ((a + d)**3) / 4"
   ]
  },
  {
   "cell_type": "code",
   "execution_count": 10,
   "id": "f1732d33",
   "metadata": {},
   "outputs": [
    {
     "data": {
      "text/plain": [
       "265.30199999999996"
      ]
     },
     "execution_count": 10,
     "metadata": {},
     "output_type": "execute_result"
    }
   ],
   "source": [
    "v"
   ]
  },
  {
   "cell_type": "code",
   "execution_count": 11,
   "id": "387470fe",
   "metadata": {},
   "outputs": [
    {
     "name": "stdout",
     "output_type": "stream",
     "text": [
      "helloworld\n"
     ]
    }
   ],
   "source": [
    "s1 = \"hello\"\n",
    "s2 = \"world\"\n",
    "s3 = \" \"\n",
    "s = s1 + s3 + s2\n",
    "print(s)"
   ]
  },
  {
   "cell_type": "code",
   "execution_count": 29,
   "id": "eb6e82bb",
   "metadata": {},
   "outputs": [
    {
     "name": "stdout",
     "output_type": "stream",
     "text": [
      "This is second\tPython lesson\n"
     ]
    }
   ],
   "source": [
    "s1 = \"This is second\\tPython lesson\"\n",
    "print(s1)"
   ]
  },
  {
   "cell_type": "code",
   "execution_count": 13,
   "id": "2c94e498",
   "metadata": {},
   "outputs": [
    {
     "name": "stdout",
     "output_type": "stream",
     "text": [
      "Home\n"
     ]
    }
   ],
   "source": [
    "s1 = \"Home\"\n",
    "print(s1)"
   ]
  },
  {
   "cell_type": "code",
   "execution_count": 33,
   "id": "acfc79c7",
   "metadata": {},
   "outputs": [
    {
     "data": {
      "text/plain": [
       "3"
      ]
     },
     "execution_count": 33,
     "metadata": {},
     "output_type": "execute_result"
    }
   ],
   "source": [
    "10 // 3"
   ]
  },
  {
   "cell_type": "code",
   "execution_count": 37,
   "id": "e7bcaba2",
   "metadata": {},
   "outputs": [
    {
     "data": {
      "text/plain": [
       "1.0"
      ]
     },
     "execution_count": 37,
     "metadata": {},
     "output_type": "execute_result"
    }
   ],
   "source": [
    "4//3.5"
   ]
  },
  {
   "cell_type": "code",
   "execution_count": 36,
   "id": "47933a23",
   "metadata": {},
   "outputs": [
    {
     "data": {
      "text/plain": [
       "3.3333333333333335"
      ]
     },
     "execution_count": 36,
     "metadata": {},
     "output_type": "execute_result"
    }
   ],
   "source": [
    "_"
   ]
  },
  {
   "cell_type": "code",
   "execution_count": 38,
   "id": "8cdbc46f",
   "metadata": {},
   "outputs": [
    {
     "ename": "SyntaxError",
     "evalue": "invalid syntax (Temp/ipykernel_18084/560062693.py, line 1)",
     "output_type": "error",
     "traceback": [
      "\u001b[1;36m  File \u001b[1;32m\"C:\\Users\\kores\\AppData\\Local\\Temp/ipykernel_18084/560062693.py\"\u001b[1;36m, line \u001b[1;32m1\u001b[0m\n\u001b[1;33m    2x = 5\u001b[0m\n\u001b[1;37m     ^\u001b[0m\n\u001b[1;31mSyntaxError\u001b[0m\u001b[1;31m:\u001b[0m invalid syntax\n"
     ]
    }
   ],
   "source": [
    "2x = 5"
   ]
  },
  {
   "cell_type": "code",
   "execution_count": 39,
   "id": "32d49aa1",
   "metadata": {},
   "outputs": [
    {
     "ename": "SyntaxError",
     "evalue": "invalid syntax (Temp/ipykernel_18084/1883568809.py, line 1)",
     "output_type": "error",
     "traceback": [
      "\u001b[1;36m  File \u001b[1;32m\"C:\\Users\\kores\\AppData\\Local\\Temp/ipykernel_18084/1883568809.py\"\u001b[1;36m, line \u001b[1;32m1\u001b[0m\n\u001b[1;33m    @y = 4\u001b[0m\n\u001b[1;37m       ^\u001b[0m\n\u001b[1;31mSyntaxError\u001b[0m\u001b[1;31m:\u001b[0m invalid syntax\n"
     ]
    }
   ],
   "source": [
    "@y = 4"
   ]
  },
  {
   "cell_type": "code",
   "execution_count": 40,
   "id": "387d6714",
   "metadata": {},
   "outputs": [
    {
     "ename": "SyntaxError",
     "evalue": "starred assignment target must be in a list or tuple (Temp/ipykernel_18084/2131412375.py, line 1)",
     "output_type": "error",
     "traceback": [
      "\u001b[1;36m  File \u001b[1;32m\"C:\\Users\\kores\\AppData\\Local\\Temp/ipykernel_18084/2131412375.py\"\u001b[1;36m, line \u001b[1;32m1\u001b[0m\n\u001b[1;33m    *t = 4\u001b[0m\n\u001b[1;37m    ^\u001b[0m\n\u001b[1;31mSyntaxError\u001b[0m\u001b[1;31m:\u001b[0m starred assignment target must be in a list or tuple\n"
     ]
    }
   ],
   "source": [
    "*t = 4"
   ]
  },
  {
   "cell_type": "code",
   "execution_count": 41,
   "id": "0b75469b",
   "metadata": {},
   "outputs": [],
   "source": [
    "_e = 6"
   ]
  },
  {
   "cell_type": "code",
   "execution_count": 42,
   "id": "d1b48cda",
   "metadata": {},
   "outputs": [],
   "source": [
    "startingTimeOfTheCourse = 20.00"
   ]
  },
  {
   "cell_type": "code",
   "execution_count": 43,
   "id": "78e544ba",
   "metadata": {
    "scrolled": true
   },
   "outputs": [
    {
     "name": "stdout",
     "output_type": "stream",
     "text": [
      "Variable                  Type     Data/Info\n",
      "--------------------------------------------\n",
      "a                         int      3\n",
      "b                         int      5\n",
      "d                         float    7.2\n",
      "s                         str      helloworld\n",
      "s1                        str      This is second\tPython lesson\n",
      "s2                        str      world\n",
      "startingTimeOfTheCourse   float    20.0\n",
      "sum_ab                    int      8\n",
      "v                         float    265.30199999999996\n"
     ]
    }
   ],
   "source": [
    "%whos"
   ]
  },
  {
   "cell_type": "code",
   "execution_count": 44,
   "id": "47a5582f",
   "metadata": {},
   "outputs": [],
   "source": [
    "a = True\n",
    "b = True\n",
    "c = False"
   ]
  },
  {
   "cell_type": "code",
   "execution_count": 45,
   "id": "8e50ade7",
   "metadata": {},
   "outputs": [
    {
     "name": "stdout",
     "output_type": "stream",
     "text": [
      "Variable                  Type     Data/Info\n",
      "--------------------------------------------\n",
      "a                         bool     True\n",
      "b                         bool     True\n",
      "c                         bool     False\n",
      "d                         float    7.2\n",
      "s                         str      helloworld\n",
      "s1                        str      This is second\tPython lesson\n",
      "s2                        str      world\n",
      "startingTimeOfTheCourse   float    20.0\n",
      "sum_ab                    int      8\n",
      "v                         float    265.30199999999996\n"
     ]
    }
   ],
   "source": [
    "%whos"
   ]
  },
  {
   "cell_type": "code",
   "execution_count": 46,
   "id": "22c0782e",
   "metadata": {},
   "outputs": [
    {
     "name": "stdout",
     "output_type": "stream",
     "text": [
      "True\n",
      "False\n",
      "False\n"
     ]
    }
   ],
   "source": [
    "print(a and b)\n",
    "print(a and c)\n",
    "print(c and a)"
   ]
  },
  {
   "cell_type": "code",
   "execution_count": 47,
   "id": "76e135b1",
   "metadata": {},
   "outputs": [
    {
     "name": "stdout",
     "output_type": "stream",
     "text": [
      "True\n"
     ]
    }
   ],
   "source": [
    "d = a or c\n",
    "print(d)"
   ]
  },
  {
   "cell_type": "code",
   "execution_count": 49,
   "id": "4cd0c02f",
   "metadata": {},
   "outputs": [
    {
     "data": {
      "text/plain": [
       "False"
      ]
     },
     "execution_count": 49,
     "metadata": {},
     "output_type": "execute_result"
    }
   ],
   "source": [
    "not(a)"
   ]
  },
  {
   "cell_type": "code",
   "execution_count": 50,
   "id": "8b5a5260",
   "metadata": {},
   "outputs": [
    {
     "data": {
      "text/plain": [
       "False"
      ]
     },
     "execution_count": 50,
     "metadata": {},
     "output_type": "execute_result"
    }
   ],
   "source": [
    "not(b)"
   ]
  },
  {
   "cell_type": "code",
   "execution_count": 51,
   "id": "1b361bcf",
   "metadata": {},
   "outputs": [
    {
     "data": {
      "text/plain": [
       "True"
      ]
     },
     "execution_count": 51,
     "metadata": {},
     "output_type": "execute_result"
    }
   ],
   "source": [
    "not(c)"
   ]
  },
  {
   "cell_type": "code",
   "execution_count": 52,
   "id": "c053d45d",
   "metadata": {},
   "outputs": [],
   "source": [
    "t = not(d)"
   ]
  },
  {
   "cell_type": "code",
   "execution_count": 53,
   "id": "4c7e2e32",
   "metadata": {},
   "outputs": [
    {
     "data": {
      "text/plain": [
       "bool"
      ]
     },
     "execution_count": 53,
     "metadata": {},
     "output_type": "execute_result"
    }
   ],
   "source": [
    "type(t)"
   ]
  },
  {
   "cell_type": "code",
   "execution_count": 54,
   "id": "76d22598",
   "metadata": {},
   "outputs": [
    {
     "name": "stdout",
     "output_type": "stream",
     "text": [
      "False\n"
     ]
    }
   ],
   "source": [
    "print(t)"
   ]
  },
  {
   "cell_type": "code",
   "execution_count": 55,
   "id": "ca471b97",
   "metadata": {},
   "outputs": [
    {
     "name": "stdout",
     "output_type": "stream",
     "text": [
      "Variable                  Type     Data/Info\n",
      "--------------------------------------------\n",
      "a                         bool     True\n",
      "b                         bool     True\n",
      "c                         bool     False\n",
      "d                         bool     True\n",
      "s                         str      helloworld\n",
      "s1                        str      This is second\tPython lesson\n",
      "s2                        str      world\n",
      "startingTimeOfTheCourse   float    20.0\n",
      "sum_ab                    int      8\n",
      "t                         bool     False\n",
      "v                         float    265.30199999999996\n"
     ]
    }
   ],
   "source": [
    "%whos"
   ]
  },
  {
   "cell_type": "code",
   "execution_count": 56,
   "id": "c857abe3",
   "metadata": {},
   "outputs": [
    {
     "data": {
      "text/plain": [
       "False"
      ]
     },
     "execution_count": 56,
     "metadata": {},
     "output_type": "execute_result"
    }
   ],
   "source": [
    "not((a and b) or (c or d))"
   ]
  },
  {
   "cell_type": "markdown",
   "id": "cee36b6e",
   "metadata": {},
   "source": [
    "## Comparisons"
   ]
  },
  {
   "cell_type": "code",
   "execution_count": 57,
   "id": "4423cd2b",
   "metadata": {},
   "outputs": [
    {
     "name": "stdout",
     "output_type": "stream",
     "text": [
      "True\n"
     ]
    }
   ],
   "source": [
    "print(2 < 3)"
   ]
  },
  {
   "cell_type": "code",
   "execution_count": 58,
   "id": "6d66e4f2",
   "metadata": {},
   "outputs": [
    {
     "name": "stdout",
     "output_type": "stream",
     "text": [
      "<class 'bool'>\n",
      "True\n"
     ]
    }
   ],
   "source": [
    "c = 2 < 3\n",
    "print(type(c))\n",
    "print(c)"
   ]
  },
  {
   "cell_type": "code",
   "execution_count": 59,
   "id": "2d735049",
   "metadata": {},
   "outputs": [
    {
     "name": "stdout",
     "output_type": "stream",
     "text": [
      "False\n"
     ]
    }
   ],
   "source": [
    "d = 3 == 4\n",
    "print(d)"
   ]
  },
  {
   "cell_type": "code",
   "execution_count": 60,
   "id": "a341b55e",
   "metadata": {},
   "outputs": [
    {
     "data": {
      "text/plain": [
       "True"
      ]
     },
     "execution_count": 60,
     "metadata": {},
     "output_type": "execute_result"
    }
   ],
   "source": [
    "3 == 3.0"
   ]
  },
  {
   "cell_type": "code",
   "execution_count": 61,
   "id": "a0829ddd",
   "metadata": {},
   "outputs": [],
   "source": [
    "x = 4\n",
    "y = 9\n",
    "z = 8.3\n",
    "r = -3"
   ]
  },
  {
   "cell_type": "code",
   "execution_count": 62,
   "id": "e33e2bf8",
   "metadata": {},
   "outputs": [
    {
     "data": {
      "text/plain": [
       "True"
      ]
     },
     "execution_count": 62,
     "metadata": {},
     "output_type": "execute_result"
    }
   ],
   "source": [
    "(x < y) and (z < y) or (r == x)"
   ]
  },
  {
   "cell_type": "code",
   "execution_count": 63,
   "id": "62072d62",
   "metadata": {},
   "outputs": [
    {
     "data": {
      "text/plain": [
       "False"
      ]
     },
     "execution_count": 63,
     "metadata": {},
     "output_type": "execute_result"
    }
   ],
   "source": [
    "(r == x) or (x < y) and (z > y)"
   ]
  },
  {
   "cell_type": "code",
   "execution_count": 64,
   "id": "20c9a9cc",
   "metadata": {},
   "outputs": [
    {
     "data": {
      "text/plain": [
       "False"
      ]
     },
     "execution_count": 64,
     "metadata": {},
     "output_type": "execute_result"
    }
   ],
   "source": [
    "(True or False) and False"
   ]
  },
  {
   "cell_type": "code",
   "execution_count": 65,
   "id": "3ebae33c",
   "metadata": {},
   "outputs": [
    {
     "name": "stdout",
     "output_type": "stream",
     "text": [
      "False\n"
     ]
    }
   ],
   "source": [
    "print((not(2 != 3) and True) or (False and True))"
   ]
  },
  {
   "cell_type": "code",
   "execution_count": 66,
   "id": "2094e906",
   "metadata": {},
   "outputs": [],
   "source": [
    "B = divmod(27, 5)"
   ]
  },
  {
   "cell_type": "code",
   "execution_count": 67,
   "id": "09d87136",
   "metadata": {},
   "outputs": [
    {
     "data": {
      "text/plain": [
       "tuple"
      ]
     },
     "execution_count": 67,
     "metadata": {},
     "output_type": "execute_result"
    }
   ],
   "source": [
    "type(B)"
   ]
  },
  {
   "cell_type": "code",
   "execution_count": 68,
   "id": "65c7394a",
   "metadata": {},
   "outputs": [
    {
     "name": "stdout",
     "output_type": "stream",
     "text": [
      "(5, 2)\n"
     ]
    }
   ],
   "source": [
    "print(B)"
   ]
  },
  {
   "cell_type": "code",
   "execution_count": 69,
   "id": "67613ade",
   "metadata": {},
   "outputs": [
    {
     "data": {
      "text/plain": [
       "5"
      ]
     },
     "execution_count": 69,
     "metadata": {},
     "output_type": "execute_result"
    }
   ],
   "source": [
    "B[0]"
   ]
  },
  {
   "cell_type": "code",
   "execution_count": 70,
   "id": "ca60dff9",
   "metadata": {},
   "outputs": [
    {
     "data": {
      "text/plain": [
       "2"
      ]
     },
     "execution_count": 70,
     "metadata": {},
     "output_type": "execute_result"
    }
   ],
   "source": [
    "B[1]"
   ]
  },
  {
   "cell_type": "code",
   "execution_count": 74,
   "id": "43465384",
   "metadata": {},
   "outputs": [
    {
     "data": {
      "text/plain": [
       "(2, 2)"
      ]
     },
     "execution_count": 74,
     "metadata": {},
     "output_type": "execute_result"
    }
   ],
   "source": [
    "divmod(22, 10)"
   ]
  },
  {
   "cell_type": "code",
   "execution_count": 75,
   "id": "b5c00e6a",
   "metadata": {},
   "outputs": [
    {
     "data": {
      "text/plain": [
       "7"
      ]
     },
     "execution_count": 75,
     "metadata": {},
     "output_type": "execute_result"
    }
   ],
   "source": [
    "34 % 9"
   ]
  },
  {
   "cell_type": "code",
   "execution_count": null,
   "id": "1494fa73",
   "metadata": {},
   "outputs": [],
   "source": [
    "a = 20\n",
    "a % 2 == 1"
   ]
  },
  {
   "cell_type": "code",
   "execution_count": 1,
   "id": "f687dfad",
   "metadata": {},
   "outputs": [
    {
     "data": {
      "text/plain": [
       "True"
      ]
     },
     "execution_count": 1,
     "metadata": {},
     "output_type": "execute_result"
    }
   ],
   "source": [
    "isinstance(3, int)"
   ]
  },
  {
   "cell_type": "code",
   "execution_count": 2,
   "id": "223497eb",
   "metadata": {},
   "outputs": [
    {
     "data": {
      "text/plain": [
       "True"
      ]
     },
     "execution_count": 2,
     "metadata": {},
     "output_type": "execute_result"
    }
   ],
   "source": [
    "isinstance(3.4, (float, int))"
   ]
  },
  {
   "cell_type": "code",
   "execution_count": 3,
   "id": "c2c3d551",
   "metadata": {},
   "outputs": [
    {
     "data": {
      "text/plain": [
       "True"
      ]
     },
     "execution_count": 3,
     "metadata": {},
     "output_type": "execute_result"
    }
   ],
   "source": [
    "isinstance(2 + 3j, (int, float, str, complex))"
   ]
  },
  {
   "cell_type": "code",
   "execution_count": 4,
   "id": "c295e955",
   "metadata": {},
   "outputs": [
    {
     "data": {
      "text/plain": [
       "16"
      ]
     },
     "execution_count": 4,
     "metadata": {},
     "output_type": "execute_result"
    }
   ],
   "source": [
    "pow(2, 4)"
   ]
  },
  {
   "cell_type": "code",
   "execution_count": 5,
   "id": "0c1e84ef",
   "metadata": {},
   "outputs": [
    {
     "data": {
      "text/plain": [
       "16"
      ]
     },
     "execution_count": 5,
     "metadata": {},
     "output_type": "execute_result"
    }
   ],
   "source": [
    "2**4"
   ]
  },
  {
   "cell_type": "code",
   "execution_count": 6,
   "id": "e81d74dd",
   "metadata": {},
   "outputs": [
    {
     "data": {
      "text/plain": [
       "2"
      ]
     },
     "execution_count": 6,
     "metadata": {},
     "output_type": "execute_result"
    }
   ],
   "source": [
    "pow(2, 4, 7)"
   ]
  },
  {
   "cell_type": "code",
   "execution_count": 9,
   "id": "f0e4b0fe",
   "metadata": {},
   "outputs": [
    {
     "name": "stdout",
     "output_type": "stream",
     "text": [
      "Enter a number:777\n"
     ]
    }
   ],
   "source": [
    "x = input(\"Enter a number:\")"
   ]
  },
  {
   "cell_type": "code",
   "execution_count": 10,
   "id": "4a3dcedb",
   "metadata": {},
   "outputs": [
    {
     "name": "stdout",
     "output_type": "stream",
     "text": [
      "777\n"
     ]
    }
   ],
   "source": [
    "print(x)"
   ]
  },
  {
   "cell_type": "code",
   "execution_count": 15,
   "id": "29a4ec6d",
   "metadata": {},
   "outputs": [
    {
     "data": {
      "text/plain": [
       "int"
      ]
     },
     "execution_count": 15,
     "metadata": {},
     "output_type": "execute_result"
    }
   ],
   "source": [
    "type(x)"
   ]
  },
  {
   "cell_type": "code",
   "execution_count": 14,
   "id": "f27bc8ec",
   "metadata": {},
   "outputs": [],
   "source": [
    "x = int(x)"
   ]
  },
  {
   "cell_type": "code",
   "execution_count": 16,
   "id": "e2373b05",
   "metadata": {},
   "outputs": [
    {
     "name": "stdout",
     "output_type": "stream",
     "text": [
      "755\n"
     ]
    }
   ],
   "source": [
    "print(x - 22)"
   ]
  },
  {
   "cell_type": "code",
   "execution_count": 17,
   "id": "fbbc221e",
   "metadata": {},
   "outputs": [
    {
     "name": "stdout",
     "output_type": "stream",
     "text": [
      "Enter a real number: 12.5\n"
     ]
    }
   ],
   "source": [
    "a = float(input(\"Enter a real number: \"))"
   ]
  },
  {
   "cell_type": "code",
   "execution_count": 19,
   "id": "3fcc4c2c",
   "metadata": {},
   "outputs": [
    {
     "data": {
      "text/plain": [
       "float"
      ]
     },
     "execution_count": 19,
     "metadata": {},
     "output_type": "execute_result"
    }
   ],
   "source": [
    "type(a)"
   ]
  },
  {
   "cell_type": "code",
   "execution_count": 20,
   "id": "8e52bfeb",
   "metadata": {},
   "outputs": [
    {
     "name": "stdout",
     "output_type": "stream",
     "text": [
      "Enter a real number: Vladimir\n"
     ]
    },
    {
     "ename": "ValueError",
     "evalue": "could not convert string to float: 'Vladimir'",
     "output_type": "error",
     "traceback": [
      "\u001b[1;31m---------------------------------------------------------------------------\u001b[0m",
      "\u001b[1;31mValueError\u001b[0m                                Traceback (most recent call last)",
      "\u001b[1;32m~\\AppData\\Local\\Temp/ipykernel_27052/507511935.py\u001b[0m in \u001b[0;36m<module>\u001b[1;34m\u001b[0m\n\u001b[1;32m----> 1\u001b[1;33m \u001b[0mb\u001b[0m \u001b[1;33m=\u001b[0m \u001b[0mfloat\u001b[0m\u001b[1;33m(\u001b[0m\u001b[0minput\u001b[0m\u001b[1;33m(\u001b[0m\u001b[1;34m\"Enter a real number: \"\u001b[0m\u001b[1;33m)\u001b[0m\u001b[1;33m)\u001b[0m\u001b[1;33m\u001b[0m\u001b[1;33m\u001b[0m\u001b[0m\n\u001b[0m",
      "\u001b[1;31mValueError\u001b[0m: could not convert string to float: 'Vladimir'"
     ]
    }
   ],
   "source": [
    "b = float(input(\"Enter a real number: \"))"
   ]
  },
  {
   "cell_type": "code",
   "execution_count": 21,
   "id": "47f31462",
   "metadata": {},
   "outputs": [
    {
     "name": "stdout",
     "output_type": "stream",
     "text": [
      "Help on built-in function pow in module builtins:\n",
      "\n",
      "pow(base, exp, mod=None)\n",
      "    Equivalent to base**exp with 2 arguments or base**exp % mod with 3 arguments\n",
      "    \n",
      "    Some types, such as ints, are able to use a more efficient algorithm when\n",
      "    invoked using the three argument form.\n",
      "\n"
     ]
    }
   ],
   "source": [
    "help(pow)"
   ]
  },
  {
   "cell_type": "code",
   "execution_count": 23,
   "id": "f08adc15",
   "metadata": {},
   "outputs": [
    {
     "name": "stdout",
     "output_type": "stream",
     "text": [
      "Help on class float in module builtins:\n",
      "\n",
      "class float(object)\n",
      " |  float(x=0, /)\n",
      " |  \n",
      " |  Convert a string or number to a floating point number, if possible.\n",
      " |  \n",
      " |  Methods defined here:\n",
      " |  \n",
      " |  __abs__(self, /)\n",
      " |      abs(self)\n",
      " |  \n",
      " |  __add__(self, value, /)\n",
      " |      Return self+value.\n",
      " |  \n",
      " |  __bool__(self, /)\n",
      " |      self != 0\n",
      " |  \n",
      " |  __ceil__(self, /)\n",
      " |      Return the ceiling as an Integral.\n",
      " |  \n",
      " |  __divmod__(self, value, /)\n",
      " |      Return divmod(self, value).\n",
      " |  \n",
      " |  __eq__(self, value, /)\n",
      " |      Return self==value.\n",
      " |  \n",
      " |  __float__(self, /)\n",
      " |      float(self)\n",
      " |  \n",
      " |  __floor__(self, /)\n",
      " |      Return the floor as an Integral.\n",
      " |  \n",
      " |  __floordiv__(self, value, /)\n",
      " |      Return self//value.\n",
      " |  \n",
      " |  __format__(self, format_spec, /)\n",
      " |      Formats the float according to format_spec.\n",
      " |  \n",
      " |  __ge__(self, value, /)\n",
      " |      Return self>=value.\n",
      " |  \n",
      " |  __getattribute__(self, name, /)\n",
      " |      Return getattr(self, name).\n",
      " |  \n",
      " |  __getnewargs__(self, /)\n",
      " |  \n",
      " |  __gt__(self, value, /)\n",
      " |      Return self>value.\n",
      " |  \n",
      " |  __hash__(self, /)\n",
      " |      Return hash(self).\n",
      " |  \n",
      " |  __int__(self, /)\n",
      " |      int(self)\n",
      " |  \n",
      " |  __le__(self, value, /)\n",
      " |      Return self<=value.\n",
      " |  \n",
      " |  __lt__(self, value, /)\n",
      " |      Return self<value.\n",
      " |  \n",
      " |  __mod__(self, value, /)\n",
      " |      Return self%value.\n",
      " |  \n",
      " |  __mul__(self, value, /)\n",
      " |      Return self*value.\n",
      " |  \n",
      " |  __ne__(self, value, /)\n",
      " |      Return self!=value.\n",
      " |  \n",
      " |  __neg__(self, /)\n",
      " |      -self\n",
      " |  \n",
      " |  __pos__(self, /)\n",
      " |      +self\n",
      " |  \n",
      " |  __pow__(self, value, mod=None, /)\n",
      " |      Return pow(self, value, mod).\n",
      " |  \n",
      " |  __radd__(self, value, /)\n",
      " |      Return value+self.\n",
      " |  \n",
      " |  __rdivmod__(self, value, /)\n",
      " |      Return divmod(value, self).\n",
      " |  \n",
      " |  __repr__(self, /)\n",
      " |      Return repr(self).\n",
      " |  \n",
      " |  __rfloordiv__(self, value, /)\n",
      " |      Return value//self.\n",
      " |  \n",
      " |  __rmod__(self, value, /)\n",
      " |      Return value%self.\n",
      " |  \n",
      " |  __rmul__(self, value, /)\n",
      " |      Return value*self.\n",
      " |  \n",
      " |  __round__(self, ndigits=None, /)\n",
      " |      Return the Integral closest to x, rounding half toward even.\n",
      " |      \n",
      " |      When an argument is passed, work like built-in round(x, ndigits).\n",
      " |  \n",
      " |  __rpow__(self, value, mod=None, /)\n",
      " |      Return pow(value, self, mod).\n",
      " |  \n",
      " |  __rsub__(self, value, /)\n",
      " |      Return value-self.\n",
      " |  \n",
      " |  __rtruediv__(self, value, /)\n",
      " |      Return value/self.\n",
      " |  \n",
      " |  __sub__(self, value, /)\n",
      " |      Return self-value.\n",
      " |  \n",
      " |  __truediv__(self, value, /)\n",
      " |      Return self/value.\n",
      " |  \n",
      " |  __trunc__(self, /)\n",
      " |      Return the Integral closest to x between 0 and x.\n",
      " |  \n",
      " |  as_integer_ratio(self, /)\n",
      " |      Return integer ratio.\n",
      " |      \n",
      " |      Return a pair of integers, whose ratio is exactly equal to the original float\n",
      " |      and with a positive denominator.\n",
      " |      \n",
      " |      Raise OverflowError on infinities and a ValueError on NaNs.\n",
      " |      \n",
      " |      >>> (10.0).as_integer_ratio()\n",
      " |      (10, 1)\n",
      " |      >>> (0.0).as_integer_ratio()\n",
      " |      (0, 1)\n",
      " |      >>> (-.25).as_integer_ratio()\n",
      " |      (-1, 4)\n",
      " |  \n",
      " |  conjugate(self, /)\n",
      " |      Return self, the complex conjugate of any float.\n",
      " |  \n",
      " |  hex(self, /)\n",
      " |      Return a hexadecimal representation of a floating-point number.\n",
      " |      \n",
      " |      >>> (-0.1).hex()\n",
      " |      '-0x1.999999999999ap-4'\n",
      " |      >>> 3.14159.hex()\n",
      " |      '0x1.921f9f01b866ep+1'\n",
      " |  \n",
      " |  is_integer(self, /)\n",
      " |      Return True if the float is an integer.\n",
      " |  \n",
      " |  ----------------------------------------------------------------------\n",
      " |  Class methods defined here:\n",
      " |  \n",
      " |  __getformat__(typestr, /) from builtins.type\n",
      " |      You probably don't want to use this function.\n",
      " |      \n",
      " |        typestr\n",
      " |          Must be 'double' or 'float'.\n",
      " |      \n",
      " |      It exists mainly to be used in Python's test suite.\n",
      " |      \n",
      " |      This function returns whichever of 'unknown', 'IEEE, big-endian' or 'IEEE,\n",
      " |      little-endian' best describes the format of floating point numbers used by the\n",
      " |      C type named by typestr.\n",
      " |  \n",
      " |  __set_format__(typestr, fmt, /) from builtins.type\n",
      " |      You probably don't want to use this function.\n",
      " |      \n",
      " |        typestr\n",
      " |          Must be 'double' or 'float'.\n",
      " |        fmt\n",
      " |          Must be one of 'unknown', 'IEEE, big-endian' or 'IEEE, little-endian',\n",
      " |          and in addition can only be one of the latter two if it appears to\n",
      " |          match the underlying C reality.\n",
      " |      \n",
      " |      It exists mainly to be used in Python's test suite.\n",
      " |      \n",
      " |      Override the automatic determination of C-level floating point type.\n",
      " |      This affects how floats are converted to and from binary strings.\n",
      " |  \n",
      " |  fromhex(string, /) from builtins.type\n",
      " |      Create a floating-point number from a hexadecimal string.\n",
      " |      \n",
      " |      >>> float.fromhex('0x1.ffffp10')\n",
      " |      2047.984375\n",
      " |      >>> float.fromhex('-0x1p-1074')\n",
      " |      -5e-324\n",
      " |  \n",
      " |  ----------------------------------------------------------------------\n",
      " |  Static methods defined here:\n",
      " |  \n",
      " |  __new__(*args, **kwargs) from builtins.type\n",
      " |      Create and return a new object.  See help(type) for accurate signature.\n",
      " |  \n",
      " |  ----------------------------------------------------------------------\n",
      " |  Data descriptors defined here:\n",
      " |  \n",
      " |  imag\n",
      " |      the imaginary part of a complex number\n",
      " |  \n",
      " |  real\n",
      " |      the real part of a complex number\n",
      "\n"
     ]
    }
   ],
   "source": [
    "help(float)"
   ]
  },
  {
   "cell_type": "code",
   "execution_count": 25,
   "id": "2ff5c573",
   "metadata": {},
   "outputs": [
    {
     "name": "stdout",
     "output_type": "stream",
     "text": [
      "Enter a number:13216\n"
     ]
    }
   ],
   "source": [
    "a = (int(input(\"Enter a number:\")))"
   ]
  },
  {
   "cell_type": "code",
   "execution_count": 30,
   "id": "3288029a",
   "metadata": {},
   "outputs": [
    {
     "name": "stdout",
     "output_type": "stream",
     "text": [
      "Enter variable a: 45\n",
      "Enter variable b: 70\n",
      "I am outside the if condition\n"
     ]
    }
   ],
   "source": [
    "a = int(input(\"Enter variable a: \"))\n",
    "b = int(input(\"Enter variable b: \"))\n",
    "if a > b:\n",
    "    print(a)\n",
    "    print(\"I am still inside if condition\")\n",
    "print(\"I am outside the if condition\")"
   ]
  },
  {
   "cell_type": "code",
   "execution_count": 31,
   "id": "21904939",
   "metadata": {},
   "outputs": [
    {
     "name": "stdout",
     "output_type": "stream",
     "text": [
      "Enter variable a: 55\n",
      "Enter variable b: 12\n",
      "55\n"
     ]
    }
   ],
   "source": [
    "a = int(input(\"Enter variable a: \"))\n",
    "b = int(input(\"Enter variable b: \"))\n",
    "if a > b:\n",
    "    print(a)\n",
    "if b > a:\n",
    "    print(b)"
   ]
  },
  {
   "cell_type": "code",
   "execution_count": 35,
   "id": "069a74dd",
   "metadata": {},
   "outputs": [
    {
     "name": "stdout",
     "output_type": "stream",
     "text": [
      "Enter varaible a: 20\n",
      "Enter variable b: 20\n",
      "20\n",
      "else part\n"
     ]
    }
   ],
   "source": [
    "a = int(input(\"Enter varaible a: \"))\n",
    "b = int(input(\"Enter variable b: \"))\n",
    "if a > b:\n",
    "    print(a)\n",
    "    print(\"if part\")\n",
    "else:\n",
    "    print(b)\n",
    "    print(\"else part\")\n",
    "    "
   ]
  },
  {
   "cell_type": "code",
   "execution_count": 37,
   "id": "593df95e",
   "metadata": {},
   "outputs": [
    {
     "name": "stdout",
     "output_type": "stream",
     "text": [
      "a\n",
      "Not in if\n"
     ]
    }
   ],
   "source": [
    "a = 25\n",
    "b = 10\n",
    "if a == b:\n",
    "    print(\"equal\")\n",
    "elif a > b:\n",
    "    print(\"a\")\n",
    "else:\n",
    "    print(\"b\")\n",
    "print(\"Not in if\")"
   ]
  },
  {
   "cell_type": "code",
   "execution_count": 40,
   "id": "d484d17c",
   "metadata": {},
   "outputs": [
    {
     "name": "stdout",
     "output_type": "stream",
     "text": [
      "Enter Marks: 40\n",
      "Below Average\n"
     ]
    }
   ],
   "source": [
    "a = int(input(\"Enter Marks: \"))\n",
    "if a >= 85:\n",
    "    print(\"A grade\")\n",
    "elif (a < 85) and (a >= 80):\n",
    "    print(\"A- Grade\")\n",
    "elif a < 80 and a >= 75:\n",
    "    print(\"B Grade\")\n",
    "elif a < 75 and a >= 70:\n",
    "    print(\"B- Grade\")\n",
    "else:\n",
    "    print(\"Below Average\")"
   ]
  },
  {
   "cell_type": "code",
   "execution_count": 42,
   "id": "9c8b20bf",
   "metadata": {},
   "outputs": [
    {
     "name": "stdout",
     "output_type": "stream",
     "text": [
      "Else part\n"
     ]
    }
   ],
   "source": [
    "a = 7\n",
    "if a > 10:\n",
    "    print(\">10\")\n",
    "elif not(a > 10):\n",
    "    print(\"Else part\")"
   ]
  },
  {
   "cell_type": "code",
   "execution_count": 45,
   "id": "c1efca70",
   "metadata": {},
   "outputs": [
    {
     "name": "stdout",
     "output_type": "stream",
     "text": [
      "Enter a number: 5\n",
      "Outside all ifs\n"
     ]
    }
   ],
   "source": [
    "a = int(input(\"Enter a number: \"))\n",
    "if a > 10:\n",
    "    print(\"> 10\")\n",
    "    print(\"Inside the top if\")\n",
    "    if a > 20:\n",
    "        print(\"> 20\")\n",
    "        print(\"Inside the nested if\")\n",
    "        if a > 30:\n",
    "            print(\"> 30\")\n",
    "            print(\"Inside the nested if of nested if\")\n",
    "        else:\n",
    "            print(\"<= 30\")\n",
    "            print(\"Inside the else part of nested if of nested if\")\n",
    "    else:\n",
    "        print(\"<= 20\")\n",
    "        print(\"Inside the else part of nested if\")\n",
    "print(\"Outside all ifs\")"
   ]
  },
  {
   "cell_type": "code",
   "execution_count": 2,
   "id": "6d86ff2b",
   "metadata": {},
   "outputs": [
    {
     "name": "stdout",
     "output_type": "stream",
     "text": [
      "Enter a real number: 28.9\n",
      "Even\n"
     ]
    }
   ],
   "source": [
    "#single line comment\n",
    "\n",
    "#this is comment\n",
    "\n",
    "\"\"\"\n",
    "User will enter a floating point number let's say 238.915. Your task is to find out the integer\n",
    "portion before point (in this case 238) and then check if that integer is and even number or not?\n",
    "\"\"\"\n",
    "x = float(input(\"Enter a real number: \"))\n",
    "y = round(x)\n",
    "if x > 0:\n",
    "    if y > x:\n",
    "        intPortion = y - 1\n",
    "    else:\n",
    "        intPortion = y\n",
    "else:\n",
    "    if y < x:\n",
    "        intPortion = y + 1\n",
    "    else:\n",
    "        intPortion = y\n",
    "        \n",
    "if intPortion % 2 == 0:\n",
    "    print(\"Even\")\n",
    "else:\n",
    "    print(\"Odd\")"
   ]
  },
  {
   "cell_type": "code",
   "execution_count": 11,
   "id": "bf3f3dec",
   "metadata": {},
   "outputs": [
    {
     "name": "stdout",
     "output_type": "stream",
     "text": [
      "100\n",
      "This is iteration number: 10\n",
      "81\n",
      "This is iteration number: 9\n",
      "64\n",
      "This is iteration number: 8\n",
      "49\n",
      "This is iteration number: 7\n",
      "36\n",
      "This is iteration number: 6\n",
      "25\n",
      "This is iteration number: 5\n",
      "16\n",
      "This is iteration number: 4\n",
      "9\n",
      "This is iteration number: 3\n",
      "4\n",
      "This is iteration number: 2\n",
      "1\n",
      "This is iteration number: 1\n",
      "Loop done\n"
     ]
    }
   ],
   "source": [
    "#n = int(input(\"Enter iteration number: \"))\n",
    "n = 0\n",
    "i = 10\n",
    "while i > n:\n",
    "    print(i **2)\n",
    "    print(\"This is iteration number: \" + str(i))\n",
    "    i -= 1\n",
    "    \n",
    "print(\"Loop done\")"
   ]
  },
  {
   "cell_type": "code",
   "execution_count": 12,
   "id": "a2466c6e",
   "metadata": {},
   "outputs": [
    {
     "name": "stdout",
     "output_type": "stream",
     "text": [
      "Inside Else\n",
      "Inside Else\n",
      "Inside Else\n",
      "Inside Else\n",
      "Inside Else\n",
      "Inside Else\n",
      "Inside Else\n",
      "Inside Else\n",
      "Inside if\n",
      "Done\n"
     ]
    }
   ],
   "source": [
    "n = 10\n",
    "i = 1\n",
    "while True:\n",
    "    if i % 9 == 0:\n",
    "        print(\"Inside if\")\n",
    "        break\n",
    "    else:\n",
    "        print(\"Inside Else\")\n",
    "        i += 1\n",
    "print(\"Done\")"
   ]
  },
  {
   "cell_type": "code",
   "execution_count": 16,
   "id": "a3ec143c",
   "metadata": {},
   "outputs": [
    {
     "name": "stdout",
     "output_type": "stream",
     "text": [
      "Inside if\n",
      "Inside if\n",
      "Inside if\n",
      "Inside if\n",
      "Inside if\n",
      "Inside if\n",
      "Inside if\n",
      "Inside if\n",
      "Something\n",
      "Something else\n",
      "Done\n"
     ]
    }
   ],
   "source": [
    "n = 10\n",
    "i = 1\n",
    "while True:\n",
    "    if i % 9 != 0:\n",
    "        print(\"Inside if\")\n",
    "        i += 1\n",
    "        continue\n",
    "    print(\"Something\")\n",
    "    print(\"Something else\")\n",
    "    break\n",
    "print(\"Done\")"
   ]
  },
  {
   "cell_type": "code",
   "execution_count": 21,
   "id": "44ab2688",
   "metadata": {},
   "outputs": [
    {
     "name": "stdout",
     "output_type": "stream",
     "text": [
      "0\n",
      "1\n",
      "2\n",
      "3\n",
      "4\n",
      "5\n",
      "6\n",
      "7\n",
      "8\n",
      "9\n",
      "10\n",
      "11\n",
      "12\n",
      "13\n",
      "14\n",
      "15\n",
      "16\n",
      "17\n",
      "18\n",
      "19\n",
      "[0, 1, 4, 9, 16, 25, 36, 49, 64, 81, 100, 121, 144, 169, 196, 225, 256, 289, 324, 361]\n"
     ]
    }
   ],
   "source": [
    "L = []\n",
    "for i in range(20):\n",
    "    print(i)\n",
    "    L.append(i **2)\n",
    "print(L)"
   ]
  },
  {
   "cell_type": "code",
   "execution_count": 20,
   "id": "35b7f622",
   "metadata": {},
   "outputs": [
    {
     "name": "stdout",
     "output_type": "stream",
     "text": [
      "range(0, 20)\n"
     ]
    }
   ],
   "source": [
    "print(range(20))"
   ]
  },
  {
   "cell_type": "code",
   "execution_count": 28,
   "id": "51a3fd98",
   "metadata": {},
   "outputs": [
    {
     "name": "stdout",
     "output_type": "stream",
     "text": [
      "apple\n",
      "4.9\n",
      "cherry\n",
      "Outside the loop\n"
     ]
    }
   ],
   "source": [
    "S = {\"apple\", 4.9, \"cherry\"}\n",
    "i = 1\n",
    "for x in S:\n",
    "    print(x)\n",
    "    i += 1\n",
    "    if i == 4:\n",
    "        break\n",
    "    else:\n",
    "        pass\n",
    "else:\n",
    "    print(\"Loop terminates with success\")\n",
    "print(\"Outside the loop\")"
   ]
  },
  {
   "cell_type": "code",
   "execution_count": 23,
   "id": "ec9c6dee",
   "metadata": {},
   "outputs": [
    {
     "name": "stdout",
     "output_type": "stream",
     "text": [
      "<class 'set'>\n"
     ]
    }
   ],
   "source": [
    "print(type(S))"
   ]
  },
  {
   "cell_type": "code",
   "execution_count": 29,
   "id": "676c18ba",
   "metadata": {},
   "outputs": [],
   "source": [
    "D = {\"KV-AI-JL-2-2\": \"KIM VERONIKA\", \n",
    "     \"KV-AI-JL-2-15\": \"KIM ROMAN\", \n",
    "     \"KV-AI-JL-2-5\": \"DANABAEV KAKIM\", \n",
    "     \"KV-AI-JL-2-6\": \"KIM KRISTINA\",\n",
    "     \"KV-AI-JL-2-7\": \"PAK MARINA\"}"
   ]
  },
  {
   "cell_type": "code",
   "execution_count": 30,
   "id": "6a0f2934",
   "metadata": {},
   "outputs": [
    {
     "data": {
      "text/plain": [
       "{'KV-AI-JL-2-2': 'KIM VERONIKA',\n",
       " 'KV-AI-JL-2-15': 'KIM ROMAN',\n",
       " 'KV-AI-JL-2-5': 'DANABAEV KAKIM',\n",
       " 'KV-AI-JL-2-6': 'KIM KRISTINA',\n",
       " 'KV-AI-JL-2-7': 'PAK MARINA'}"
      ]
     },
     "execution_count": 30,
     "metadata": {},
     "output_type": "execute_result"
    }
   ],
   "source": [
    "D"
   ]
  },
  {
   "cell_type": "code",
   "execution_count": 31,
   "id": "6c07ba2e",
   "metadata": {},
   "outputs": [
    {
     "data": {
      "text/plain": [
       "'PAK MARINA'"
      ]
     },
     "execution_count": 31,
     "metadata": {},
     "output_type": "execute_result"
    }
   ],
   "source": [
    "D[\"KV-AI-JL-2-7\"]"
   ]
  },
  {
   "cell_type": "code",
   "execution_count": 32,
   "id": "caee11df",
   "metadata": {},
   "outputs": [
    {
     "name": "stdout",
     "output_type": "stream",
     "text": [
      "KV-AI-JL-2-2 KIM VERONIKA\n",
      "KV-AI-JL-2-15 KIM ROMAN\n",
      "KV-AI-JL-2-5 DANABAEV KAKIM\n",
      "KV-AI-JL-2-6 KIM KRISTINA\n",
      "KV-AI-JL-2-7 PAK MARINA\n"
     ]
    }
   ],
   "source": [
    "for x in D:\n",
    "    print(x, D[x])"
   ]
  },
  {
   "cell_type": "code",
   "execution_count": 4,
   "id": "81c046d1",
   "metadata": {},
   "outputs": [
    {
     "name": "stdout",
     "output_type": "stream",
     "text": [
      "[9, 7, 4, 3, 2, 2, 1, -5]\n"
     ]
    }
   ],
   "source": [
    "\"\"\"\n",
    "Given a list numbers i.e. [1, 2, 4, -5, 7, 9, 3, 2], make another list that contains all the items is sorted order \n",
    "from min to max. i.e. your result will be another list like [-5, 1, 2, 2, 3, 7, 9]\n",
    "\"\"\"\n",
    "\n",
    "L = [1, 2, 4, -5, 7, 9, 3, 2]\n",
    "\n",
    "for j in range(len(L)):\n",
    "    m = L[j]\n",
    "    idx = j\n",
    "    c = j\n",
    "    for i in range(j, len(L)):\n",
    "        if L[i] < m:\n",
    "            m = L[i]\n",
    "            idx = c\n",
    "        c += 1\n",
    "    tmp = L[j]\n",
    "    L[j] = m\n",
    "    L[idx] = tmp\n",
    "print(L)"
   ]
  },
  {
   "cell_type": "markdown",
   "id": "b9df636b",
   "metadata": {},
   "source": [
    "## Functions"
   ]
  },
  {
   "cell_type": "code",
   "execution_count": 5,
   "id": "1005a068",
   "metadata": {},
   "outputs": [],
   "source": [
    "def printSuccess():\n",
    "    print(\"I am done\")\n",
    "    print(\"send me another task\")"
   ]
  },
  {
   "cell_type": "code",
   "execution_count": 6,
   "id": "ad3065a7",
   "metadata": {},
   "outputs": [
    {
     "name": "stdout",
     "output_type": "stream",
     "text": [
      "I am done\n",
      "send me another task\n"
     ]
    }
   ],
   "source": [
    "printSuccess()"
   ]
  },
  {
   "cell_type": "code",
   "execution_count": 7,
   "id": "355d9f67",
   "metadata": {},
   "outputs": [],
   "source": [
    "def printSuccess2():\n",
    "    \"\"\"\n",
    "    This function is doing nothing except printing a message.\n",
    "    That message is \"hello\"\n",
    "    \"\"\"\n",
    "    print(\"hello\")"
   ]
  },
  {
   "cell_type": "code",
   "execution_count": 8,
   "id": "fdf0c0ce",
   "metadata": {},
   "outputs": [
    {
     "name": "stdout",
     "output_type": "stream",
     "text": [
      "Help on function printSuccess2 in module __main__:\n",
      "\n",
      "printSuccess2()\n",
      "    This function is doing nothing except printing a message.\n",
      "    That message is \"hello\"\n",
      "\n"
     ]
    }
   ],
   "source": [
    "help(printSuccess2)"
   ]
  },
  {
   "cell_type": "code",
   "execution_count": 10,
   "id": "2ec87883",
   "metadata": {},
   "outputs": [
    {
     "name": "stdout",
     "output_type": "stream",
     "text": [
      "hello\n"
     ]
    }
   ],
   "source": [
    "printSuccess2()"
   ]
  },
  {
   "cell_type": "code",
   "execution_count": 11,
   "id": "1bf9fbda",
   "metadata": {},
   "outputs": [],
   "source": [
    "def print_message(msg):\n",
    "    \"\"\"\n",
    "    The function prints the message supplied by the user or prints that msg is not the form of string\n",
    "    \"\"\"\n",
    "    if isinstance(msg, str):\n",
    "        print(msg)\n",
    "    else:\n",
    "        print(\"Your input argument is not a string\")\n",
    "        print(\"Here is the type of what you have supplied :\", type(msg))\n",
    "    "
   ]
  },
  {
   "cell_type": "code",
   "execution_count": 15,
   "id": "d34af69b",
   "metadata": {
    "scrolled": true
   },
   "outputs": [
    {
     "name": "stdout",
     "output_type": "stream",
     "text": [
      "Help on function print_message in module __main__:\n",
      "\n",
      "print_message(msg)\n",
      "    The function prints the message supplied by the user or prints that msg is not the form of string\n",
      "\n"
     ]
    }
   ],
   "source": [
    "help(print_message)"
   ]
  },
  {
   "cell_type": "code",
   "execution_count": 16,
   "id": "0f2fa437",
   "metadata": {},
   "outputs": [],
   "source": [
    "print_message?"
   ]
  },
  {
   "cell_type": "code",
   "execution_count": 17,
   "id": "427b2f39",
   "metadata": {},
   "outputs": [
    {
     "name": "stdout",
     "output_type": "stream",
     "text": [
      "This is the message\n"
     ]
    }
   ],
   "source": [
    "print_message(\"This is the message\")"
   ]
  },
  {
   "cell_type": "code",
   "execution_count": 18,
   "id": "1f6e7856",
   "metadata": {},
   "outputs": [
    {
     "ename": "TypeError",
     "evalue": "print_message() missing 1 required positional argument: 'msg'",
     "output_type": "error",
     "traceback": [
      "\u001b[1;31m---------------------------------------------------------------------------\u001b[0m",
      "\u001b[1;31mTypeError\u001b[0m                                 Traceback (most recent call last)",
      "\u001b[1;32m~\\AppData\\Local\\Temp/ipykernel_20416/1192969578.py\u001b[0m in \u001b[0;36m<module>\u001b[1;34m\u001b[0m\n\u001b[1;32m----> 1\u001b[1;33m \u001b[0mprint_message\u001b[0m\u001b[1;33m(\u001b[0m\u001b[1;33m)\u001b[0m\u001b[1;33m\u001b[0m\u001b[1;33m\u001b[0m\u001b[0m\n\u001b[0m",
      "\u001b[1;31mTypeError\u001b[0m: print_message() missing 1 required positional argument: 'msg'"
     ]
    }
   ],
   "source": [
    "print_message()"
   ]
  },
  {
   "cell_type": "code",
   "execution_count": 19,
   "id": "03cf6aa4",
   "metadata": {},
   "outputs": [
    {
     "name": "stdout",
     "output_type": "stream",
     "text": [
      "Your input argument is not a string\n",
      "Here is the type of what you have supplied : <class 'int'>\n"
     ]
    }
   ],
   "source": [
    "print_message(55)"
   ]
  },
  {
   "cell_type": "code",
   "execution_count": 20,
   "id": "80f4ece8",
   "metadata": {},
   "outputs": [
    {
     "name": "stdout",
     "output_type": "stream",
     "text": [
      "Hello, Python\n"
     ]
    }
   ],
   "source": [
    "print_message(msg = \"Hello, Python\")"
   ]
  },
  {
   "cell_type": "code",
   "execution_count": 22,
   "id": "b46b6e01",
   "metadata": {},
   "outputs": [
    {
     "name": "stdout",
     "output_type": "stream",
     "text": [
      "Hello, there!\n"
     ]
    }
   ],
   "source": [
    "y = \"Hello, there!\"\n",
    "print_message(msg = y)"
   ]
  },
  {
   "cell_type": "code",
   "execution_count": 24,
   "id": "f1243163",
   "metadata": {},
   "outputs": [],
   "source": [
    "def mypow(a, b):\n",
    "    \"\"\"\n",
    "    This function computes power just like builtin pow function\n",
    "    \"\"\"\n",
    "    c = a **b\n",
    "    \n",
    "    print(c)"
   ]
  },
  {
   "cell_type": "code",
   "execution_count": 25,
   "id": "bdf28c57",
   "metadata": {},
   "outputs": [],
   "source": [
    "mypow?"
   ]
  },
  {
   "cell_type": "code",
   "execution_count": 26,
   "id": "60c5ed8a",
   "metadata": {},
   "outputs": [
    {
     "name": "stdout",
     "output_type": "stream",
     "text": [
      "81\n"
     ]
    }
   ],
   "source": [
    "mypow(3, 4)"
   ]
  },
  {
   "cell_type": "code",
   "execution_count": 27,
   "id": "7c5931d8",
   "metadata": {},
   "outputs": [],
   "source": [
    "def check_args (a, b, c):\n",
    "    if isinstance(a, (int, float)) and isinstance(b, (int, float)) and isinstance(c, (int, float)):\n",
    "        print((a + b + c)**2)\n",
    "    else:\n",
    "        print(\"Error: the input arguments are not of the expected types\")"
   ]
  },
  {
   "cell_type": "code",
   "execution_count": 28,
   "id": "f0ecce21",
   "metadata": {},
   "outputs": [
    {
     "name": "stdout",
     "output_type": "stream",
     "text": [
      "144\n"
     ]
    }
   ],
   "source": [
    "check_args(3, 4, 5)"
   ]
  },
  {
   "cell_type": "code",
   "execution_count": 29,
   "id": "435bebfe",
   "metadata": {},
   "outputs": [
    {
     "name": "stdout",
     "output_type": "stream",
     "text": [
      "Error: the input arguments are not of the expected types\n"
     ]
    }
   ],
   "source": [
    "check_args(3, 4, \"g\")"
   ]
  },
  {
   "cell_type": "code",
   "execution_count": 30,
   "id": "7ab5ec15",
   "metadata": {},
   "outputs": [
    {
     "ename": "TypeError",
     "evalue": "check_args() missing 1 required positional argument: 'c'",
     "output_type": "error",
     "traceback": [
      "\u001b[1;31m---------------------------------------------------------------------------\u001b[0m",
      "\u001b[1;31mTypeError\u001b[0m                                 Traceback (most recent call last)",
      "\u001b[1;32m~\\AppData\\Local\\Temp/ipykernel_20416/4111531996.py\u001b[0m in \u001b[0;36m<module>\u001b[1;34m\u001b[0m\n\u001b[1;32m----> 1\u001b[1;33m \u001b[0mcheck_args\u001b[0m\u001b[1;33m(\u001b[0m\u001b[1;36m3\u001b[0m\u001b[1;33m,\u001b[0m \u001b[1;36m4\u001b[0m\u001b[1;33m)\u001b[0m\u001b[1;33m\u001b[0m\u001b[1;33m\u001b[0m\u001b[0m\n\u001b[0m",
      "\u001b[1;31mTypeError\u001b[0m: check_args() missing 1 required positional argument: 'c'"
     ]
    }
   ],
   "source": [
    "check_args(3, 4)"
   ]
  },
  {
   "cell_type": "code",
   "execution_count": 31,
   "id": "c04ca7ff",
   "metadata": {},
   "outputs": [
    {
     "ename": "TypeError",
     "evalue": "check_args() takes 3 positional arguments but 4 were given",
     "output_type": "error",
     "traceback": [
      "\u001b[1;31m---------------------------------------------------------------------------\u001b[0m",
      "\u001b[1;31mTypeError\u001b[0m                                 Traceback (most recent call last)",
      "\u001b[1;32m~\\AppData\\Local\\Temp/ipykernel_20416/3467621114.py\u001b[0m in \u001b[0;36m<module>\u001b[1;34m\u001b[0m\n\u001b[1;32m----> 1\u001b[1;33m \u001b[0mcheck_args\u001b[0m\u001b[1;33m(\u001b[0m\u001b[1;36m2\u001b[0m\u001b[1;33m,\u001b[0m \u001b[1;36m3\u001b[0m\u001b[1;33m,\u001b[0m \u001b[1;36m4\u001b[0m\u001b[1;33m,\u001b[0m \u001b[1;36m5\u001b[0m\u001b[1;33m)\u001b[0m\u001b[1;33m\u001b[0m\u001b[1;33m\u001b[0m\u001b[0m\n\u001b[0m",
      "\u001b[1;31mTypeError\u001b[0m: check_args() takes 3 positional arguments but 4 were given"
     ]
    }
   ],
   "source": [
    "check_args(2, 3, 4, 5)"
   ]
  },
  {
   "cell_type": "code",
   "execution_count": 32,
   "id": "6a9b430a",
   "metadata": {},
   "outputs": [],
   "source": [
    "def f (a, b, c):\n",
    "    print(\"A is : \", a)\n",
    "    print(\"B is : \", b)\n",
    "    print(\"C is : \", c)"
   ]
  },
  {
   "cell_type": "code",
   "execution_count": 33,
   "id": "44d2be58",
   "metadata": {},
   "outputs": [
    {
     "name": "stdout",
     "output_type": "stream",
     "text": [
      "A is :  2\n",
      "B is :  3\n",
      "C is :  game\n"
     ]
    }
   ],
   "source": [
    "f(2, 3, \"game\")"
   ]
  },
  {
   "cell_type": "code",
   "execution_count": 34,
   "id": "a032ffa1",
   "metadata": {},
   "outputs": [
    {
     "name": "stdout",
     "output_type": "stream",
     "text": [
      "A is :  3\n",
      "B is :  game\n",
      "C is :  2\n"
     ]
    }
   ],
   "source": [
    "f(3, \"game\", 2)"
   ]
  },
  {
   "cell_type": "code",
   "execution_count": 35,
   "id": "4dafa283",
   "metadata": {},
   "outputs": [
    {
     "name": "stdout",
     "output_type": "stream",
     "text": [
      "A is :  2\n",
      "B is :  3\n",
      "C is :  game\n"
     ]
    }
   ],
   "source": [
    "f(a = 2, b = 3, c = \"game\")"
   ]
  },
  {
   "cell_type": "code",
   "execution_count": 36,
   "id": "824b90f4",
   "metadata": {},
   "outputs": [
    {
     "name": "stdout",
     "output_type": "stream",
     "text": [
      "A is :  2\n",
      "B is :  3\n",
      "C is :  game\n"
     ]
    }
   ],
   "source": [
    "f (c = \"game\", a = 2, b = 3)"
   ]
  },
  {
   "cell_type": "code",
   "execution_count": 37,
   "id": "3fa7214c",
   "metadata": {},
   "outputs": [],
   "source": [
    "def myadd(a, b):\n",
    "    sumValue = a + b\n",
    "    return sumValue"
   ]
  },
  {
   "cell_type": "code",
   "execution_count": 40,
   "id": "7e71b9f1",
   "metadata": {},
   "outputs": [],
   "source": [
    "d = myadd(2, 3)"
   ]
  },
  {
   "cell_type": "code",
   "execution_count": 41,
   "id": "5c366bd5",
   "metadata": {},
   "outputs": [
    {
     "data": {
      "text/plain": [
       "5"
      ]
     },
     "execution_count": 41,
     "metadata": {},
     "output_type": "execute_result"
    }
   ],
   "source": [
    "d"
   ]
  },
  {
   "cell_type": "code",
   "execution_count": 42,
   "id": "6653e884",
   "metadata": {},
   "outputs": [],
   "source": [
    "variableOutSideTheFunction = 3"
   ]
  },
  {
   "cell_type": "code",
   "execution_count": 43,
   "id": "77ec78a8",
   "metadata": {},
   "outputs": [],
   "source": [
    "def g():\n",
    "    variableOutSideTheFunction = 5\n",
    "    print(variableOutSideTheFunction)"
   ]
  },
  {
   "cell_type": "code",
   "execution_count": 45,
   "id": "85277fee",
   "metadata": {},
   "outputs": [
    {
     "name": "stdout",
     "output_type": "stream",
     "text": [
      "3\n",
      "5\n",
      "3\n"
     ]
    }
   ],
   "source": [
    "print(variableOutSideTheFunction)\n",
    "g()\n",
    "print(variableOutSideTheFunction)"
   ]
  },
  {
   "cell_type": "code",
   "execution_count": 50,
   "id": "416c64a7",
   "metadata": {},
   "outputs": [
    {
     "name": "stdout",
     "output_type": "stream",
     "text": [
      "5\n",
      "<class 'NoneType'>\n"
     ]
    }
   ],
   "source": [
    "print(type(g()))"
   ]
  },
  {
   "cell_type": "code",
   "execution_count": 51,
   "id": "18637b02",
   "metadata": {},
   "outputs": [],
   "source": [
    "def h():\n",
    "    print(\"A\")\n",
    "    a = 3\n",
    "    b = 5\n",
    "    c = a + b\n",
    "    print(\"something\")\n",
    "    return c\n",
    "    print(\"B\")\n",
    "    print(\"C\")"
   ]
  },
  {
   "cell_type": "code",
   "execution_count": 52,
   "id": "d775d1cc",
   "metadata": {},
   "outputs": [
    {
     "name": "stdout",
     "output_type": "stream",
     "text": [
      "A\n",
      "something\n"
     ]
    },
    {
     "data": {
      "text/plain": [
       "8"
      ]
     },
     "execution_count": 52,
     "metadata": {},
     "output_type": "execute_result"
    }
   ],
   "source": [
    "h()"
   ]
  },
  {
   "cell_type": "code",
   "execution_count": 55,
   "id": "733e1fe2",
   "metadata": {},
   "outputs": [
    {
     "name": "stdout",
     "output_type": "stream",
     "text": [
      "A\n",
      "something\n",
      "<class 'int'>\n"
     ]
    }
   ],
   "source": [
    "print(type(h()))"
   ]
  },
  {
   "cell_type": "code",
   "execution_count": 58,
   "id": "1b4c112b",
   "metadata": {},
   "outputs": [],
   "source": [
    "def r():\n",
    "    a = 5\n",
    "    b = 7\n",
    "    d = \"something\"\n",
    "    return a, b, d"
   ]
  },
  {
   "cell_type": "code",
   "execution_count": 59,
   "id": "c74b1772",
   "metadata": {},
   "outputs": [
    {
     "name": "stdout",
     "output_type": "stream",
     "text": [
      "5 7 something\n"
     ]
    }
   ],
   "source": [
    "x, y, z = r()\n",
    "print(x, y, z)"
   ]
  },
  {
   "cell_type": "code",
   "execution_count": 1,
   "id": "c519af49",
   "metadata": {},
   "outputs": [
    {
     "name": "stdout",
     "output_type": "stream",
     "text": [
      "[1, 2, 4, -5, 7, 9, 3, 2]\n",
      "Swap positions 0 and 3\n",
      "1 is going right.\n",
      "-5 is going left.\n",
      "[-5, 2, 4, 1, 7, 9, 3, 2]\n",
      "Swap positions 1 and 3\n",
      "2 is going right.\n",
      "1 is going left.\n",
      "[-5, 1, 4, 2, 7, 9, 3, 2]\n",
      "Swap positions 2 and 3\n",
      "4 is going right.\n",
      "2 is going left.\n",
      "[-5, 1, 2, 4, 7, 9, 3, 2]\n",
      "Swap positions 3 and 7\n",
      "4 is going right.\n",
      "2 is going left.\n",
      "[-5, 1, 2, 2, 7, 9, 3, 4]\n",
      "Swap positions 4 and 6\n",
      "7 is going right.\n",
      "3 is going left.\n",
      "[-5, 1, 2, 2, 3, 9, 7, 4]\n",
      "Swap positions 5 and 7\n",
      "9 is going right.\n",
      "4 is going left.\n",
      "[-5, 1, 2, 2, 3, 4, 7, 9]\n",
      "Swap positions 6 and 6\n",
      "7 is going right.\n",
      "7 is going left.\n",
      "[-5, 1, 2, 2, 3, 4, 7, 9]\n",
      "Swap positions 7 and 7\n",
      "9 is going right.\n",
      "9 is going left.\n",
      "[-5, 1, 2, 2, 3, 4, 7, 9]\n"
     ]
    }
   ],
   "source": [
    "my_list = [1, 2, 4, -5, 7, 9, 3, 2]\n",
    "print(my_list)\n",
    "for j in range(len(my_list)):\n",
    "    left_candidate_value = my_list[j]\n",
    "    left_candidate_idx = j\n",
    "    for i in range(j, len(my_list)):\n",
    "        if my_list[i] < left_candidate_value:\n",
    "            left_candidate_value = my_list[i]\n",
    "            left_candidate_idx = i\n",
    "    # swap\n",
    "    right_candidate_value = my_list[j]\n",
    "    print(\"Swap positions \" + str(j) + \" and \" + str(left_candidate_idx))\n",
    "    print(str(right_candidate_value) + \" is going right.\")\n",
    "    print(str(left_candidate_value) + \" is going left.\")\n",
    "    my_list[j] = left_candidate_value\n",
    "    my_list[left_candidate_idx] = right_candidate_value\n",
    "    print(my_list)\n"
   ]
  },
  {
   "cell_type": "code",
   "execution_count": 4,
   "id": "f034bcb3",
   "metadata": {},
   "outputs": [],
   "source": [
    "def myAddUniversal(*args):\n",
    "    s = 0\n",
    "    for i in range(len(args)):\n",
    "        s += args[i]\n",
    "        \n",
    "    return s"
   ]
  },
  {
   "cell_type": "code",
   "execution_count": 19,
   "id": "9b766c8d",
   "metadata": {},
   "outputs": [
    {
     "name": "stdout",
     "output_type": "stream",
     "text": [
      "93.6\n"
     ]
    }
   ],
   "source": [
    "print(myAddUniversal(2, 4, 5, 4.6, 78))"
   ]
  },
  {
   "cell_type": "code",
   "execution_count": 18,
   "id": "7f3e7411",
   "metadata": {},
   "outputs": [],
   "source": [
    "def myAddUniversal(*args):\n",
    "    s = 0\n",
    "    i = 0\n",
    "    while i < len(args):\n",
    "        s += args[i]\n",
    "        i += 1\n",
    "    return s"
   ]
  },
  {
   "cell_type": "code",
   "execution_count": 20,
   "id": "be26152f",
   "metadata": {},
   "outputs": [],
   "source": [
    "def printAllVariablesNamesAndValues(**args):\n",
    "    for x in args:\n",
    "        print(\"Variable name is \", x, \" and Value is : \", args[x])"
   ]
  },
  {
   "cell_type": "code",
   "execution_count": 21,
   "id": "831c3f49",
   "metadata": {},
   "outputs": [
    {
     "name": "stdout",
     "output_type": "stream",
     "text": [
      "Variable name is  a  and Value is :  3\n",
      "Variable name is  b  and Value is :  B\n",
      "Variable name is  c  and Value is :  CCC\n",
      "Variable name is  y  and Value is :  6.7\n"
     ]
    }
   ],
   "source": [
    "printAllVariablesNamesAndValues(a = 3, b = \"B\", c = \"CCC\", y = 6.7)"
   ]
  },
  {
   "cell_type": "code",
   "execution_count": 31,
   "id": "cb33e482",
   "metadata": {},
   "outputs": [],
   "source": [
    "def summary (a = 10, b = 10):\n",
    "    print(a + b)"
   ]
  },
  {
   "cell_type": "code",
   "execution_count": 34,
   "id": "701341a8",
   "metadata": {},
   "outputs": [
    {
     "name": "stdout",
     "output_type": "stream",
     "text": [
      "30\n"
     ]
    }
   ],
   "source": [
    "summary(15, 15)"
   ]
  },
  {
   "cell_type": "code",
   "execution_count": 37,
   "id": "da3304ca",
   "metadata": {},
   "outputs": [
    {
     "name": "stdout",
     "output_type": "stream",
     "text": [
      "[1, 2, 3]\n",
      "[-9, 2, 3]\n"
     ]
    }
   ],
   "source": [
    "L = [1, 2, 3]\n",
    "L2 = L\n",
    "L2[0] = -9\n",
    "print(L)\n",
    "print(L2)"
   ]
  },
  {
   "cell_type": "code",
   "execution_count": 47,
   "id": "8c15f21f",
   "metadata": {},
   "outputs": [],
   "source": [
    "def ff (L = [1, 2]):\n",
    "    for i in L:\n",
    "        print(i)"
   ]
  },
  {
   "cell_type": "code",
   "execution_count": 48,
   "id": "5316108e",
   "metadata": {},
   "outputs": [
    {
     "name": "stdout",
     "output_type": "stream",
     "text": [
      "20\n"
     ]
    }
   ],
   "source": [
    "ff (L = [20])"
   ]
  },
  {
   "cell_type": "code",
   "execution_count": 49,
   "id": "a6d1e181",
   "metadata": {},
   "outputs": [
    {
     "name": "stdout",
     "output_type": "stream",
     "text": [
      "15\n",
      "12\n",
      "25\n"
     ]
    }
   ],
   "source": [
    "L2 = [15, 12, 25]\n",
    "ff(L2)"
   ]
  },
  {
   "cell_type": "code",
   "execution_count": 14,
   "id": "466a7ffc",
   "metadata": {},
   "outputs": [],
   "source": [
    "def string(word):\n",
    "    vowels = ['a', 'e', 'i', 'o', 'u']\n",
    "    count = 0\n",
    "    for i in word:\n",
    "        print(i)\n",
    "        if i in vowels:\n",
    "            count += 1\n",
    "    return count"
   ]
  },
  {
   "cell_type": "code",
   "execution_count": 15,
   "id": "7a18da29",
   "metadata": {},
   "outputs": [
    {
     "name": "stdout",
     "output_type": "stream",
     "text": [
      "rainbow\n",
      "r\n",
      "a\n",
      "i\n",
      "n\n",
      "b\n",
      "o\n",
      "w\n"
     ]
    },
    {
     "data": {
      "text/plain": [
       "3"
      ]
     },
     "execution_count": 15,
     "metadata": {},
     "output_type": "execute_result"
    }
   ],
   "source": [
    "string(str(input()))"
   ]
  },
  {
   "cell_type": "code",
   "execution_count": 16,
   "id": "7eee7125",
   "metadata": {},
   "outputs": [],
   "source": [
    "from my_universal_functions import addAllNumerics"
   ]
  },
  {
   "cell_type": "code",
   "execution_count": 17,
   "id": "d582f86c",
   "metadata": {},
   "outputs": [
    {
     "name": "stdout",
     "output_type": "stream",
     "text": [
      "27\n"
     ]
    }
   ],
   "source": [
    "d = addAllNumerics(2, 3, 4, 5, 6, 7)\n",
    "print(d)"
   ]
  },
  {
   "cell_type": "code",
   "execution_count": 20,
   "id": "fb5cc8ed",
   "metadata": {},
   "outputs": [],
   "source": [
    "import my_universal_functions as myfs"
   ]
  },
  {
   "cell_type": "code",
   "execution_count": 21,
   "id": "182c8097",
   "metadata": {},
   "outputs": [
    {
     "name": "stdout",
     "output_type": "stream",
     "text": [
      "15\n"
     ]
    }
   ],
   "source": [
    "c = myfs.addAllNumerics(2, 3, 4, 6)\n",
    "print(c)"
   ]
  },
  {
   "cell_type": "code",
   "execution_count": 22,
   "id": "acbc6869",
   "metadata": {},
   "outputs": [
    {
     "data": {
      "text/plain": [
       "'Python course'"
      ]
     },
     "execution_count": 22,
     "metadata": {},
     "output_type": "execute_result"
    }
   ],
   "source": [
    "myfs.myName"
   ]
  },
  {
   "cell_type": "code",
   "execution_count": 23,
   "id": "7adadad6",
   "metadata": {},
   "outputs": [],
   "source": [
    "def findMin(L, startIndx):\n",
    "    m = L[startIndx]\n",
    "    idx = startIndx\n",
    "    for i in range(startIndx, len(L)):\n",
    "        x = L[i]\n",
    "        if x < m:\n",
    "            m = x\n",
    "            idx = i\n",
    "        else:\n",
    "            pass\n",
    "    return m, idx"
   ]
  },
  {
   "cell_type": "code",
   "execution_count": 24,
   "id": "f4179c88",
   "metadata": {},
   "outputs": [
    {
     "name": "stdout",
     "output_type": "stream",
     "text": [
      "0 3\n"
     ]
    }
   ],
   "source": [
    "a, b = findMin([2, 3, 4, 0, 9], 0)\n",
    "print(a, b)"
   ]
  },
  {
   "cell_type": "code",
   "execution_count": 25,
   "id": "e49da1c5",
   "metadata": {},
   "outputs": [],
   "source": [
    "def swapValues(L, idx1, idx2):\n",
    "    tmp = L[idx1]\n",
    "    L[idx1] = L[idx2]\n",
    "    L[idx2] = tmp\n",
    "    return L"
   ]
  },
  {
   "cell_type": "code",
   "execution_count": 26,
   "id": "abb7e27d",
   "metadata": {},
   "outputs": [
    {
     "name": "stdout",
     "output_type": "stream",
     "text": [
      "[2, 7, 6, 3]\n"
     ]
    }
   ],
   "source": [
    "L = [2, 3, 6, 7]\n",
    "L2 = swapValues(L, 1, 3)\n",
    "print(L2)"
   ]
  },
  {
   "cell_type": "code",
   "execution_count": 27,
   "id": "7992ad86",
   "metadata": {},
   "outputs": [],
   "source": [
    "from my_universal_functions import checkIfNotNumeric\n",
    "def sortList(L):\n",
    "    if not(checkIfNotNumeric(L)):\n",
    "        print(\"Error: Not all values are numeric\")\n",
    "        return\n",
    "    else:\n",
    "        c = 0\n",
    "        for x in L:\n",
    "            m, idx = findMin(L, c)\n",
    "            L = swapValues(L, c, idx)\n",
    "            c += 1\n",
    "    return L"
   ]
  },
  {
   "cell_type": "code",
   "execution_count": 28,
   "id": "667c0b5b",
   "metadata": {},
   "outputs": [
    {
     "name": "stdout",
     "output_type": "stream",
     "text": [
      "[-8, 1, 2, 3, 5, 17]\n"
     ]
    }
   ],
   "source": [
    "L2 = sortList([2, 1, 5, 3, -8, 17])\n",
    "print(L2)"
   ]
  },
  {
   "cell_type": "markdown",
   "id": "662fc1ad",
   "metadata": {},
   "source": [
    "## OOP"
   ]
  },
  {
   "cell_type": "code",
   "execution_count": 29,
   "id": "06e490f6",
   "metadata": {},
   "outputs": [],
   "source": [
    "class Transport:\n",
    "    def __init__(self, v_type, n_wheels, brand):\n",
    "        self.v_type = v_type\n",
    "        self.n_wheels = n_wheels\n",
    "        self.brand = brand\n",
    "        self.speed = 0\n",
    "    \n",
    "    def accelarate(self, speed):\n",
    "        self.speed += speed\n",
    "        \n",
    "    def get_speed(self):\n",
    "        print(\"Current speed: {}\".format(self.speed))\n",
    "        \n",
    "    def slow_down(self, speed):\n",
    "        if (self.speed - speed) < 0:\n",
    "            self.speed = 0\n",
    "        else:\n",
    "            self.speed -= speed"
   ]
  },
  {
   "cell_type": "code",
   "execution_count": 31,
   "id": "5610172c",
   "metadata": {},
   "outputs": [],
   "source": [
    "class Plane(Transport):\n",
    "    def __init__(self, n_wheels, brand):\n",
    "        super().__init__(\"Plane\", n_wheels, brand)\n",
    "        \n",
    "    def take_off(self):\n",
    "        print(\"Taking off... Wheeee\")\n",
    "        \n",
    "    def landing(self):\n",
    "        print(\"Wheee boodysh!\")"
   ]
  },
  {
   "cell_type": "code",
   "execution_count": 32,
   "id": "901e54d7",
   "metadata": {},
   "outputs": [],
   "source": [
    "airplane = Plane(8, \"Boeing\")"
   ]
  },
  {
   "cell_type": "code",
   "execution_count": 33,
   "id": "ced36dd8",
   "metadata": {},
   "outputs": [],
   "source": [
    "airplane.accelarate(300)"
   ]
  },
  {
   "cell_type": "code",
   "execution_count": 34,
   "id": "4dbe62ea",
   "metadata": {},
   "outputs": [
    {
     "name": "stdout",
     "output_type": "stream",
     "text": [
      "Current speed: 300\n"
     ]
    }
   ],
   "source": [
    "airplane.get_speed()"
   ]
  },
  {
   "cell_type": "code",
   "execution_count": 35,
   "id": "51f6daf9",
   "metadata": {},
   "outputs": [
    {
     "name": "stdout",
     "output_type": "stream",
     "text": [
      "Taking off... Wheeee\n"
     ]
    }
   ],
   "source": [
    "airplane.take_off()"
   ]
  },
  {
   "cell_type": "code",
   "execution_count": 36,
   "id": "c081759e",
   "metadata": {},
   "outputs": [
    {
     "data": {
      "text/plain": [
       "'Boeing'"
      ]
     },
     "execution_count": 36,
     "metadata": {},
     "output_type": "execute_result"
    }
   ],
   "source": [
    "airplane.brand"
   ]
  },
  {
   "cell_type": "code",
   "execution_count": 37,
   "id": "92179328",
   "metadata": {},
   "outputs": [],
   "source": [
    "class Car(Transport):\n",
    "    def __init__(self, engine_type, n_wheels, brand, model):\n",
    "        self.engine_type = engine_type\n",
    "        self.model = model\n",
    "        super().__init__(\"Car\", n_wheels, brand)\n",
    "    \n",
    "    def accelarate(self, speed):\n",
    "        if (self.speed + speed) > 320:\n",
    "            print(\"MAX SPEED IS 320 km/h\")\n",
    "            self.speed = 320"
   ]
  },
  {
   "cell_type": "code",
   "execution_count": 38,
   "id": "a11916b7",
   "metadata": {},
   "outputs": [],
   "source": [
    "tesla = Car(\"EV\", 4, 'Tesla', 'Model S')"
   ]
  },
  {
   "cell_type": "code",
   "execution_count": 39,
   "id": "0a8d9b75",
   "metadata": {},
   "outputs": [
    {
     "data": {
      "text/plain": [
       "'EV'"
      ]
     },
     "execution_count": 39,
     "metadata": {},
     "output_type": "execute_result"
    }
   ],
   "source": [
    "tesla.engine_type"
   ]
  },
  {
   "cell_type": "code",
   "execution_count": 40,
   "id": "aa05a4a8",
   "metadata": {},
   "outputs": [
    {
     "name": "stdout",
     "output_type": "stream",
     "text": [
      "MAX SPEED IS 320 km/h\n"
     ]
    }
   ],
   "source": [
    "tesla.accelarate(450)"
   ]
  },
  {
   "cell_type": "code",
   "execution_count": 41,
   "id": "56de776d",
   "metadata": {},
   "outputs": [
    {
     "data": {
      "text/plain": [
       "320"
      ]
     },
     "execution_count": 41,
     "metadata": {},
     "output_type": "execute_result"
    }
   ],
   "source": [
    "tesla.speed"
   ]
  },
  {
   "cell_type": "code",
   "execution_count": 42,
   "id": "95bb8b80",
   "metadata": {},
   "outputs": [
    {
     "name": "stdout",
     "output_type": "stream",
     "text": [
      "Current speed: 320\n"
     ]
    }
   ],
   "source": [
    "tesla.get_speed()"
   ]
  },
  {
   "cell_type": "code",
   "execution_count": 1,
   "id": "d1f5c4db",
   "metadata": {},
   "outputs": [],
   "source": [
    "L = [12, 0, 154, 78, 21, 78, 94, 13, 45, 45, 89, 66, 55, 44, 10, 221]"
   ]
  },
  {
   "cell_type": "code",
   "execution_count": 2,
   "id": "096d5d57",
   "metadata": {},
   "outputs": [
    {
     "data": {
      "text/plain": [
       "16"
      ]
     },
     "execution_count": 2,
     "metadata": {},
     "output_type": "execute_result"
    }
   ],
   "source": [
    "len(L)"
   ]
  },
  {
   "cell_type": "code",
   "execution_count": 3,
   "id": "ce5fde77",
   "metadata": {},
   "outputs": [
    {
     "data": {
      "text/plain": [
       "12"
      ]
     },
     "execution_count": 3,
     "metadata": {},
     "output_type": "execute_result"
    }
   ],
   "source": [
    "L[0]"
   ]
  },
  {
   "cell_type": "code",
   "execution_count": 32,
   "id": "a5dd53ea",
   "metadata": {},
   "outputs": [],
   "source": [
    "L[5] = 777"
   ]
  },
  {
   "cell_type": "code",
   "execution_count": 33,
   "id": "e365b996",
   "metadata": {},
   "outputs": [
    {
     "data": {
      "text/plain": [
       "[12, 0, 154, 78, 21, 777, 94, 13, 45, 45, 89]"
      ]
     },
     "execution_count": 33,
     "metadata": {},
     "output_type": "execute_result"
    }
   ],
   "source": [
    "L[:-5]"
   ]
  },
  {
   "cell_type": "code",
   "execution_count": 15,
   "id": "9a0eec66",
   "metadata": {},
   "outputs": [
    {
     "name": "stdout",
     "output_type": "stream",
     "text": [
      "this is line 1\n",
      "this is line 2\n",
      "this is last line and this line is 3\n"
     ]
    }
   ],
   "source": [
    "a = \"\"\"this is line 1\n",
    "this is line 2\n",
    "this is last line and this line is 3\"\"\"\n",
    "print(a)"
   ]
  },
  {
   "cell_type": "code",
   "execution_count": 16,
   "id": "dae8223e",
   "metadata": {},
   "outputs": [
    {
     "name": "stdout",
     "output_type": "stream",
     "text": [
      " The following options are available:\n",
      "            -a     : does nothing\n",
      "            -b     : also does mothing\n"
     ]
    }
   ],
   "source": [
    "print(\"\"\" The following options are available:\n",
    "            -a     : does nothing\n",
    "            -b     : also does mothing\"\"\")"
   ]
  },
  {
   "cell_type": "code",
   "execution_count": 17,
   "id": "df6916de",
   "metadata": {},
   "outputs": [
    {
     "name": "stdout",
     "output_type": "stream",
     "text": [
      "r\n"
     ]
    }
   ],
   "source": [
    "s = \"How are you and who are you\"\n",
    "print(s[5])"
   ]
  },
  {
   "cell_type": "code",
   "execution_count": 18,
   "id": "10cef863",
   "metadata": {},
   "outputs": [
    {
     "data": {
      "text/plain": [
       "str"
      ]
     },
     "execution_count": 18,
     "metadata": {},
     "output_type": "execute_result"
    }
   ],
   "source": [
    "type(s[5])"
   ]
  },
  {
   "cell_type": "code",
   "execution_count": 19,
   "id": "bd171ac5",
   "metadata": {},
   "outputs": [
    {
     "data": {
      "text/plain": [
       "'How are yo'"
      ]
     },
     "execution_count": 19,
     "metadata": {},
     "output_type": "execute_result"
    }
   ],
   "source": [
    "s[0:10]"
   ]
  },
  {
   "cell_type": "code",
   "execution_count": 20,
   "id": "62c59326",
   "metadata": {},
   "outputs": [
    {
     "data": {
      "text/plain": [
       "'u'"
      ]
     },
     "execution_count": 20,
     "metadata": {},
     "output_type": "execute_result"
    }
   ],
   "source": [
    "s[-1]"
   ]
  },
  {
   "cell_type": "code",
   "execution_count": 21,
   "id": "98ff457f",
   "metadata": {},
   "outputs": [
    {
     "data": {
      "text/plain": [
       "'y'"
      ]
     },
     "execution_count": 21,
     "metadata": {},
     "output_type": "execute_result"
    }
   ],
   "source": [
    "s[-3]"
   ]
  },
  {
   "cell_type": "code",
   "execution_count": 23,
   "id": "11b0f64a",
   "metadata": {},
   "outputs": [
    {
     "data": {
      "text/plain": [
       "' who are '"
      ]
     },
     "execution_count": 23,
     "metadata": {},
     "output_type": "execute_result"
    }
   ],
   "source": [
    "s[-12:-3]"
   ]
  },
  {
   "cell_type": "code",
   "execution_count": 26,
   "id": "b5ecb0ad",
   "metadata": {},
   "outputs": [
    {
     "ename": "TypeError",
     "evalue": "'str' object does not support item assignment",
     "output_type": "error",
     "traceback": [
      "\u001b[1;31m---------------------------------------------------------------------------\u001b[0m",
      "\u001b[1;31mTypeError\u001b[0m                                 Traceback (most recent call last)",
      "\u001b[1;32m~\\AppData\\Local\\Temp/ipykernel_25288/1401059370.py\u001b[0m in \u001b[0;36m<module>\u001b[1;34m\u001b[0m\n\u001b[1;32m----> 1\u001b[1;33m \u001b[0ms\u001b[0m\u001b[1;33m[\u001b[0m\u001b[1;36m1\u001b[0m\u001b[1;33m]\u001b[0m \u001b[1;33m=\u001b[0m \u001b[1;34m\"e\"\u001b[0m\u001b[1;33m\u001b[0m\u001b[1;33m\u001b[0m\u001b[0m\n\u001b[0m",
      "\u001b[1;31mTypeError\u001b[0m: 'str' object does not support item assignment"
     ]
    }
   ],
   "source": [
    "s[1] = \"e\""
   ]
  },
  {
   "cell_type": "code",
   "execution_count": 30,
   "id": "248d76ec",
   "metadata": {},
   "outputs": [
    {
     "data": {
      "text/plain": [
       "'Hwaeyu'"
      ]
     },
     "execution_count": 30,
     "metadata": {},
     "output_type": "execute_result"
    }
   ],
   "source": [
    "# s[start_index:end_index:step]\n",
    "s[0:12:2]"
   ]
  },
  {
   "cell_type": "code",
   "execution_count": 31,
   "id": "d1a321f6",
   "metadata": {},
   "outputs": [
    {
     "data": {
      "text/plain": [
       "'uoy era ohw dna uoy era woH'"
      ]
     },
     "execution_count": 31,
     "metadata": {},
     "output_type": "execute_result"
    }
   ],
   "source": [
    "s[::-1]"
   ]
  },
  {
   "cell_type": "code",
   "execution_count": 37,
   "id": "f9edd794",
   "metadata": {},
   "outputs": [
    {
     "name": "stdout",
     "output_type": "stream",
     "text": [
      "abc def            hqq    asdfaf\n"
     ]
    }
   ],
   "source": [
    "a = \"       abc def            hqq    asdfaf         \"\n",
    "b = a.strip()\n",
    "print(b)"
   ]
  },
  {
   "cell_type": "code",
   "execution_count": 38,
   "id": "64aade77",
   "metadata": {},
   "outputs": [
    {
     "name": "stdout",
     "output_type": "stream",
     "text": [
      "abc defg ;; sadfa qf\n"
     ]
    }
   ],
   "source": [
    "a = \"ABC deFg ;; sadfa QF\"\n",
    "b = a.lower()\n",
    "\n",
    "print(b)"
   ]
  },
  {
   "cell_type": "code",
   "execution_count": 42,
   "id": "d5ce3f4c",
   "metadata": {},
   "outputs": [
    {
     "name": "stdout",
     "output_type": "stream",
     "text": [
      "ABC DEFG ;; SADFA QF\n"
     ]
    }
   ],
   "source": [
    "c = a.upper()\n",
    "print(c)"
   ]
  },
  {
   "cell_type": "code",
   "execution_count": 48,
   "id": "792cd090",
   "metadata": {},
   "outputs": [
    {
     "name": "stdout",
     "output_type": "stream",
     "text": [
      "ABC deFg ** sadfa QF\n"
     ]
    }
   ],
   "source": [
    "d = a.replace(\";\", \"*\")\n",
    "print(d)"
   ]
  },
  {
   "cell_type": "code",
   "execution_count": 50,
   "id": "e0f1f3ad",
   "metadata": {},
   "outputs": [
    {
     "name": "stdout",
     "output_type": "stream",
     "text": [
      "ABC deFg two semi colons sadfa QF\n"
     ]
    }
   ],
   "source": [
    "d = a.replace(\";;\", \"two semi colons\")\n",
    "print(d)"
   ]
  },
  {
   "cell_type": "code",
   "execution_count": 51,
   "id": "fb13ffee",
   "metadata": {},
   "outputs": [
    {
     "name": "stdout",
     "output_type": "stream",
     "text": [
      "['abc', 'def', 'hqydfa', 'yy23']\n",
      "<class 'list'>\n"
     ]
    }
   ],
   "source": [
    "a = \"abc;def;hqydfa;yy23\"\n",
    "L = a.split(\";\")\n",
    "print(L)\n",
    "print(type(L))"
   ]
  },
  {
   "cell_type": "code",
   "execution_count": 52,
   "id": "4728e447",
   "metadata": {},
   "outputs": [
    {
     "data": {
      "text/plain": [
       "'def'"
      ]
     },
     "execution_count": 52,
     "metadata": {},
     "output_type": "execute_result"
    }
   ],
   "source": [
    "L[1]"
   ]
  },
  {
   "cell_type": "code",
   "execution_count": 53,
   "id": "475504e4",
   "metadata": {},
   "outputs": [
    {
     "name": "stdout",
     "output_type": "stream",
     "text": [
      "Abc;def;hqydfa;yy23\n"
     ]
    }
   ],
   "source": [
    "print(a.capitalize())"
   ]
  },
  {
   "cell_type": "code",
   "execution_count": 57,
   "id": "e621e107",
   "metadata": {},
   "outputs": [
    {
     "name": "stdout",
     "output_type": "stream",
     "text": [
      "Object `capitalize` not found.\n"
     ]
    }
   ],
   "source": [
    "\"abdAfadfGGQ\".capitalize()"
   ]
  },
  {
   "cell_type": "code",
   "execution_count": 77,
   "id": "c9d28ac6",
   "metadata": {},
   "outputs": [
    {
     "data": {
      "text/plain": [
       "True"
      ]
     },
     "execution_count": 77,
     "metadata": {},
     "output_type": "execute_result"
    }
   ],
   "source": [
    "\"abc\" in \"ferghtfbfhgjnytujhtrfsedfdsfabggfdghtrfytgf\""
   ]
  },
  {
   "cell_type": "code",
   "execution_count": 61,
   "id": "30916491",
   "metadata": {},
   "outputs": [
    {
     "data": {
      "text/plain": [
       "True"
      ]
     },
     "execution_count": 61,
     "metadata": {},
     "output_type": "execute_result"
    }
   ],
   "source": [
    "\"abc\" == \"abc\""
   ]
  },
  {
   "cell_type": "code",
   "execution_count": 74,
   "id": "ec22894b",
   "metadata": {},
   "outputs": [
    {
     "data": {
      "text/plain": [
       "True"
      ]
     },
     "execution_count": 74,
     "metadata": {},
     "output_type": "execute_result"
    }
   ],
   "source": [
    "\"abcdefghi\" < \"def\""
   ]
  },
  {
   "cell_type": "code",
   "execution_count": 75,
   "id": "7df69421",
   "metadata": {},
   "outputs": [
    {
     "data": {
      "text/plain": [
       "True"
      ]
     },
     "execution_count": 75,
     "metadata": {},
     "output_type": "execute_result"
    }
   ],
   "source": [
    "\"$%\" < \"*&\""
   ]
  },
  {
   "cell_type": "code",
   "execution_count": 78,
   "id": "7c2d6db2",
   "metadata": {},
   "outputs": [
    {
     "ename": "SyntaxError",
     "evalue": "invalid syntax (Temp/ipykernel_25288/1078288962.py, line 1)",
     "output_type": "error",
     "traceback": [
      "\u001b[1;36m  File \u001b[1;32m\"C:\\Users\\kores\\AppData\\Local\\Temp/ipykernel_25288/1078288962.py\"\u001b[1;36m, line \u001b[1;32m1\u001b[0m\n\u001b[1;33m    print(\"we are learning \"string\" here\")\u001b[0m\n\u001b[1;37m                            ^\u001b[0m\n\u001b[1;31mSyntaxError\u001b[0m\u001b[1;31m:\u001b[0m invalid syntax\n"
     ]
    }
   ],
   "source": [
    "print(\"we are learning \"string\" here\")"
   ]
  },
  {
   "cell_type": "code",
   "execution_count": 80,
   "id": "0a6d4bee",
   "metadata": {},
   "outputs": [
    {
     "name": "stdout",
     "output_type": "stream",
     "text": [
      "we are learning \"string\" here\n"
     ]
    }
   ],
   "source": [
    "print(\"we are learning \\\"string\\\" here\")"
   ]
  },
  {
   "cell_type": "code",
   "execution_count": 81,
   "id": "05ebddc0",
   "metadata": {},
   "outputs": [
    {
     "ename": "SyntaxError",
     "evalue": "invalid syntax (Temp/ipykernel_25288/4001271975.py, line 1)",
     "output_type": "error",
     "traceback": [
      "\u001b[1;36m  File \u001b[1;32m\"C:\\Users\\kores\\AppData\\Local\\Temp/ipykernel_25288/4001271975.py\"\u001b[1;36m, line \u001b[1;32m1\u001b[0m\n\u001b[1;33m    print('we are learning 'string' here')\u001b[0m\n\u001b[1;37m                            ^\u001b[0m\n\u001b[1;31mSyntaxError\u001b[0m\u001b[1;31m:\u001b[0m invalid syntax\n"
     ]
    }
   ],
   "source": [
    "print('we are learning 'string' here')"
   ]
  },
  {
   "cell_type": "code",
   "execution_count": 82,
   "id": "1e564184",
   "metadata": {},
   "outputs": [
    {
     "name": "stdout",
     "output_type": "stream",
     "text": [
      "we are learning 'string' here\n"
     ]
    }
   ],
   "source": [
    "print(\"we are learning 'string' here\")"
   ]
  },
  {
   "cell_type": "code",
   "execution_count": 83,
   "id": "ee11ddb4",
   "metadata": {},
   "outputs": [
    {
     "name": "stdout",
     "output_type": "stream",
     "text": [
      "we are learning 'string' here\n"
     ]
    }
   ],
   "source": [
    "print('we are learning \\'string\\' here')"
   ]
  },
  {
   "cell_type": "code",
   "execution_count": 86,
   "id": "57628074",
   "metadata": {},
   "outputs": [
    {
     "name": "stdout",
     "output_type": "stream",
     "text": [
      "c:\n",
      "ame\\drive\n"
     ]
    }
   ],
   "source": [
    "print(\"c:\\name\\drive\")"
   ]
  },
  {
   "cell_type": "code",
   "execution_count": 89,
   "id": "a0631a32",
   "metadata": {},
   "outputs": [],
   "source": [
    "a = r\"c:\\name\\drive\\t\""
   ]
  },
  {
   "cell_type": "code",
   "execution_count": 90,
   "id": "075f9f3a",
   "metadata": {},
   "outputs": [
    {
     "name": "stdout",
     "output_type": "stream",
     "text": [
      "c:\\name\\drive\\t\n"
     ]
    }
   ],
   "source": [
    "print(a)"
   ]
  },
  {
   "cell_type": "markdown",
   "id": "41229982",
   "metadata": {},
   "source": [
    "## Data structures"
   ]
  },
  {
   "cell_type": "code",
   "execution_count": 91,
   "id": "2eb8bf7d",
   "metadata": {},
   "outputs": [],
   "source": [
    "L = [1, 3, 4.9, \"name\", 3]\n",
    "T = (1, 3, 4.9, \"name\", 3)\n",
    "S = {1, 3, 4.9, \"name\", 3}\n",
    "D = {23: \"twothree\", 'B':43, 'C':'CCD'}"
   ]
  },
  {
   "cell_type": "code",
   "execution_count": 93,
   "id": "6d9f041b",
   "metadata": {},
   "outputs": [
    {
     "name": "stdout",
     "output_type": "stream",
     "text": [
      "The type of L is  <class 'list'>\n",
      "The type of T is  <class 'tuple'>\n",
      "The type of S is  <class 'set'>\n",
      "The type of D is  <class 'dict'>\n"
     ]
    }
   ],
   "source": [
    "print(\"The type of L is \", type(L))\n",
    "print(\"The type of T is \", type(T))\n",
    "print(\"The type of S is \", type(S))\n",
    "print(\"The type of D is \", type(D))"
   ]
  },
  {
   "cell_type": "code",
   "execution_count": 94,
   "id": "6f387dc6",
   "metadata": {},
   "outputs": [
    {
     "name": "stdout",
     "output_type": "stream",
     "text": [
      "3\n"
     ]
    }
   ],
   "source": [
    "print(L[1])"
   ]
  },
  {
   "cell_type": "code",
   "execution_count": 96,
   "id": "9405f017",
   "metadata": {},
   "outputs": [
    {
     "name": "stdout",
     "output_type": "stream",
     "text": [
      "3\n"
     ]
    }
   ],
   "source": [
    "print(T[1])"
   ]
  },
  {
   "cell_type": "code",
   "execution_count": 99,
   "id": "74d7ef05",
   "metadata": {},
   "outputs": [
    {
     "name": "stdout",
     "output_type": "stream",
     "text": [
      "True\n"
     ]
    }
   ],
   "source": [
    "print(3 in S)"
   ]
  },
  {
   "cell_type": "code",
   "execution_count": 101,
   "id": "7b33b9bc",
   "metadata": {},
   "outputs": [
    {
     "name": "stdout",
     "output_type": "stream",
     "text": [
      "43\n"
     ]
    }
   ],
   "source": [
    "print(D['B'])"
   ]
  },
  {
   "cell_type": "code",
   "execution_count": 102,
   "id": "cd4bb2a8",
   "metadata": {},
   "outputs": [
    {
     "data": {
      "text/plain": [
       "{1, 3, 4.9, 'name'}"
      ]
     },
     "execution_count": 102,
     "metadata": {},
     "output_type": "execute_result"
    }
   ],
   "source": [
    "S"
   ]
  },
  {
   "cell_type": "code",
   "execution_count": 103,
   "id": "001c3f03",
   "metadata": {},
   "outputs": [
    {
     "data": {
      "text/plain": [
       "[1, 3, 4.9, 'name', 3]"
      ]
     },
     "execution_count": 103,
     "metadata": {},
     "output_type": "execute_result"
    }
   ],
   "source": [
    "L"
   ]
  },
  {
   "cell_type": "code",
   "execution_count": 104,
   "id": "ccb96b9d",
   "metadata": {},
   "outputs": [
    {
     "data": {
      "text/plain": [
       "(1, 3, 4.9, 'name', 3)"
      ]
     },
     "execution_count": 104,
     "metadata": {},
     "output_type": "execute_result"
    }
   ],
   "source": [
    "T"
   ]
  },
  {
   "cell_type": "code",
   "execution_count": 106,
   "id": "5ae0b6a9",
   "metadata": {},
   "outputs": [
    {
     "name": "stdout",
     "output_type": "stream",
     "text": [
      "[1, 3, 4.9, 'name', 3, 'how', 'are', 6, 'you', 'how', 'are', 6, 'you']\n"
     ]
    }
   ],
   "source": [
    "L2 = [\"how\", \"are\", 6, \"you\"]\n",
    "L = L + L2\n",
    "print(L)"
   ]
  },
  {
   "cell_type": "code",
   "execution_count": 107,
   "id": "85057395",
   "metadata": {},
   "outputs": [
    {
     "name": "stdout",
     "output_type": "stream",
     "text": [
      "[1, 3, 4.9, 'name', 3, 'how', 'are', 6, 'you', 'how', 'are', 6, 'you', 6.8]\n"
     ]
    }
   ],
   "source": [
    "L.append(6.8)\n",
    "print(L)"
   ]
  },
  {
   "cell_type": "code",
   "execution_count": 108,
   "id": "45815715",
   "metadata": {},
   "outputs": [
    {
     "name": "stdout",
     "output_type": "stream",
     "text": [
      "(1, 3, 4.9, 'name', 3, 'a', 'b', 45)\n"
     ]
    }
   ],
   "source": [
    "T2 = ('a', 'b', 45)\n",
    "T3 = T + T2\n",
    "print(T3)"
   ]
  },
  {
   "cell_type": "code",
   "execution_count": 109,
   "id": "80b494e5",
   "metadata": {},
   "outputs": [
    {
     "data": {
      "text/plain": [
       "{1, 3, 4.9, 'name'}"
      ]
     },
     "execution_count": 109,
     "metadata": {},
     "output_type": "execute_result"
    }
   ],
   "source": [
    "S"
   ]
  },
  {
   "cell_type": "code",
   "execution_count": 113,
   "id": "e3bc74de",
   "metadata": {},
   "outputs": [
    {
     "name": "stdout",
     "output_type": "stream",
     "text": [
      "{1, 3, 4.9, 'game', 5, 23, 'name', 56}\n"
     ]
    }
   ],
   "source": [
    "S.add(5)\n",
    "print(S)"
   ]
  },
  {
   "cell_type": "code",
   "execution_count": 111,
   "id": "242c4a99",
   "metadata": {},
   "outputs": [],
   "source": [
    "S.update({23, 'game', 1})"
   ]
  },
  {
   "cell_type": "code",
   "execution_count": 112,
   "id": "2c1f18f3",
   "metadata": {},
   "outputs": [
    {
     "name": "stdout",
     "output_type": "stream",
     "text": [
      "{1, 3, 4.9, 'game', 23, 'name', 56}\n"
     ]
    }
   ],
   "source": [
    "print(S)"
   ]
  },
  {
   "cell_type": "code",
   "execution_count": 114,
   "id": "6e304501",
   "metadata": {},
   "outputs": [
    {
     "name": "stdout",
     "output_type": "stream",
     "text": [
      "{23: 'twothree', 'B': 43, 'C': 'CCD', 'newKey': 'newValue'}\n"
     ]
    }
   ],
   "source": [
    "D['newKey'] = \"newValue\"\n",
    "print(D)"
   ]
  },
  {
   "cell_type": "code",
   "execution_count": 115,
   "id": "ad4b07b8",
   "metadata": {},
   "outputs": [
    {
     "data": {
      "text/plain": [
       "[1, 3, 4.9, 'name', 3, 'how', 'are', 6, 'you', 'how', 'are', 6, 'you', 6.8]"
      ]
     },
     "execution_count": 115,
     "metadata": {},
     "output_type": "execute_result"
    }
   ],
   "source": [
    "L"
   ]
  },
  {
   "cell_type": "code",
   "execution_count": 116,
   "id": "a43a9804",
   "metadata": {},
   "outputs": [],
   "source": [
    "del L[3]"
   ]
  },
  {
   "cell_type": "code",
   "execution_count": 117,
   "id": "a46b214c",
   "metadata": {},
   "outputs": [
    {
     "data": {
      "text/plain": [
       "[1, 3, 4.9, 3, 'how', 'are', 6, 'you', 'how', 'are', 6, 'you', 6.8]"
      ]
     },
     "execution_count": 117,
     "metadata": {},
     "output_type": "execute_result"
    }
   ],
   "source": [
    "L"
   ]
  },
  {
   "cell_type": "code",
   "execution_count": 118,
   "id": "b31a0b91",
   "metadata": {},
   "outputs": [
    {
     "data": {
      "text/plain": [
       "{1, 23, 3, 4.9, 5, 56, 'game', 'name'}"
      ]
     },
     "execution_count": 118,
     "metadata": {},
     "output_type": "execute_result"
    }
   ],
   "source": [
    "S"
   ]
  },
  {
   "cell_type": "code",
   "execution_count": 121,
   "id": "015573ea",
   "metadata": {},
   "outputs": [
    {
     "ename": "KeyError",
     "evalue": "'game'",
     "output_type": "error",
     "traceback": [
      "\u001b[1;31m---------------------------------------------------------------------------\u001b[0m",
      "\u001b[1;31mKeyError\u001b[0m                                  Traceback (most recent call last)",
      "\u001b[1;32m~\\AppData\\Local\\Temp/ipykernel_25288/1390876516.py\u001b[0m in \u001b[0;36m<module>\u001b[1;34m\u001b[0m\n\u001b[1;32m----> 1\u001b[1;33m \u001b[0mS\u001b[0m\u001b[1;33m.\u001b[0m\u001b[0mremove\u001b[0m\u001b[1;33m(\u001b[0m\u001b[1;34m'game'\u001b[0m\u001b[1;33m)\u001b[0m\u001b[1;33m\u001b[0m\u001b[1;33m\u001b[0m\u001b[0m\n\u001b[0m",
      "\u001b[1;31mKeyError\u001b[0m: 'game'"
     ]
    }
   ],
   "source": [
    "S.remove('game')"
   ]
  },
  {
   "cell_type": "code",
   "execution_count": 122,
   "id": "f25de0cd",
   "metadata": {},
   "outputs": [
    {
     "data": {
      "text/plain": [
       "{1, 23, 3, 4.9, 5, 56, 'name'}"
      ]
     },
     "execution_count": 122,
     "metadata": {},
     "output_type": "execute_result"
    }
   ],
   "source": [
    "S"
   ]
  },
  {
   "cell_type": "code",
   "execution_count": 123,
   "id": "a2a9c5d2",
   "metadata": {},
   "outputs": [
    {
     "data": {
      "text/plain": [
       "{23: 'twothree', 'B': 43, 'C': 'CCD', 'newKey': 'newValue'}"
      ]
     },
     "execution_count": 123,
     "metadata": {},
     "output_type": "execute_result"
    }
   ],
   "source": [
    "D"
   ]
  },
  {
   "cell_type": "code",
   "execution_count": 124,
   "id": "763d068b",
   "metadata": {},
   "outputs": [],
   "source": [
    "del D['C']"
   ]
  },
  {
   "cell_type": "code",
   "execution_count": 125,
   "id": "9d62cf1f",
   "metadata": {},
   "outputs": [
    {
     "data": {
      "text/plain": [
       "{23: 'twothree', 'B': 43, 'newKey': 'newValue'}"
      ]
     },
     "execution_count": 125,
     "metadata": {},
     "output_type": "execute_result"
    }
   ],
   "source": [
    "D"
   ]
  },
  {
   "cell_type": "code",
   "execution_count": 126,
   "id": "339b48c8",
   "metadata": {},
   "outputs": [],
   "source": [
    "D2 = {\"y\": \"YY\", \"z\": 10}"
   ]
  },
  {
   "cell_type": "code",
   "execution_count": 127,
   "id": "4cac5fb2",
   "metadata": {},
   "outputs": [
    {
     "ename": "TypeError",
     "evalue": "unsupported operand type(s) for +: 'dict' and 'dict'",
     "output_type": "error",
     "traceback": [
      "\u001b[1;31m---------------------------------------------------------------------------\u001b[0m",
      "\u001b[1;31mTypeError\u001b[0m                                 Traceback (most recent call last)",
      "\u001b[1;32m~\\AppData\\Local\\Temp/ipykernel_25288/3824346114.py\u001b[0m in \u001b[0;36m<module>\u001b[1;34m\u001b[0m\n\u001b[1;32m----> 1\u001b[1;33m \u001b[0mD\u001b[0m \u001b[1;33m=\u001b[0m \u001b[0mD\u001b[0m \u001b[1;33m+\u001b[0m \u001b[0mD2\u001b[0m\u001b[1;33m\u001b[0m\u001b[1;33m\u001b[0m\u001b[0m\n\u001b[0m",
      "\u001b[1;31mTypeError\u001b[0m: unsupported operand type(s) for +: 'dict' and 'dict'"
     ]
    }
   ],
   "source": [
    "D = D + D2"
   ]
  },
  {
   "cell_type": "code",
   "execution_count": 128,
   "id": "0dbfaadb",
   "metadata": {},
   "outputs": [],
   "source": [
    "D.update(D2)"
   ]
  },
  {
   "cell_type": "code",
   "execution_count": 131,
   "id": "aa72906f",
   "metadata": {},
   "outputs": [
    {
     "data": {
      "text/plain": [
       "{23: 'twothree', 'B': 43, 'newKey': 'newValue', 'y': 'YY', 'z': 10}"
      ]
     },
     "execution_count": 131,
     "metadata": {},
     "output_type": "execute_result"
    }
   ],
   "source": [
    "D"
   ]
  },
  {
   "cell_type": "code",
   "execution_count": 132,
   "id": "9b7169ff",
   "metadata": {},
   "outputs": [
    {
     "name": "stdout",
     "output_type": "stream",
     "text": [
      "Help on built-in function append:\n",
      "\n",
      "append(object, /) method of builtins.list instance\n",
      "    Append object to the end of the list.\n",
      "\n"
     ]
    }
   ],
   "source": [
    "help(L.append)"
   ]
  },
  {
   "cell_type": "code",
   "execution_count": 133,
   "id": "777f3d3c",
   "metadata": {},
   "outputs": [],
   "source": [
    "L.append?"
   ]
  },
  {
   "cell_type": "code",
   "execution_count": 134,
   "id": "e71a8683",
   "metadata": {},
   "outputs": [],
   "source": [
    "L.clear?"
   ]
  },
  {
   "cell_type": "code",
   "execution_count": 135,
   "id": "76b007f4",
   "metadata": {},
   "outputs": [],
   "source": [
    "L.pop?"
   ]
  },
  {
   "cell_type": "code",
   "execution_count": 136,
   "id": "90192ad3",
   "metadata": {},
   "outputs": [
    {
     "name": "stdout",
     "output_type": "stream",
     "text": [
      "[6.8, 'you', 6, 'are', 'how', 'you', 6, 'are', 'how', 3, 4.9, 3, 1]\n"
     ]
    }
   ],
   "source": [
    "L.reverse()\n",
    "print(L)"
   ]
  },
  {
   "cell_type": "code",
   "execution_count": 137,
   "id": "f6f82bda",
   "metadata": {},
   "outputs": [
    {
     "data": {
      "text/plain": [
       "[1, 3, 4.9, 3, 'how', 'are', 6, 'you', 'how', 'are', 6, 'you', 6.8]"
      ]
     },
     "execution_count": 137,
     "metadata": {},
     "output_type": "execute_result"
    }
   ],
   "source": [
    "L[::-1]"
   ]
  },
  {
   "cell_type": "code",
   "execution_count": 138,
   "id": "638aacc1",
   "metadata": {},
   "outputs": [
    {
     "data": {
      "text/plain": [
       "dict_items([(23, 'twothree'), ('B', 43), ('newKey', 'newValue'), ('y', 'YY'), ('z', 10)])"
      ]
     },
     "execution_count": 138,
     "metadata": {},
     "output_type": "execute_result"
    }
   ],
   "source": [
    "D.items()"
   ]
  },
  {
   "cell_type": "code",
   "execution_count": 139,
   "id": "da316c90",
   "metadata": {},
   "outputs": [],
   "source": [
    "D2 = {'A': L, 'B': T, 'C': S, 'D': D}"
   ]
  },
  {
   "cell_type": "code",
   "execution_count": 140,
   "id": "bad122da",
   "metadata": {},
   "outputs": [
    {
     "data": {
      "text/plain": [
       "dict_items([('A', [6.8, 'you', 6, 'are', 'how', 'you', 6, 'are', 'how', 3, 4.9, 3, 1]), ('B', (1, 3, 4.9, 'name', 3)), ('C', {1, 3, 4.9, 5, 23, 'name', 56}), ('D', {23: 'twothree', 'B': 43, 'newKey': 'newValue', 'y': 'YY', 'z': 10})])"
      ]
     },
     "execution_count": 140,
     "metadata": {},
     "output_type": "execute_result"
    }
   ],
   "source": [
    "D2.items()"
   ]
  },
  {
   "cell_type": "code",
   "execution_count": 171,
   "id": "3f4c865f",
   "metadata": {},
   "outputs": [
    {
     "data": {
      "text/plain": [
       "True"
      ]
     },
     "execution_count": 171,
     "metadata": {},
     "output_type": "execute_result"
    }
   ],
   "source": []
  },
  {
   "cell_type": "code",
   "execution_count": 147,
   "id": "a08b7b87",
   "metadata": {},
   "outputs": [],
   "source": [
    "K = D2['D']"
   ]
  },
  {
   "cell_type": "code",
   "execution_count": 148,
   "id": "6d311baf",
   "metadata": {},
   "outputs": [
    {
     "data": {
      "text/plain": [
       "{23: 'twothree', 'B': 43, 'newKey': 'newValue', 'y': 'YY', 'z': 10}"
      ]
     },
     "execution_count": 148,
     "metadata": {},
     "output_type": "execute_result"
    }
   ],
   "source": [
    "K"
   ]
  },
  {
   "cell_type": "code",
   "execution_count": 150,
   "id": "80bb7951",
   "metadata": {},
   "outputs": [
    {
     "name": "stdout",
     "output_type": "stream",
     "text": [
      "23 twothree\n",
      "B 43\n",
      "newKey newValue\n",
      "y YY\n",
      "z 10\n"
     ]
    }
   ],
   "source": [
    "for x in K:\n",
    "    print(x, K[x])"
   ]
  },
  {
   "cell_type": "code",
   "execution_count": 151,
   "id": "3b51ff75",
   "metadata": {},
   "outputs": [],
   "source": [
    "L3 = [L, T, D, 23, \"game\"]"
   ]
  },
  {
   "cell_type": "code",
   "execution_count": 152,
   "id": "759120ff",
   "metadata": {},
   "outputs": [
    {
     "data": {
      "text/plain": [
       "[[6.8, 'you', 6, 'are', 'how', 'you', 6, 'are', 'how', 3, 4.9, 3, 1],\n",
       " (1, 3, 4.9, 'name', 3),\n",
       " {23: 'twothree', 'B': 43, 'newKey': 'newValue', 'y': 'YY', 'z': 10},\n",
       " 23,\n",
       " 'game']"
      ]
     },
     "execution_count": 152,
     "metadata": {},
     "output_type": "execute_result"
    }
   ],
   "source": [
    "L3"
   ]
  },
  {
   "cell_type": "code",
   "execution_count": 153,
   "id": "053f29bb",
   "metadata": {},
   "outputs": [
    {
     "data": {
      "text/plain": [
       "dict"
      ]
     },
     "execution_count": 153,
     "metadata": {},
     "output_type": "execute_result"
    }
   ],
   "source": [
    "type(L3[2])"
   ]
  },
  {
   "cell_type": "code",
   "execution_count": 164,
   "id": "320b477d",
   "metadata": {},
   "outputs": [
    {
     "name": "stdout",
     "output_type": "stream",
     "text": [
      "[0, 1, 4, 9, 16, 25, 36, 49, 64, 81]\n"
     ]
    }
   ],
   "source": [
    "L4 = list()\n",
    "for x in range(10):\n",
    "    L4.append(x**2)\n",
    "print(L4)"
   ]
  },
  {
   "cell_type": "code",
   "execution_count": 162,
   "id": "ed4263ee",
   "metadata": {},
   "outputs": [],
   "source": [
    "L3 = [x **2 for x in range(10)]"
   ]
  },
  {
   "cell_type": "code",
   "execution_count": 155,
   "id": "da4c9600",
   "metadata": {},
   "outputs": [
    {
     "data": {
      "text/plain": [
       "[0, 1, 4, 9, 16, 25, 36, 49, 64, 81]"
      ]
     },
     "execution_count": 155,
     "metadata": {},
     "output_type": "execute_result"
    }
   ],
   "source": [
    "L3"
   ]
  },
  {
   "cell_type": "code",
   "execution_count": 156,
   "id": "89409224",
   "metadata": {},
   "outputs": [],
   "source": [
    "S3 = {x **2 for x in range(2, 20, 3)}"
   ]
  },
  {
   "cell_type": "code",
   "execution_count": 158,
   "id": "dd90cba4",
   "metadata": {},
   "outputs": [
    {
     "data": {
      "text/plain": [
       "{4, 25, 64, 121, 196, 289}"
      ]
     },
     "execution_count": 158,
     "metadata": {},
     "output_type": "execute_result"
    }
   ],
   "source": [
    "S3"
   ]
  },
  {
   "cell_type": "code",
   "execution_count": 161,
   "id": "8deeeeb7",
   "metadata": {},
   "outputs": [
    {
     "data": {
      "text/plain": [
       "False"
      ]
     },
     "execution_count": 161,
     "metadata": {},
     "output_type": "execute_result"
    }
   ],
   "source": [
    "43 in D"
   ]
  },
  {
   "cell_type": "code",
   "execution_count": 160,
   "id": "ecbdfb49",
   "metadata": {},
   "outputs": [
    {
     "data": {
      "text/plain": [
       "{23: 'twothree', 'B': 43, 'newKey': 'newValue', 'y': 'YY', 'z': 10}"
      ]
     },
     "execution_count": 160,
     "metadata": {},
     "output_type": "execute_result"
    }
   ],
   "source": [
    "D"
   ]
  },
  {
   "cell_type": "code",
   "execution_count": 1,
   "id": "c4ca4266",
   "metadata": {},
   "outputs": [
    {
     "data": {
      "text/plain": [
       "'\\nLet say you are a teacher and you have different student records containing id of a student and \\nmarks list in each subject where different students have taken different numbers of subjects. \\nAll these records are in hard copy. You want to enter all the data in computer and want to compute the average\\nmarks of each student and display\\n'"
      ]
     },
     "execution_count": 1,
     "metadata": {},
     "output_type": "execute_result"
    }
   ],
   "source": [
    "\"\"\"\n",
    "Let say you are a teacher and you have different student records containing id of a student and \n",
    "marks list in each subject where different students have taken different numbers of subjects. \n",
    "All these records are in hard copy. You want to enter all the data in computer and want to compute the average\n",
    "marks of each student and display\n",
    "\"\"\""
   ]
  },
  {
   "cell_type": "markdown",
   "id": "de8cbbfe",
   "metadata": {},
   "source": [
    "## Numpy library"
   ]
  },
  {
   "cell_type": "code",
   "execution_count": 2,
   "id": "cadb5a2a",
   "metadata": {},
   "outputs": [],
   "source": [
    "import numpy as np"
   ]
  },
  {
   "cell_type": "code",
   "execution_count": 3,
   "id": "3e9fb000",
   "metadata": {},
   "outputs": [],
   "source": [
    "a = np.array([1, 2, 3, 5, 7], dtype = 'i')"
   ]
  },
  {
   "cell_type": "code",
   "execution_count": 5,
   "id": "80dfce6f",
   "metadata": {},
   "outputs": [],
   "source": [
    "b = np.array((2, 3, 5), dtype = 'f')"
   ]
  },
  {
   "cell_type": "code",
   "execution_count": 6,
   "id": "51bfc190",
   "metadata": {},
   "outputs": [
    {
     "name": "stdout",
     "output_type": "stream",
     "text": [
      "[1 2 3 5 7]\n"
     ]
    }
   ],
   "source": [
    "print(a)"
   ]
  },
  {
   "cell_type": "code",
   "execution_count": 7,
   "id": "304acc72",
   "metadata": {},
   "outputs": [
    {
     "name": "stdout",
     "output_type": "stream",
     "text": [
      "[2. 3. 5.]\n"
     ]
    }
   ],
   "source": [
    "print(b)"
   ]
  },
  {
   "cell_type": "code",
   "execution_count": 8,
   "id": "beb25b89",
   "metadata": {},
   "outputs": [
    {
     "data": {
      "text/plain": [
       "numpy.ndarray"
      ]
     },
     "execution_count": 8,
     "metadata": {},
     "output_type": "execute_result"
    }
   ],
   "source": [
    "type(a)"
   ]
  },
  {
   "cell_type": "code",
   "execution_count": 9,
   "id": "15e893aa",
   "metadata": {},
   "outputs": [
    {
     "data": {
      "text/plain": [
       "numpy.ndarray"
      ]
     },
     "execution_count": 9,
     "metadata": {},
     "output_type": "execute_result"
    }
   ],
   "source": [
    "type(b)"
   ]
  },
  {
   "cell_type": "code",
   "execution_count": 10,
   "id": "b44a6ef1",
   "metadata": {},
   "outputs": [
    {
     "data": {
      "text/plain": [
       "dtype('int32')"
      ]
     },
     "execution_count": 10,
     "metadata": {},
     "output_type": "execute_result"
    }
   ],
   "source": [
    "a.dtype"
   ]
  },
  {
   "cell_type": "code",
   "execution_count": 11,
   "id": "fb72db47",
   "metadata": {},
   "outputs": [
    {
     "data": {
      "text/plain": [
       "dtype('float32')"
      ]
     },
     "execution_count": 11,
     "metadata": {},
     "output_type": "execute_result"
    }
   ],
   "source": [
    "b.dtype"
   ]
  },
  {
   "cell_type": "code",
   "execution_count": 12,
   "id": "fb7946de",
   "metadata": {},
   "outputs": [],
   "source": [
    "import numpy as np\n",
    "a = np.array([[1, 2, 3], [4, 5, 6]])"
   ]
  },
  {
   "cell_type": "code",
   "execution_count": 13,
   "id": "6ba9f6c5",
   "metadata": {},
   "outputs": [
    {
     "name": "stdout",
     "output_type": "stream",
     "text": [
      "[[1 2 3]\n",
      " [4 5 6]]\n"
     ]
    }
   ],
   "source": [
    "print(a)"
   ]
  },
  {
   "cell_type": "code",
   "execution_count": 14,
   "id": "8f0f7c69",
   "metadata": {},
   "outputs": [
    {
     "data": {
      "text/plain": [
       "2"
      ]
     },
     "execution_count": 14,
     "metadata": {},
     "output_type": "execute_result"
    }
   ],
   "source": [
    "a.ndim"
   ]
  },
  {
   "cell_type": "code",
   "execution_count": 15,
   "id": "bd10d61c",
   "metadata": {},
   "outputs": [
    {
     "data": {
      "text/plain": [
       "3"
      ]
     },
     "execution_count": 15,
     "metadata": {},
     "output_type": "execute_result"
    }
   ],
   "source": [
    "a[0, 2]"
   ]
  },
  {
   "cell_type": "code",
   "execution_count": 16,
   "id": "7a246829",
   "metadata": {},
   "outputs": [],
   "source": [
    "B = np.array([[1, 2, 3, -1], [2, 4, 5, 9]])"
   ]
  },
  {
   "cell_type": "code",
   "execution_count": 17,
   "id": "762a32ce",
   "metadata": {},
   "outputs": [
    {
     "data": {
      "text/plain": [
       "2"
      ]
     },
     "execution_count": 17,
     "metadata": {},
     "output_type": "execute_result"
    }
   ],
   "source": [
    "B.ndim"
   ]
  },
  {
   "cell_type": "code",
   "execution_count": 18,
   "id": "c8e7ba9a",
   "metadata": {},
   "outputs": [
    {
     "data": {
      "text/plain": [
       "array([[ 1,  2,  3, -1],\n",
       "       [ 2,  4,  5,  9]])"
      ]
     },
     "execution_count": 18,
     "metadata": {},
     "output_type": "execute_result"
    }
   ],
   "source": [
    "B"
   ]
  },
  {
   "cell_type": "code",
   "execution_count": 19,
   "id": "7e0e9d86",
   "metadata": {},
   "outputs": [
    {
     "data": {
      "text/plain": [
       "5"
      ]
     },
     "execution_count": 19,
     "metadata": {},
     "output_type": "execute_result"
    }
   ],
   "source": [
    "B[1, 2]"
   ]
  },
  {
   "cell_type": "code",
   "execution_count": 20,
   "id": "213a2135",
   "metadata": {},
   "outputs": [],
   "source": [
    "C = np.array([[[1, 2, 3], [4, 5, 6], [0, 0, 1]], [[-1, -2, -3], [-4, -5, -6], [0, 0, 1]]])"
   ]
  },
  {
   "cell_type": "code",
   "execution_count": 25,
   "id": "2e26048a",
   "metadata": {},
   "outputs": [
    {
     "data": {
      "text/plain": [
       "(2, 3, 3)"
      ]
     },
     "execution_count": 25,
     "metadata": {},
     "output_type": "execute_result"
    }
   ],
   "source": [
    "C.shape"
   ]
  },
  {
   "cell_type": "code",
   "execution_count": 26,
   "id": "d6b087a6",
   "metadata": {},
   "outputs": [
    {
     "data": {
      "text/plain": [
       "-3"
      ]
     },
     "execution_count": 26,
     "metadata": {},
     "output_type": "execute_result"
    }
   ],
   "source": [
    "C[1, 0, 2]"
   ]
  },
  {
   "cell_type": "code",
   "execution_count": 27,
   "id": "436687b8",
   "metadata": {},
   "outputs": [
    {
     "data": {
      "text/plain": [
       "(2, 4)"
      ]
     },
     "execution_count": 27,
     "metadata": {},
     "output_type": "execute_result"
    }
   ],
   "source": [
    "B.shape"
   ]
  },
  {
   "cell_type": "code",
   "execution_count": 28,
   "id": "0cdf488a",
   "metadata": {},
   "outputs": [
    {
     "data": {
      "text/plain": [
       "numpy.ndarray"
      ]
     },
     "execution_count": 28,
     "metadata": {},
     "output_type": "execute_result"
    }
   ],
   "source": [
    "type(C)"
   ]
  },
  {
   "cell_type": "code",
   "execution_count": 30,
   "id": "3a775a7f",
   "metadata": {},
   "outputs": [],
   "source": [
    "A = np.array([2])"
   ]
  },
  {
   "cell_type": "code",
   "execution_count": 31,
   "id": "dd544d92",
   "metadata": {},
   "outputs": [
    {
     "data": {
      "text/plain": [
       "1"
      ]
     },
     "execution_count": 31,
     "metadata": {},
     "output_type": "execute_result"
    }
   ],
   "source": [
    "A.ndim"
   ]
  },
  {
   "cell_type": "code",
   "execution_count": 32,
   "id": "9588015c",
   "metadata": {},
   "outputs": [
    {
     "data": {
      "text/plain": [
       "array([2])"
      ]
     },
     "execution_count": 32,
     "metadata": {},
     "output_type": "execute_result"
    }
   ],
   "source": [
    "A"
   ]
  },
  {
   "cell_type": "code",
   "execution_count": 33,
   "id": "83cbdb6a",
   "metadata": {},
   "outputs": [],
   "source": [
    "B = np.array(3)"
   ]
  },
  {
   "cell_type": "code",
   "execution_count": 35,
   "id": "340b7b5f",
   "metadata": {},
   "outputs": [
    {
     "data": {
      "text/plain": [
       "0"
      ]
     },
     "execution_count": 35,
     "metadata": {},
     "output_type": "execute_result"
    }
   ],
   "source": [
    "B.ndim"
   ]
  },
  {
   "cell_type": "code",
   "execution_count": 36,
   "id": "c3b594c8",
   "metadata": {},
   "outputs": [
    {
     "name": "stdout",
     "output_type": "stream",
     "text": [
      "3\n"
     ]
    }
   ],
   "source": [
    "print(B)"
   ]
  },
  {
   "cell_type": "code",
   "execution_count": 37,
   "id": "2d5dfab9",
   "metadata": {},
   "outputs": [
    {
     "data": {
      "text/plain": [
       "18"
      ]
     },
     "execution_count": 37,
     "metadata": {},
     "output_type": "execute_result"
    }
   ],
   "source": [
    "C.size"
   ]
  },
  {
   "cell_type": "code",
   "execution_count": 38,
   "id": "6306f9ca",
   "metadata": {},
   "outputs": [
    {
     "data": {
      "text/plain": [
       "1"
      ]
     },
     "execution_count": 38,
     "metadata": {},
     "output_type": "execute_result"
    }
   ],
   "source": [
    "A.size"
   ]
  },
  {
   "cell_type": "code",
   "execution_count": 39,
   "id": "5f3fdf3f",
   "metadata": {},
   "outputs": [
    {
     "data": {
      "text/plain": [
       "72"
      ]
     },
     "execution_count": 39,
     "metadata": {},
     "output_type": "execute_result"
    }
   ],
   "source": [
    "C.nbytes"
   ]
  },
  {
   "cell_type": "code",
   "execution_count": 40,
   "id": "9f29d8ab",
   "metadata": {},
   "outputs": [
    {
     "name": "stdout",
     "output_type": "stream",
     "text": [
      "[20 23 26 29 32 35 38 41 44 47 50 53 56 59 62 65 68 71 74 77 80 83 86 89\n",
      " 92 95 98]\n"
     ]
    }
   ],
   "source": [
    "A = np.arange(20, 100, 3)\n",
    "print(A)"
   ]
  },
  {
   "cell_type": "code",
   "execution_count": 41,
   "id": "033d121d",
   "metadata": {},
   "outputs": [
    {
     "name": "stdout",
     "output_type": "stream",
     "text": [
      "range(0, 10)\n"
     ]
    }
   ],
   "source": [
    "print(range(10))"
   ]
  },
  {
   "cell_type": "code",
   "execution_count": 42,
   "id": "02503000",
   "metadata": {},
   "outputs": [
    {
     "name": "stdout",
     "output_type": "stream",
     "text": [
      "[0, 1, 2, 3, 4, 5, 6, 7, 8, 9]\n"
     ]
    }
   ],
   "source": [
    "print(list(range(10)))"
   ]
  },
  {
   "cell_type": "code",
   "execution_count": 45,
   "id": "3349c7e0",
   "metadata": {},
   "outputs": [
    {
     "name": "stdout",
     "output_type": "stream",
     "text": [
      "[3 0 1 6 7 5 4 8 2 9]\n"
     ]
    }
   ],
   "source": [
    "A = np.random.permutation(np.arange(10))\n",
    "print(A)"
   ]
  },
  {
   "cell_type": "code",
   "execution_count": 46,
   "id": "841c3abe",
   "metadata": {},
   "outputs": [],
   "source": [
    "np.random.randint?"
   ]
  },
  {
   "cell_type": "code",
   "execution_count": 49,
   "id": "aac56972",
   "metadata": {},
   "outputs": [
    {
     "name": "stdout",
     "output_type": "stream",
     "text": [
      "55\n"
     ]
    }
   ],
   "source": [
    "v = np.random.randint(20, 300)\n",
    "print(v)"
   ]
  },
  {
   "cell_type": "code",
   "execution_count": 50,
   "id": "487a1043",
   "metadata": {},
   "outputs": [
    {
     "data": {
      "text/plain": [
       "int"
      ]
     },
     "execution_count": 50,
     "metadata": {},
     "output_type": "execute_result"
    }
   ],
   "source": [
    "type(v)"
   ]
  },
  {
   "cell_type": "code",
   "execution_count": 51,
   "id": "8ae13502",
   "metadata": {},
   "outputs": [],
   "source": [
    "A = np.random.rand?"
   ]
  },
  {
   "cell_type": "code",
   "execution_count": 15,
   "id": "9e172076",
   "metadata": {},
   "outputs": [],
   "source": [
    "A = np.random.rand(1000)"
   ]
  },
  {
   "cell_type": "code",
   "execution_count": 55,
   "id": "3d0e3982",
   "metadata": {},
   "outputs": [
    {
     "data": {
      "text/plain": [
       "array([5.42667811e-01, 4.44765228e-03, 2.81175374e-01, 1.24684427e-01,\n",
       "       3.02970136e-01, 2.23830185e-01, 6.88886851e-01, 8.61860823e-01,\n",
       "       2.03988762e-01, 2.55085796e-01, 1.64179913e-01, 5.85376573e-01,\n",
       "       5.99316013e-01, 7.07967685e-01, 5.24361039e-01, 7.53128813e-01,\n",
       "       8.93981803e-01, 4.82807600e-01, 7.90032328e-01, 1.85743972e-01,\n",
       "       4.53077701e-02, 7.11806426e-01, 9.79207216e-01, 7.28640072e-01,\n",
       "       4.30499506e-01, 3.29780454e-01, 3.49178733e-01, 1.92653370e-01,\n",
       "       5.54930688e-02, 5.32524879e-01, 9.33005934e-01, 1.35833375e-02,\n",
       "       6.14755104e-01, 3.46378944e-01, 4.36129189e-03, 4.91369922e-01,\n",
       "       7.69048870e-01, 1.15857972e-01, 7.48779077e-01, 5.39012081e-01,\n",
       "       6.12441179e-01, 4.45290516e-01, 4.51460000e-01, 9.00426437e-01,\n",
       "       1.32436416e-01, 8.69585443e-01, 3.05401841e-01, 3.97861543e-01,\n",
       "       9.76749006e-01, 4.54699765e-01, 2.91735672e-01, 4.02892315e-01,\n",
       "       2.02760828e-01, 8.50310989e-01, 6.37327800e-01, 7.03178086e-01,\n",
       "       1.96992582e-01, 3.35119143e-01, 5.28161671e-01, 9.51040632e-01,\n",
       "       5.04623382e-01, 4.64979220e-01, 4.03563841e-01, 2.91779335e-02,\n",
       "       9.93746180e-01, 5.93727359e-01, 3.27063281e-01, 7.78410849e-01,\n",
       "       9.32599343e-01, 7.24661058e-01, 5.32011827e-01, 3.13199557e-01,\n",
       "       3.01210377e-01, 4.43837497e-01, 5.87230240e-01, 5.66498794e-01,\n",
       "       7.81031514e-01, 3.90500307e-01, 1.37706716e-01, 3.55942647e-02,\n",
       "       4.77082576e-01, 8.88293309e-01, 1.55679064e-01, 8.53713647e-01,\n",
       "       1.70486299e-01, 1.54597312e-01, 9.33964927e-01, 9.60893708e-01,\n",
       "       3.21409226e-01, 8.84416698e-01, 8.91454267e-01, 3.62639593e-01,\n",
       "       3.61559030e-01, 2.48304308e-01, 7.53580299e-01, 7.92597859e-02,\n",
       "       4.33093780e-01, 6.00262244e-01, 8.41405350e-01, 8.59452848e-01,\n",
       "       8.53140139e-02, 7.97189236e-01, 2.87763446e-01, 6.73205026e-01,\n",
       "       8.51627756e-01, 3.28903152e-01, 8.77634222e-01, 2.51735356e-01,\n",
       "       6.01206988e-01, 7.02044192e-01, 6.39159042e-02, 3.11607367e-01,\n",
       "       8.59238276e-01, 2.00596070e-01, 9.25686629e-01, 6.93906452e-02,\n",
       "       9.27036348e-01, 1.01288246e-01, 9.64632775e-01, 8.26475514e-01,\n",
       "       9.59207846e-01, 3.28012396e-01, 6.60182960e-01, 8.77594357e-01,\n",
       "       5.68688206e-01, 9.07610237e-02, 7.21964183e-01, 7.24810212e-01,\n",
       "       3.05239243e-01, 9.90946880e-01, 6.93736277e-02, 1.48238369e-01,\n",
       "       2.04641730e-01, 4.74494597e-01, 2.34332993e-02, 5.63808575e-01,\n",
       "       4.71301123e-01, 8.68672381e-01, 9.16733796e-01, 7.53635793e-01,\n",
       "       1.96636802e-02, 8.87743356e-01, 5.88705399e-01, 7.41257874e-01,\n",
       "       4.59206122e-01, 9.92979244e-01, 1.76968711e-01, 1.19450046e-01,\n",
       "       3.53413573e-01, 9.93600977e-01, 4.27172965e-01, 8.49177688e-02,\n",
       "       5.35063264e-01, 1.73404709e-01, 7.58929048e-01, 7.59775887e-01,\n",
       "       3.96298100e-01, 1.71196204e-01, 5.69222142e-02, 9.51138375e-01,\n",
       "       2.58406207e-01, 7.91619530e-01, 7.06919174e-01, 8.45156167e-01,\n",
       "       9.02558266e-01, 8.44520169e-02, 2.91052626e-01, 9.45240580e-01,\n",
       "       6.52858666e-01, 1.67178839e-01, 6.51273751e-01, 3.79146609e-02,\n",
       "       3.48394932e-01, 4.54907744e-01, 3.71315834e-01, 7.79299030e-01,\n",
       "       6.87865794e-02, 1.34814229e-01, 4.94960576e-01, 8.40030008e-01,\n",
       "       9.58752976e-01, 2.29394295e-01, 4.85537173e-01, 6.36776502e-01,\n",
       "       6.55558364e-01, 3.13032766e-01, 3.53146702e-01, 6.96485062e-01,\n",
       "       3.77280194e-01, 3.98634448e-01, 8.81016881e-01, 4.48760839e-01,\n",
       "       7.94089513e-02, 7.63761867e-01, 4.76751088e-01, 6.72568182e-01,\n",
       "       2.69356444e-02, 6.75759958e-01, 7.54088348e-01, 5.53254592e-01,\n",
       "       7.69942944e-01, 4.62804720e-01, 9.93969665e-01, 3.10271202e-01,\n",
       "       9.84723969e-01, 5.36962688e-01, 4.91529573e-01, 3.82148067e-01,\n",
       "       7.42556836e-01, 2.86710121e-01, 8.33005660e-01, 7.23759625e-01,\n",
       "       7.56683093e-01, 2.97929976e-01, 1.89753692e-01, 6.87480582e-01,\n",
       "       3.67356499e-01, 3.31759457e-01, 7.70571192e-01, 3.30342592e-01,\n",
       "       9.03775147e-01, 1.90923805e-01, 2.72418028e-01, 5.51272836e-01,\n",
       "       6.41399223e-01, 7.64329130e-01, 4.38916070e-01, 5.98721513e-01,\n",
       "       2.09756378e-01, 5.93682892e-01, 2.64034200e-01, 4.17771652e-01,\n",
       "       6.44730107e-02, 5.33311277e-01, 9.16021740e-01, 3.84551405e-01,\n",
       "       7.59045044e-01, 7.21871072e-01, 8.18645913e-01, 6.87174397e-01,\n",
       "       4.00782084e-01, 8.53891059e-01, 1.07757180e-01, 4.74213274e-01,\n",
       "       3.51490169e-01, 2.97645399e-01, 7.08261722e-01, 2.29364326e-02,\n",
       "       3.49128106e-01, 5.34948936e-02, 6.74911343e-01, 1.19046696e-01,\n",
       "       4.37508195e-01, 3.18439564e-02, 4.01934307e-01, 1.51969895e-01,\n",
       "       9.04706262e-02, 1.67419506e-01, 8.26411309e-01, 4.63665838e-01,\n",
       "       8.86422438e-01, 5.19908991e-01, 1.87172796e-01, 8.52933677e-02,\n",
       "       3.69421721e-04, 6.28355523e-01, 5.32871574e-03, 5.24001232e-01,\n",
       "       3.20466036e-01, 5.99164604e-01, 1.33860738e-01, 8.86696150e-01,\n",
       "       2.07701280e-02, 6.42267477e-01, 2.54783702e-01, 1.53112230e-02,\n",
       "       7.48862935e-01, 4.24634134e-02, 7.92331481e-01, 7.84366400e-01,\n",
       "       5.72789607e-01, 6.34058432e-01, 9.54060941e-01, 6.28022591e-01,\n",
       "       6.27896416e-01, 6.95025068e-01, 7.24184182e-01, 4.99529892e-01,\n",
       "       2.93196129e-01, 6.39559542e-01, 6.95104208e-01, 6.46698630e-01,\n",
       "       6.44702454e-01, 3.08376242e-01, 5.49576804e-01, 7.43996999e-01,\n",
       "       1.40901994e-02, 4.21525890e-01, 6.27848737e-01, 7.21286311e-01,\n",
       "       1.49865060e-01, 5.64748630e-02, 3.21683736e-01, 7.42440361e-01,\n",
       "       9.98880719e-01, 9.74115681e-01, 8.20152175e-01, 9.36582428e-01,\n",
       "       5.68689784e-01, 9.17304296e-02, 2.44317388e-01, 2.28602204e-01,\n",
       "       2.17973130e-01, 1.63552949e-01, 4.76306701e-01, 2.02109715e-01,\n",
       "       1.63309952e-01, 5.92018759e-01, 9.96937398e-01, 1.71989009e-01,\n",
       "       2.65407943e-01, 3.77163628e-01, 6.81438742e-01, 5.75023581e-01,\n",
       "       5.77012242e-02, 4.99863662e-01, 9.39271700e-01, 7.50586021e-01,\n",
       "       1.35589756e-01, 6.64588615e-01, 3.85178791e-01, 3.87937617e-02,\n",
       "       1.13277273e-01, 6.27873551e-01, 7.06472229e-01, 6.80793279e-01,\n",
       "       4.28698350e-01, 7.40820348e-02, 3.00384320e-02, 8.55668837e-01,\n",
       "       8.70494275e-01, 7.74771616e-01, 4.34598433e-01, 4.57189881e-01,\n",
       "       7.17990531e-01, 1.73567794e-01, 4.07102270e-01, 5.41198476e-01,\n",
       "       6.48872716e-01, 2.23728381e-01, 4.36219852e-01, 1.64751915e-01,\n",
       "       7.71678028e-01, 3.70044762e-01, 7.72866496e-01, 6.13188811e-01,\n",
       "       3.32073722e-01, 6.04195170e-01, 5.07680431e-01, 5.85968615e-01,\n",
       "       9.62166738e-01, 7.84260658e-01, 7.53036645e-01, 9.53019814e-01,\n",
       "       6.82538705e-01, 9.11833028e-01, 9.37699118e-01, 4.83663662e-01,\n",
       "       6.91186526e-01, 9.10284347e-01, 8.12948286e-01, 3.96111906e-01,\n",
       "       5.81335316e-01, 1.88719233e-02, 4.42304360e-01, 5.25912838e-01,\n",
       "       7.64644345e-01, 2.41787734e-01, 6.70646436e-01, 7.43608226e-01,\n",
       "       4.17826907e-01, 8.39362285e-01, 7.46115366e-01, 9.69433204e-01,\n",
       "       9.62371435e-01, 2.24158587e-01, 4.64983270e-01, 7.73813402e-01,\n",
       "       1.17396867e-02, 2.79450275e-01, 3.27115546e-01, 9.49676798e-01,\n",
       "       1.03574010e-01, 1.82950893e-01, 1.06139548e-01, 4.62463584e-01,\n",
       "       2.71355289e-01, 1.07857813e-01, 6.64885917e-01, 3.06978018e-01,\n",
       "       5.68141425e-01, 1.70941680e-01, 1.28812067e-01, 3.97769731e-01,\n",
       "       5.19267297e-01, 8.01259799e-01, 5.89576464e-01, 2.29376915e-02,\n",
       "       2.36585322e-01, 6.28082168e-01, 2.44527998e-01, 8.05254602e-02,\n",
       "       8.25057521e-03, 6.43289389e-01, 9.61580034e-01, 7.28544765e-01,\n",
       "       2.61048883e-01, 2.94174236e-01, 5.37948098e-01, 8.19946328e-01,\n",
       "       1.11762051e-01, 9.83640591e-01, 4.90804277e-01, 7.17159005e-01,\n",
       "       6.47464091e-01, 1.99239852e-01, 3.24158695e-01, 5.18964662e-01,\n",
       "       1.60225408e-01, 9.77713598e-02, 1.19821811e-01, 5.58861609e-02,\n",
       "       9.35514874e-02, 1.26335415e-03, 2.70184522e-01, 4.97529337e-01,\n",
       "       2.78543387e-01, 2.13077095e-01, 1.06559213e-01, 7.54129635e-01,\n",
       "       3.07666972e-01, 2.30998662e-01, 6.73307992e-01, 7.11986857e-01,\n",
       "       6.43519703e-02, 2.97278751e-01, 4.06039905e-01, 1.52245014e-01,\n",
       "       4.14329054e-01, 7.92244236e-01, 2.48067160e-01, 5.08258915e-01,\n",
       "       5.23709231e-01, 5.59410060e-01, 8.06930544e-01, 3.62353025e-01,\n",
       "       6.31520297e-01, 4.80663913e-01, 1.76321552e-01, 1.12378828e-01,\n",
       "       9.13315750e-01, 2.55530419e-01, 7.89415239e-01, 8.43951531e-01,\n",
       "       4.36145269e-01, 4.93947348e-01, 6.30840160e-03, 9.31627996e-01,\n",
       "       1.48511771e-01, 2.76366163e-01, 9.07741949e-02, 4.59318738e-01,\n",
       "       9.65882883e-01, 3.90659958e-01, 7.31743420e-01, 7.81921991e-01,\n",
       "       7.40486940e-01, 3.04895858e-01, 6.59545833e-01, 5.07660694e-02,\n",
       "       1.67562854e-01, 6.50870391e-01, 6.36789056e-01, 7.79533898e-01,\n",
       "       8.34994229e-01, 9.69771422e-01, 6.23906718e-01, 2.81045506e-01,\n",
       "       1.02315945e-02, 4.60425019e-01, 2.52030555e-01, 2.75633478e-01,\n",
       "       3.46564483e-01, 4.64954680e-01, 2.74888952e-01, 1.23366303e-01,\n",
       "       7.22105496e-01, 6.33690154e-01, 6.13953001e-01, 4.41084662e-01,\n",
       "       2.14323431e-02, 2.98643408e-01, 8.22678423e-01, 4.49850133e-01,\n",
       "       8.82955697e-01, 6.79713610e-01, 9.19360744e-01, 3.64566071e-01,\n",
       "       2.07655385e-01, 3.12823449e-01, 9.17706048e-01, 6.80784671e-02,\n",
       "       1.82744783e-01, 1.93842682e-01, 1.92332051e-01, 3.77073748e-01,\n",
       "       1.74356827e-01, 8.90098802e-01, 6.87356713e-01, 2.63940342e-01,\n",
       "       5.05156801e-01, 4.84413603e-01, 5.62221281e-01, 3.26629572e-01,\n",
       "       5.20176943e-01, 9.07931742e-01, 9.28839651e-01, 5.22187736e-01,\n",
       "       2.67735790e-01, 4.39815534e-01, 7.02408454e-01, 4.01773809e-01,\n",
       "       7.16309385e-01, 1.52024414e-01, 7.24010780e-01, 6.45412982e-01,\n",
       "       7.25758857e-01, 1.35767558e-01, 1.94481613e-02, 2.53840435e-02,\n",
       "       4.37138172e-01, 7.91358942e-01, 3.28217776e-01, 9.57255865e-01,\n",
       "       5.32492605e-01, 6.81754088e-01, 8.59213720e-01, 6.49698335e-01,\n",
       "       9.44283559e-01, 5.75553923e-01, 4.31773943e-01, 8.26438935e-01,\n",
       "       9.83282832e-01, 6.25441976e-01, 1.09216624e-01, 8.66237875e-01,\n",
       "       6.94275378e-01, 5.07482006e-01, 8.20806039e-01, 1.21842327e-01,\n",
       "       2.41560534e-01, 1.42066443e-01, 1.06190057e-01, 5.11830670e-01,\n",
       "       2.70540621e-02, 2.34472898e-02, 9.57631759e-02, 5.70328566e-01,\n",
       "       4.43488146e-01, 5.35589070e-01, 8.45406153e-01, 1.89044232e-01,\n",
       "       3.25332394e-01, 2.96710600e-01, 4.94029370e-01, 2.58866793e-02,\n",
       "       7.47654017e-01, 7.90147475e-01, 3.35620156e-01, 7.50957657e-01,\n",
       "       5.74904245e-01, 3.20644358e-01, 4.23709651e-01, 6.13709979e-01,\n",
       "       3.79894006e-01, 4.49561180e-01, 3.10243517e-02, 8.34247837e-01,\n",
       "       5.15768535e-01, 4.45994585e-01, 2.02357555e-01, 5.19348318e-01,\n",
       "       4.01566331e-01, 3.07021758e-01, 3.89423452e-01, 5.81496221e-01,\n",
       "       4.35965545e-01, 9.86274277e-01, 7.21167281e-01, 3.95964689e-01,\n",
       "       3.91365153e-01, 9.41066839e-01, 8.03133828e-01, 9.79269601e-01,\n",
       "       6.78625107e-01, 1.81900851e-01, 6.85300089e-01, 2.96773895e-01,\n",
       "       5.07928927e-01, 6.09119679e-01, 9.78503678e-01, 7.86715732e-01,\n",
       "       3.21985286e-01, 7.21850080e-01, 4.34818895e-01, 7.56124661e-01,\n",
       "       8.34439796e-01, 6.99021127e-02, 8.43693663e-01, 8.46621927e-01,\n",
       "       7.39975204e-01, 6.42003077e-01, 6.77126659e-01, 8.61978714e-01,\n",
       "       8.32258809e-01, 9.99884907e-01, 8.19964780e-01, 5.53459110e-01,\n",
       "       2.84537197e-01, 5.11826267e-01, 7.65617683e-02, 2.87241510e-01,\n",
       "       4.82821650e-01, 9.89777424e-01, 9.80142504e-01, 2.36121155e-01,\n",
       "       4.50947688e-01, 4.19346939e-01, 4.15279873e-02, 3.05109469e-02,\n",
       "       5.67772782e-02, 6.56166458e-02, 3.90627210e-01, 1.04593082e-01,\n",
       "       9.62639647e-01, 9.03087135e-01, 8.70788695e-01, 7.70557909e-02,\n",
       "       6.83342469e-01, 8.67759192e-03, 4.43099920e-01, 4.88661943e-01,\n",
       "       8.65114590e-01, 3.15453992e-01, 3.30340610e-01, 6.57322907e-01,\n",
       "       1.41437829e-01, 3.40649372e-01, 3.40920021e-01, 9.83468071e-01,\n",
       "       3.39789540e-01, 7.18746404e-01, 2.86913444e-01, 6.48841453e-03,\n",
       "       1.92659281e-01, 9.35834940e-01, 5.95778341e-01, 8.92592029e-01,\n",
       "       2.93620641e-01, 9.94965548e-01, 5.40581351e-01, 4.28010345e-01,\n",
       "       5.31953173e-01, 2.16731295e-01, 6.00545796e-01, 2.97564468e-01,\n",
       "       9.13397121e-01, 3.93783124e-02, 2.00286391e-01, 7.51092317e-01,\n",
       "       6.61543592e-01, 9.81719484e-01, 6.11736351e-01, 5.03527887e-01,\n",
       "       3.48883821e-01, 9.27615706e-01, 5.57294978e-02, 1.52949835e-01,\n",
       "       4.10531878e-01, 5.56087869e-01, 7.53342077e-01, 4.86222995e-01,\n",
       "       5.82496577e-01, 8.71702533e-01, 3.09180936e-02, 6.25590516e-01,\n",
       "       6.66287660e-01, 9.86858258e-01, 1.38477178e-01, 8.19422509e-01,\n",
       "       7.64416890e-01, 9.66555984e-01, 5.71939555e-02, 3.91040227e-01,\n",
       "       2.68755587e-01, 8.84125746e-01, 2.16812113e-01, 5.29844758e-01,\n",
       "       2.75126524e-01, 3.36702598e-01, 2.57200960e-01, 4.20748321e-01,\n",
       "       4.04935756e-01, 3.84249433e-01, 9.91840438e-01, 6.76791118e-01,\n",
       "       8.10031703e-01, 6.76549335e-01, 5.88390991e-01, 4.71693625e-01,\n",
       "       5.46614357e-03, 6.60670325e-01, 4.88039337e-01, 9.55722030e-01,\n",
       "       9.22941902e-01, 1.05706074e-01, 8.55057722e-01, 8.40303859e-01,\n",
       "       3.13122693e-01, 5.24146977e-01, 3.09007093e-02, 5.69463312e-01,\n",
       "       7.57493854e-02, 6.01410761e-01, 1.27006870e-01, 2.96632986e-01,\n",
       "       9.05823629e-01, 1.09769799e-01, 5.06841089e-01, 3.58819926e-01,\n",
       "       6.12522630e-01, 4.20297943e-01, 8.68925409e-01, 1.94439367e-01,\n",
       "       7.63534378e-01, 8.14711105e-02, 4.34078477e-01, 5.60287754e-01,\n",
       "       9.22053503e-01, 7.53994349e-01, 5.99484241e-01, 2.23142998e-01,\n",
       "       8.52918374e-01, 5.64811047e-01, 9.88287059e-02, 1.66042462e-01,\n",
       "       2.65687298e-01, 1.94668226e-01, 5.25663959e-01, 8.11146592e-01,\n",
       "       2.69554775e-01, 5.77058586e-01, 7.51107149e-02, 2.50324331e-01,\n",
       "       9.81996195e-01, 7.59866184e-02, 1.79933256e-01, 7.36779545e-01,\n",
       "       5.62893984e-01, 9.01290245e-02, 3.26852796e-02, 5.18741254e-01,\n",
       "       4.26085807e-01, 4.29733864e-01, 4.69341680e-01, 1.28236179e-01,\n",
       "       1.32461374e-01, 3.00803946e-01, 2.07276555e-01, 1.18189659e-01,\n",
       "       2.89407932e-01, 3.37952179e-01, 4.18367685e-02, 5.57336882e-01,\n",
       "       6.49527825e-01, 7.18828332e-01, 5.20541771e-01, 7.90768454e-01,\n",
       "       8.47591356e-02, 8.60498958e-01, 4.56362720e-01, 4.54520536e-01,\n",
       "       9.27910843e-01, 8.11304676e-01, 9.25288184e-01, 1.64527412e-01,\n",
       "       7.05470427e-01, 6.18797154e-01, 6.56559613e-01, 8.51915889e-01,\n",
       "       7.09869564e-01, 4.79172191e-01, 9.75016161e-01, 4.30984684e-01,\n",
       "       9.09120610e-01, 3.39819411e-01, 4.74946422e-01, 2.97910855e-01,\n",
       "       3.86939289e-02, 2.92343426e-01, 7.70949538e-01, 8.79754206e-01,\n",
       "       5.99883582e-01, 8.45169796e-01, 6.69411073e-02, 4.31039373e-01,\n",
       "       9.14081132e-02, 8.88584457e-01, 7.75631068e-01, 7.00839137e-01,\n",
       "       3.24563045e-01, 9.36305279e-02, 9.33805741e-01, 5.51755954e-01,\n",
       "       1.22726946e-01, 2.39406074e-01, 2.71343755e-01, 4.21702780e-01,\n",
       "       4.08949745e-01, 4.38350458e-01, 4.64134968e-02, 1.12316828e-01,\n",
       "       7.77943186e-01, 4.99737893e-01, 1.88851961e-01, 5.77180461e-01,\n",
       "       8.91570638e-02, 2.63498319e-01, 9.37428014e-01, 6.96507388e-01,\n",
       "       3.92049311e-01, 2.01295556e-01, 1.50246858e-01, 4.75846831e-01,\n",
       "       4.87886001e-01, 3.56150343e-01, 9.81771695e-01, 1.04451283e-02,\n",
       "       6.42478945e-01, 5.86758885e-01, 2.62938679e-02, 5.97643908e-02,\n",
       "       3.23798956e-01, 8.60222384e-01, 9.18711245e-01, 3.93591800e-01,\n",
       "       7.07092957e-01, 6.51580438e-01, 2.04602031e-03, 3.28312353e-01,\n",
       "       7.00335925e-01, 1.37998262e-01, 4.46060565e-01, 3.50723014e-02,\n",
       "       1.42284245e-01, 1.61791597e-01, 6.54109069e-01, 2.81229500e-01,\n",
       "       2.32685424e-01, 2.43306284e-01, 1.30752596e-01, 9.36406930e-01,\n",
       "       5.23899286e-01, 6.48471760e-01, 3.27268160e-02, 4.62444516e-01,\n",
       "       7.25726981e-01, 9.79059014e-01, 4.94677421e-02, 5.84597330e-01,\n",
       "       9.43507508e-02, 8.98780087e-01, 9.28077258e-01, 4.17771485e-02,\n",
       "       8.91056121e-01, 6.95724823e-01, 3.34301629e-01, 7.82913247e-01,\n",
       "       5.41438303e-01, 2.14366578e-01, 6.68375536e-01, 2.94537741e-01,\n",
       "       1.72793201e-01, 5.36503138e-01, 3.43527413e-01, 8.83740102e-01,\n",
       "       2.53407278e-01, 6.52266512e-01, 2.71497668e-01, 3.65507897e-01,\n",
       "       7.05974435e-01, 4.89093654e-01, 5.56362484e-01, 3.49091389e-01,\n",
       "       2.49539573e-01, 6.55220587e-01, 1.36080605e-01, 2.45176967e-01,\n",
       "       1.79223436e-01, 8.58006113e-01, 9.67088882e-01, 1.29434385e-01,\n",
       "       9.13184014e-01, 5.31172375e-02, 1.52712553e-01, 8.04849873e-01,\n",
       "       9.95996944e-02, 4.74697443e-02, 3.33833753e-01, 3.06156654e-01,\n",
       "       2.36801609e-01, 5.43524714e-01, 1.46793399e-01, 6.45877001e-01,\n",
       "       9.95311279e-01, 2.39335093e-01, 9.43184443e-01, 7.28282110e-01,\n",
       "       9.70938902e-02, 4.93404477e-01, 2.86938201e-01, 8.37031733e-01,\n",
       "       4.39823616e-01, 7.37947643e-01, 9.06964695e-01, 4.30717407e-01,\n",
       "       5.27434341e-01, 6.10246499e-01, 2.39326221e-01, 7.29016266e-01,\n",
       "       4.12122186e-01, 9.76526146e-01, 6.28092062e-01, 9.61646212e-02,\n",
       "       7.21284628e-02, 5.05157384e-02, 2.08844396e-01, 4.20190538e-01,\n",
       "       1.14667742e-01, 3.14902060e-01, 9.46696291e-02, 3.24768410e-01,\n",
       "       1.66488862e-01, 2.67726206e-01, 7.21206553e-01, 4.71037953e-01,\n",
       "       2.19335073e-01, 5.45550495e-01, 6.97252200e-01, 4.70898489e-01,\n",
       "       7.08111470e-01, 7.03835543e-01, 2.59917980e-01, 2.65152267e-01,\n",
       "       3.42916172e-01, 5.99802849e-01, 6.34726042e-01, 5.43237456e-01,\n",
       "       6.77298139e-01, 6.26835306e-01, 3.44665355e-01, 6.01022450e-01,\n",
       "       6.37362947e-01, 9.56798266e-01, 3.04176154e-01, 6.28720967e-01,\n",
       "       6.85312212e-01, 9.49947203e-01, 2.91752072e-01, 4.72634511e-01,\n",
       "       5.87736067e-01, 6.40617308e-01, 5.35800302e-01, 5.45109417e-01,\n",
       "       1.03657785e-01, 4.53388961e-01, 3.31668407e-01, 9.77051507e-01,\n",
       "       2.11446100e-01, 1.49958503e-01, 4.19431375e-01, 3.72010453e-01,\n",
       "       4.74457700e-01, 4.30020543e-01, 7.61007670e-01, 4.80495174e-01,\n",
       "       4.24882843e-01, 4.79204390e-01, 3.49507050e-01, 9.75550069e-01])"
      ]
     },
     "execution_count": 55,
     "metadata": {},
     "output_type": "execute_result"
    }
   ],
   "source": [
    "A"
   ]
  },
  {
   "cell_type": "code",
   "execution_count": 56,
   "id": "529de742",
   "metadata": {},
   "outputs": [],
   "source": [
    "import matplotlib.pyplot as plt"
   ]
  },
  {
   "cell_type": "code",
   "execution_count": 57,
   "id": "6dc3471e",
   "metadata": {},
   "outputs": [
    {
     "data": {
      "text/plain": [
       "(array([12.,  8., 13., 13.,  8., 13., 10.,  9.,  9., 15., 12., 10.,  8.,\n",
       "        11.,  9.,  8., 11., 12.,  8.,  9., 12.,  7.,  6.,  8.,  9., 10.,\n",
       "        12., 10., 10., 17., 12.,  8., 18., 13., 13.,  5.,  7.,  6.,  5.,\n",
       "        13., 10.,  7., 13., 18., 11., 10.,  9., 15., 12., 11.,  8.,  8.,\n",
       "        13., 12.,  9.,  8., 10.,  7., 12., 10.,  7.,  9., 12.,  9., 15.,\n",
       "        11.,  7., 12., 11.,  8., 15.,  7., 18.,  4., 10., 16.,  8., 11.,\n",
       "         7.,  8.,  4.,  8.,  6.,  7.,  9., 12.,  9.,  6., 10.,  6.,  8.,\n",
       "        10.,  9., 11.,  5., 10., 11., 10., 11., 11.]),\n",
       " array([3.69421721e-04, 1.03645766e-02, 2.03597314e-02, 3.03548863e-02,\n",
       "        4.03500411e-02, 5.03451960e-02, 6.03403508e-02, 7.03355057e-02,\n",
       "        8.03306605e-02, 9.03258154e-02, 1.00320970e-01, 1.10316125e-01,\n",
       "        1.20311280e-01, 1.30306435e-01, 1.40301590e-01, 1.50296744e-01,\n",
       "        1.60291899e-01, 1.70287054e-01, 1.80282209e-01, 1.90277364e-01,\n",
       "        2.00272519e-01, 2.10267674e-01, 2.20262828e-01, 2.30257983e-01,\n",
       "        2.40253138e-01, 2.50248293e-01, 2.60243448e-01, 2.70238603e-01,\n",
       "        2.80233758e-01, 2.90228912e-01, 3.00224067e-01, 3.10219222e-01,\n",
       "        3.20214377e-01, 3.30209532e-01, 3.40204687e-01, 3.50199841e-01,\n",
       "        3.60194996e-01, 3.70190151e-01, 3.80185306e-01, 3.90180461e-01,\n",
       "        4.00175616e-01, 4.10170771e-01, 4.20165925e-01, 4.30161080e-01,\n",
       "        4.40156235e-01, 4.50151390e-01, 4.60146545e-01, 4.70141700e-01,\n",
       "        4.80136855e-01, 4.90132009e-01, 5.00127164e-01, 5.10122319e-01,\n",
       "        5.20117474e-01, 5.30112629e-01, 5.40107784e-01, 5.50102938e-01,\n",
       "        5.60098093e-01, 5.70093248e-01, 5.80088403e-01, 5.90083558e-01,\n",
       "        6.00078713e-01, 6.10073868e-01, 6.20069022e-01, 6.30064177e-01,\n",
       "        6.40059332e-01, 6.50054487e-01, 6.60049642e-01, 6.70044797e-01,\n",
       "        6.80039952e-01, 6.90035106e-01, 7.00030261e-01, 7.10025416e-01,\n",
       "        7.20020571e-01, 7.30015726e-01, 7.40010881e-01, 7.50006036e-01,\n",
       "        7.60001190e-01, 7.69996345e-01, 7.79991500e-01, 7.89986655e-01,\n",
       "        7.99981810e-01, 8.09976965e-01, 8.19972119e-01, 8.29967274e-01,\n",
       "        8.39962429e-01, 8.49957584e-01, 8.59952739e-01, 8.69947894e-01,\n",
       "        8.79943049e-01, 8.89938203e-01, 8.99933358e-01, 9.09928513e-01,\n",
       "        9.19923668e-01, 9.29918823e-01, 9.39913978e-01, 9.49909133e-01,\n",
       "        9.59904287e-01, 9.69899442e-01, 9.79894597e-01, 9.89889752e-01,\n",
       "        9.99884907e-01]),\n",
       " <BarContainer object of 100 artists>)"
      ]
     },
     "execution_count": 57,
     "metadata": {},
     "output_type": "execute_result"
    },
    {
     "data": {
      "image/png": "[encoded data removed]",
      "text/plain": [
       "<Figure size 504x252 with 1 Axes>"
      ]
     },
     "metadata": {
      "needs_background": "light"
     },
     "output_type": "display_data"
    }
   ],
   "source": [
    "plt.hist(A, bins = 100)"
   ]
  },
  {
   "cell_type": "code",
   "execution_count": 62,
   "id": "acd6cb0f",
   "metadata": {},
   "outputs": [
    {
     "data": {
      "text/plain": [
       "(array([1.000e+00, 0.000e+00, 0.000e+00, 0.000e+00, 2.000e+00, 1.000e+00,\n",
       "        4.000e+00, 0.000e+00, 0.000e+00, 4.000e+00, 2.000e+00, 6.000e+00,\n",
       "        3.000e+00, 7.000e+00, 8.000e+00, 7.000e+00, 1.400e+01, 1.000e+01,\n",
       "        1.200e+01, 1.600e+01, 1.200e+01, 1.600e+01, 1.600e+01, 2.000e+01,\n",
       "        1.800e+01, 2.600e+01, 3.200e+01, 3.300e+01, 3.200e+01, 3.600e+01,\n",
       "        2.600e+01, 4.700e+01, 5.400e+01, 5.400e+01, 6.200e+01, 6.300e+01,\n",
       "        8.300e+01, 8.500e+01, 8.700e+01, 9.100e+01, 1.220e+02, 1.400e+02,\n",
       "        1.680e+02, 1.600e+02, 1.770e+02, 1.890e+02, 2.010e+02, 2.110e+02,\n",
       "        2.330e+02, 2.490e+02, 2.840e+02, 2.770e+02, 3.110e+02, 3.470e+02,\n",
       "        4.040e+02, 3.940e+02, 4.740e+02, 4.730e+02, 5.210e+02, 5.380e+02,\n",
       "        5.650e+02, 6.380e+02, 6.790e+02, 7.220e+02, 7.400e+02, 7.740e+02,\n",
       "        8.090e+02, 8.600e+02, 9.280e+02, 9.470e+02, 9.750e+02, 1.049e+03,\n",
       "        1.065e+03, 1.113e+03, 1.116e+03, 1.226e+03, 1.177e+03, 1.277e+03,\n",
       "        1.342e+03, 1.332e+03, 1.435e+03, 1.480e+03, 1.453e+03, 1.531e+03,\n",
       "        1.469e+03, 1.548e+03, 1.562e+03, 1.630e+03, 1.579e+03, 1.584e+03,\n",
       "        1.671e+03, 1.690e+03, 1.613e+03, 1.747e+03, 1.706e+03, 1.726e+03,\n",
       "        1.660e+03, 1.662e+03, 1.669e+03, 1.619e+03, 1.724e+03, 1.660e+03,\n",
       "        1.616e+03, 1.575e+03, 1.509e+03, 1.507e+03, 1.466e+03, 1.479e+03,\n",
       "        1.394e+03, 1.348e+03, 1.350e+03, 1.401e+03, 1.251e+03, 1.285e+03,\n",
       "        1.141e+03, 1.115e+03, 1.101e+03, 1.093e+03, 1.093e+03, 1.004e+03,\n",
       "        8.610e+02, 9.330e+02, 9.280e+02, 8.210e+02, 7.760e+02, 7.110e+02,\n",
       "        7.390e+02, 6.570e+02, 6.230e+02, 5.760e+02, 5.270e+02, 5.520e+02,\n",
       "        4.710e+02, 4.280e+02, 4.400e+02, 4.120e+02, 3.760e+02, 3.330e+02,\n",
       "        3.130e+02, 3.080e+02, 2.710e+02, 2.550e+02, 2.360e+02, 2.290e+02,\n",
       "        1.820e+02, 1.660e+02, 1.580e+02, 1.530e+02, 1.290e+02, 1.090e+02,\n",
       "        1.050e+02, 1.030e+02, 9.900e+01, 6.000e+01, 6.900e+01, 6.700e+01,\n",
       "        5.500e+01, 5.500e+01, 4.700e+01, 4.100e+01, 3.700e+01, 2.900e+01,\n",
       "        3.300e+01, 1.800e+01, 2.100e+01, 1.900e+01, 2.000e+01, 1.200e+01,\n",
       "        1.200e+01, 1.500e+01, 1.500e+01, 4.000e+00, 8.000e+00, 4.000e+00,\n",
       "        6.000e+00, 7.000e+00, 5.000e+00, 5.000e+00, 1.000e+00, 1.000e+00,\n",
       "        1.000e+00, 1.000e+00, 2.000e+00, 0.000e+00, 1.000e+00, 0.000e+00,\n",
       "        0.000e+00, 0.000e+00, 2.000e+00, 2.000e+00, 0.000e+00, 0.000e+00,\n",
       "        0.000e+00, 1.000e+00, 0.000e+00, 0.000e+00, 0.000e+00, 0.000e+00,\n",
       "        0.000e+00, 1.000e+00]),\n",
       " array([-4.00666406e+00, -3.96449624e+00, -3.92232842e+00, -3.88016060e+00,\n",
       "        -3.83799278e+00, -3.79582496e+00, -3.75365714e+00, -3.71148932e+00,\n",
       "        -3.66932150e+00, -3.62715368e+00, -3.58498587e+00, -3.54281805e+00,\n",
       "        -3.50065023e+00, -3.45848241e+00, -3.41631459e+00, -3.37414677e+00,\n",
       "        -3.33197895e+00, -3.28981113e+00, -3.24764331e+00, -3.20547549e+00,\n",
       "        -3.16330767e+00, -3.12113985e+00, -3.07897203e+00, -3.03680421e+00,\n",
       "        -2.99463639e+00, -2.95246857e+00, -2.91030075e+00, -2.86813293e+00,\n",
       "        -2.82596511e+00, -2.78379729e+00, -2.74162947e+00, -2.69946166e+00,\n",
       "        -2.65729384e+00, -2.61512602e+00, -2.57295820e+00, -2.53079038e+00,\n",
       "        -2.48862256e+00, -2.44645474e+00, -2.40428692e+00, -2.36211910e+00,\n",
       "        -2.31995128e+00, -2.27778346e+00, -2.23561564e+00, -2.19344782e+00,\n",
       "        -2.15128000e+00, -2.10911218e+00, -2.06694436e+00, -2.02477654e+00,\n",
       "        -1.98260872e+00, -1.94044090e+00, -1.89827308e+00, -1.85610526e+00,\n",
       "        -1.81393745e+00, -1.77176963e+00, -1.72960181e+00, -1.68743399e+00,\n",
       "        -1.64526617e+00, -1.60309835e+00, -1.56093053e+00, -1.51876271e+00,\n",
       "        -1.47659489e+00, -1.43442707e+00, -1.39225925e+00, -1.35009143e+00,\n",
       "        -1.30792361e+00, -1.26575579e+00, -1.22358797e+00, -1.18142015e+00,\n",
       "        -1.13925233e+00, -1.09708451e+00, -1.05491669e+00, -1.01274887e+00,\n",
       "        -9.70581055e-01, -9.28413236e-01, -8.86245416e-01, -8.44077597e-01,\n",
       "        -8.01909777e-01, -7.59741958e-01, -7.17574138e-01, -6.75406319e-01,\n",
       "        -6.33238499e-01, -5.91070680e-01, -5.48902860e-01, -5.06735040e-01,\n",
       "        -4.64567221e-01, -4.22399401e-01, -3.80231582e-01, -3.38063762e-01,\n",
       "        -2.95895943e-01, -2.53728123e-01, -2.11560304e-01, -1.69392484e-01,\n",
       "        -1.27224665e-01, -8.50568453e-02, -4.28890258e-02, -7.21206302e-04,\n",
       "         4.14466132e-02,  8.36144327e-02,  1.25782252e-01,  1.67950072e-01,\n",
       "         2.10117891e-01,  2.52285711e-01,  2.94453530e-01,  3.36621350e-01,\n",
       "         3.78789169e-01,  4.20956989e-01,  4.63124808e-01,  5.05292628e-01,\n",
       "         5.47460447e-01,  5.89628267e-01,  6.31796086e-01,  6.73963906e-01,\n",
       "         7.16131725e-01,  7.58299545e-01,  8.00467364e-01,  8.42635184e-01,\n",
       "         8.84803004e-01,  9.26970823e-01,  9.69138643e-01,  1.01130646e+00,\n",
       "         1.05347428e+00,  1.09564210e+00,  1.13780992e+00,  1.17997774e+00,\n",
       "         1.22214556e+00,  1.26431338e+00,  1.30648120e+00,  1.34864902e+00,\n",
       "         1.39081684e+00,  1.43298466e+00,  1.47515248e+00,  1.51732030e+00,\n",
       "         1.55948812e+00,  1.60165594e+00,  1.64382375e+00,  1.68599157e+00,\n",
       "         1.72815939e+00,  1.77032721e+00,  1.81249503e+00,  1.85466285e+00,\n",
       "         1.89683067e+00,  1.93899849e+00,  1.98116631e+00,  2.02333413e+00,\n",
       "         2.06550195e+00,  2.10766977e+00,  2.14983759e+00,  2.19200541e+00,\n",
       "         2.23417323e+00,  2.27634105e+00,  2.31850887e+00,  2.36067669e+00,\n",
       "         2.40284451e+00,  2.44501233e+00,  2.48718015e+00,  2.52934796e+00,\n",
       "         2.57151578e+00,  2.61368360e+00,  2.65585142e+00,  2.69801924e+00,\n",
       "         2.74018706e+00,  2.78235488e+00,  2.82452270e+00,  2.86669052e+00,\n",
       "         2.90885834e+00,  2.95102616e+00,  2.99319398e+00,  3.03536180e+00,\n",
       "         3.07752962e+00,  3.11969744e+00,  3.16186526e+00,  3.20403308e+00,\n",
       "         3.24620090e+00,  3.28836872e+00,  3.33053654e+00,  3.37270435e+00,\n",
       "         3.41487217e+00,  3.45703999e+00,  3.49920781e+00,  3.54137563e+00,\n",
       "         3.58354345e+00,  3.62571127e+00,  3.66787909e+00,  3.71004691e+00,\n",
       "         3.75221473e+00,  3.79438255e+00,  3.83655037e+00,  3.87871819e+00,\n",
       "         3.92088601e+00,  3.96305383e+00,  4.00522165e+00,  4.04738947e+00,\n",
       "         4.08955729e+00,  4.13172511e+00,  4.17389293e+00,  4.21606075e+00,\n",
       "         4.25822856e+00,  4.30039638e+00,  4.34256420e+00,  4.38473202e+00,\n",
       "         4.42689984e+00]),\n",
       " <BarContainer object of 200 artists>)"
      ]
     },
     "execution_count": 62,
     "metadata": {},
     "output_type": "execute_result"
    },
    {
     "data": {
      "image/png": "[encoded data removed]",
      "text/plain": [
       "<Figure size 504x252 with 1 Axes>"
      ]
     },
     "metadata": {
      "needs_background": "light"
     },
     "output_type": "display_data"
    }
   ],
   "source": [
    "B = np.random.randn(100000)\n",
    "plt.hist(B, bins = 200)"
   ]
  },
  {
   "cell_type": "code",
   "execution_count": 63,
   "id": "79be101e",
   "metadata": {},
   "outputs": [],
   "source": [
    "C = np.random.rand(2, 3)"
   ]
  },
  {
   "cell_type": "code",
   "execution_count": 64,
   "id": "27c185ea",
   "metadata": {},
   "outputs": [
    {
     "data": {
      "text/plain": [
       "array([[0.76745358, 0.32532677, 0.07880754],\n",
       "       [0.28811187, 0.14831434, 0.68803177]])"
      ]
     },
     "execution_count": 64,
     "metadata": {},
     "output_type": "execute_result"
    }
   ],
   "source": [
    "C"
   ]
  },
  {
   "cell_type": "code",
   "execution_count": 65,
   "id": "d9361555",
   "metadata": {},
   "outputs": [
    {
     "data": {
      "text/plain": [
       "2"
      ]
     },
     "execution_count": 65,
     "metadata": {},
     "output_type": "execute_result"
    }
   ],
   "source": [
    "C.ndim"
   ]
  },
  {
   "cell_type": "code",
   "execution_count": 66,
   "id": "a36f68ea",
   "metadata": {},
   "outputs": [],
   "source": [
    "C = np.random.rand(2, 3, 4, 2)"
   ]
  },
  {
   "cell_type": "code",
   "execution_count": 67,
   "id": "ead158b3",
   "metadata": {},
   "outputs": [
    {
     "data": {
      "text/plain": [
       "array([[[[0.75644442, 0.72079472],\n",
       "         [0.6070493 , 0.23204177],\n",
       "         [0.285149  , 0.23973718],\n",
       "         [0.98907262, 0.54675927]],\n",
       "\n",
       "        [[0.94003295, 0.84671386],\n",
       "         [0.41397085, 0.30404739],\n",
       "         [0.11334994, 0.43760126],\n",
       "         [0.57723125, 0.91062664]],\n",
       "\n",
       "        [[0.93701502, 0.34243997],\n",
       "         [0.26616879, 0.67847276],\n",
       "         [0.89520288, 0.30957527],\n",
       "         [0.0060054 , 0.69681005]]],\n",
       "\n",
       "\n",
       "       [[[0.31795595, 0.72430254],\n",
       "         [0.78429892, 0.26192537],\n",
       "         [0.96779025, 0.01124939],\n",
       "         [0.30789524, 0.88531176]],\n",
       "\n",
       "        [[0.41132685, 0.10722709],\n",
       "         [0.12676922, 0.61268676],\n",
       "         [0.11773043, 0.52996143],\n",
       "         [0.13166148, 0.71653218]],\n",
       "\n",
       "        [[0.97106177, 0.68133956],\n",
       "         [0.24490606, 0.56871624],\n",
       "         [0.23818172, 0.34001804],\n",
       "         [0.06358661, 0.63839562]]]])"
      ]
     },
     "execution_count": 67,
     "metadata": {},
     "output_type": "execute_result"
    }
   ],
   "source": [
    "C"
   ]
  },
  {
   "cell_type": "code",
   "execution_count": 68,
   "id": "9bf42a2f",
   "metadata": {},
   "outputs": [
    {
     "data": {
      "text/plain": [
       "4"
      ]
     },
     "execution_count": 68,
     "metadata": {},
     "output_type": "execute_result"
    }
   ],
   "source": [
    "C.ndim"
   ]
  },
  {
   "cell_type": "code",
   "execution_count": 77,
   "id": "bf4288b7",
   "metadata": {},
   "outputs": [],
   "source": [
    "D = np.arange(100).reshape(4, 25)"
   ]
  },
  {
   "cell_type": "code",
   "execution_count": 74,
   "id": "5b6f7341",
   "metadata": {},
   "outputs": [
    {
     "name": "stdout",
     "output_type": "stream",
     "text": [
      "[[ 0  1  2  3  4  5  6  7  8  9 10 11 12 13 14 15 16 17 18 19 20 21 22 23\n",
      "  24]\n",
      " [25 26 27 28 29 30 31 32 33 34 35 36 37 38 39 40 41 42 43 44 45 46 47 48\n",
      "  49]\n",
      " [50 51 52 53 54 55 56 57 58 59 60 61 62 63 64 65 66 67 68 69 70 71 72 73\n",
      "  74]\n",
      " [75 76 77 78 79 80 81 82 83 84 85 86 87 88 89 90 91 92 93 94 95 96 97 98\n",
      "  99]]\n"
     ]
    }
   ],
   "source": [
    "print(D)"
   ]
  },
  {
   "cell_type": "code",
   "execution_count": 72,
   "id": "7e3ab4c3",
   "metadata": {},
   "outputs": [
    {
     "data": {
      "text/plain": [
       "(4, 25)"
      ]
     },
     "execution_count": 72,
     "metadata": {},
     "output_type": "execute_result"
    }
   ],
   "source": [
    "D.shape"
   ]
  },
  {
   "cell_type": "code",
   "execution_count": 78,
   "id": "78a4184c",
   "metadata": {},
   "outputs": [],
   "source": [
    "D = np.arange(100).reshape(4, 5, 5)"
   ]
  },
  {
   "cell_type": "code",
   "execution_count": 79,
   "id": "53db2e59",
   "metadata": {},
   "outputs": [
    {
     "data": {
      "text/plain": [
       "array([[[ 0,  1,  2,  3,  4],\n",
       "        [ 5,  6,  7,  8,  9],\n",
       "        [10, 11, 12, 13, 14],\n",
       "        [15, 16, 17, 18, 19],\n",
       "        [20, 21, 22, 23, 24]],\n",
       "\n",
       "       [[25, 26, 27, 28, 29],\n",
       "        [30, 31, 32, 33, 34],\n",
       "        [35, 36, 37, 38, 39],\n",
       "        [40, 41, 42, 43, 44],\n",
       "        [45, 46, 47, 48, 49]],\n",
       "\n",
       "       [[50, 51, 52, 53, 54],\n",
       "        [55, 56, 57, 58, 59],\n",
       "        [60, 61, 62, 63, 64],\n",
       "        [65, 66, 67, 68, 69],\n",
       "        [70, 71, 72, 73, 74]],\n",
       "\n",
       "       [[75, 76, 77, 78, 79],\n",
       "        [80, 81, 82, 83, 84],\n",
       "        [85, 86, 87, 88, 89],\n",
       "        [90, 91, 92, 93, 94],\n",
       "        [95, 96, 97, 98, 99]]])"
      ]
     },
     "execution_count": 79,
     "metadata": {},
     "output_type": "execute_result"
    }
   ],
   "source": [
    "D"
   ]
  },
  {
   "cell_type": "code",
   "execution_count": 80,
   "id": "f1b9ec89",
   "metadata": {},
   "outputs": [
    {
     "data": {
      "text/plain": [
       "(4, 5, 5)"
      ]
     },
     "execution_count": 80,
     "metadata": {},
     "output_type": "execute_result"
    }
   ],
   "source": [
    "D.shape"
   ]
  },
  {
   "cell_type": "code",
   "execution_count": 84,
   "id": "abca7cce",
   "metadata": {},
   "outputs": [
    {
     "name": "stdout",
     "output_type": "stream",
     "text": [
      "[[0. 0. 0. 0. 0.]\n",
      " [0. 0. 0. 0. 0.]\n",
      " [0. 0. 0. 0. 0.]\n",
      " [0. 0. 0. 0. 0.]\n",
      " [0. 0. 0. 0. 0.]]\n"
     ]
    }
   ],
   "source": [
    "Z = np.zeros((5, 5))\n",
    "print(Z)"
   ]
  },
  {
   "cell_type": "code",
   "execution_count": 86,
   "id": "1be78725",
   "metadata": {},
   "outputs": [
    {
     "name": "stdout",
     "output_type": "stream",
     "text": [
      "[[1. 1. 1. 1. 1. 1. 1. 1. 1. 1.]\n",
      " [1. 1. 1. 1. 1. 1. 1. 1. 1. 1.]\n",
      " [1. 1. 1. 1. 1. 1. 1. 1. 1. 1.]\n",
      " [1. 1. 1. 1. 1. 1. 1. 1. 1. 1.]\n",
      " [1. 1. 1. 1. 1. 1. 1. 1. 1. 1.]\n",
      " [1. 1. 1. 1. 1. 1. 1. 1. 1. 1.]\n",
      " [1. 1. 1. 1. 1. 1. 1. 1. 1. 1.]\n",
      " [1. 1. 1. 1. 1. 1. 1. 1. 1. 1.]\n",
      " [1. 1. 1. 1. 1. 1. 1. 1. 1. 1.]\n",
      " [1. 1. 1. 1. 1. 1. 1. 1. 1. 1.]]\n"
     ]
    }
   ],
   "source": [
    "O = np.ones((10, 10))\n",
    "print(O)"
   ]
  },
  {
   "cell_type": "code",
   "execution_count": 87,
   "id": "2a540b99",
   "metadata": {},
   "outputs": [
    {
     "data": {
      "text/plain": [
       "array([5.42667811e-01, 4.44765228e-03, 2.81175374e-01, 1.24684427e-01,\n",
       "       3.02970136e-01, 2.23830185e-01, 6.88886851e-01, 8.61860823e-01,\n",
       "       2.03988762e-01, 2.55085796e-01, 1.64179913e-01, 5.85376573e-01,\n",
       "       5.99316013e-01, 7.07967685e-01, 5.24361039e-01, 7.53128813e-01,\n",
       "       8.93981803e-01, 4.82807600e-01, 7.90032328e-01, 1.85743972e-01,\n",
       "       4.53077701e-02, 7.11806426e-01, 9.79207216e-01, 7.28640072e-01,\n",
       "       4.30499506e-01, 3.29780454e-01, 3.49178733e-01, 1.92653370e-01,\n",
       "       5.54930688e-02, 5.32524879e-01, 9.33005934e-01, 1.35833375e-02,\n",
       "       6.14755104e-01, 3.46378944e-01, 4.36129189e-03, 4.91369922e-01,\n",
       "       7.69048870e-01, 1.15857972e-01, 7.48779077e-01, 5.39012081e-01,\n",
       "       6.12441179e-01, 4.45290516e-01, 4.51460000e-01, 9.00426437e-01,\n",
       "       1.32436416e-01, 8.69585443e-01, 3.05401841e-01, 3.97861543e-01,\n",
       "       9.76749006e-01, 4.54699765e-01, 2.91735672e-01, 4.02892315e-01,\n",
       "       2.02760828e-01, 8.50310989e-01, 6.37327800e-01, 7.03178086e-01,\n",
       "       1.96992582e-01, 3.35119143e-01, 5.28161671e-01, 9.51040632e-01,\n",
       "       5.04623382e-01, 4.64979220e-01, 4.03563841e-01, 2.91779335e-02,\n",
       "       9.93746180e-01, 5.93727359e-01, 3.27063281e-01, 7.78410849e-01,\n",
       "       9.32599343e-01, 7.24661058e-01, 5.32011827e-01, 3.13199557e-01,\n",
       "       3.01210377e-01, 4.43837497e-01, 5.87230240e-01, 5.66498794e-01,\n",
       "       7.81031514e-01, 3.90500307e-01, 1.37706716e-01, 3.55942647e-02,\n",
       "       4.77082576e-01, 8.88293309e-01, 1.55679064e-01, 8.53713647e-01,\n",
       "       1.70486299e-01, 1.54597312e-01, 9.33964927e-01, 9.60893708e-01,\n",
       "       3.21409226e-01, 8.84416698e-01, 8.91454267e-01, 3.62639593e-01,\n",
       "       3.61559030e-01, 2.48304308e-01, 7.53580299e-01, 7.92597859e-02,\n",
       "       4.33093780e-01, 6.00262244e-01, 8.41405350e-01, 8.59452848e-01,\n",
       "       8.53140139e-02, 7.97189236e-01, 2.87763446e-01, 6.73205026e-01,\n",
       "       8.51627756e-01, 3.28903152e-01, 8.77634222e-01, 2.51735356e-01,\n",
       "       6.01206988e-01, 7.02044192e-01, 6.39159042e-02, 3.11607367e-01,\n",
       "       8.59238276e-01, 2.00596070e-01, 9.25686629e-01, 6.93906452e-02,\n",
       "       9.27036348e-01, 1.01288246e-01, 9.64632775e-01, 8.26475514e-01,\n",
       "       9.59207846e-01, 3.28012396e-01, 6.60182960e-01, 8.77594357e-01,\n",
       "       5.68688206e-01, 9.07610237e-02, 7.21964183e-01, 7.24810212e-01,\n",
       "       3.05239243e-01, 9.90946880e-01, 6.93736277e-02, 1.48238369e-01,\n",
       "       2.04641730e-01, 4.74494597e-01, 2.34332993e-02, 5.63808575e-01,\n",
       "       4.71301123e-01, 8.68672381e-01, 9.16733796e-01, 7.53635793e-01,\n",
       "       1.96636802e-02, 8.87743356e-01, 5.88705399e-01, 7.41257874e-01,\n",
       "       4.59206122e-01, 9.92979244e-01, 1.76968711e-01, 1.19450046e-01,\n",
       "       3.53413573e-01, 9.93600977e-01, 4.27172965e-01, 8.49177688e-02,\n",
       "       5.35063264e-01, 1.73404709e-01, 7.58929048e-01, 7.59775887e-01,\n",
       "       3.96298100e-01, 1.71196204e-01, 5.69222142e-02, 9.51138375e-01,\n",
       "       2.58406207e-01, 7.91619530e-01, 7.06919174e-01, 8.45156167e-01,\n",
       "       9.02558266e-01, 8.44520169e-02, 2.91052626e-01, 9.45240580e-01,\n",
       "       6.52858666e-01, 1.67178839e-01, 6.51273751e-01, 3.79146609e-02,\n",
       "       3.48394932e-01, 4.54907744e-01, 3.71315834e-01, 7.79299030e-01,\n",
       "       6.87865794e-02, 1.34814229e-01, 4.94960576e-01, 8.40030008e-01,\n",
       "       9.58752976e-01, 2.29394295e-01, 4.85537173e-01, 6.36776502e-01,\n",
       "       6.55558364e-01, 3.13032766e-01, 3.53146702e-01, 6.96485062e-01,\n",
       "       3.77280194e-01, 3.98634448e-01, 8.81016881e-01, 4.48760839e-01,\n",
       "       7.94089513e-02, 7.63761867e-01, 4.76751088e-01, 6.72568182e-01,\n",
       "       2.69356444e-02, 6.75759958e-01, 7.54088348e-01, 5.53254592e-01,\n",
       "       7.69942944e-01, 4.62804720e-01, 9.93969665e-01, 3.10271202e-01,\n",
       "       9.84723969e-01, 5.36962688e-01, 4.91529573e-01, 3.82148067e-01,\n",
       "       7.42556836e-01, 2.86710121e-01, 8.33005660e-01, 7.23759625e-01,\n",
       "       7.56683093e-01, 2.97929976e-01, 1.89753692e-01, 6.87480582e-01,\n",
       "       3.67356499e-01, 3.31759457e-01, 7.70571192e-01, 3.30342592e-01,\n",
       "       9.03775147e-01, 1.90923805e-01, 2.72418028e-01, 5.51272836e-01,\n",
       "       6.41399223e-01, 7.64329130e-01, 4.38916070e-01, 5.98721513e-01,\n",
       "       2.09756378e-01, 5.93682892e-01, 2.64034200e-01, 4.17771652e-01,\n",
       "       6.44730107e-02, 5.33311277e-01, 9.16021740e-01, 3.84551405e-01,\n",
       "       7.59045044e-01, 7.21871072e-01, 8.18645913e-01, 6.87174397e-01,\n",
       "       4.00782084e-01, 8.53891059e-01, 1.07757180e-01, 4.74213274e-01,\n",
       "       3.51490169e-01, 2.97645399e-01, 7.08261722e-01, 2.29364326e-02,\n",
       "       3.49128106e-01, 5.34948936e-02, 6.74911343e-01, 1.19046696e-01,\n",
       "       4.37508195e-01, 3.18439564e-02, 4.01934307e-01, 1.51969895e-01,\n",
       "       9.04706262e-02, 1.67419506e-01, 8.26411309e-01, 4.63665838e-01,\n",
       "       8.86422438e-01, 5.19908991e-01, 1.87172796e-01, 8.52933677e-02,\n",
       "       3.69421721e-04, 6.28355523e-01, 5.32871574e-03, 5.24001232e-01,\n",
       "       3.20466036e-01, 5.99164604e-01, 1.33860738e-01, 8.86696150e-01,\n",
       "       2.07701280e-02, 6.42267477e-01, 2.54783702e-01, 1.53112230e-02,\n",
       "       7.48862935e-01, 4.24634134e-02, 7.92331481e-01, 7.84366400e-01,\n",
       "       5.72789607e-01, 6.34058432e-01, 9.54060941e-01, 6.28022591e-01,\n",
       "       6.27896416e-01, 6.95025068e-01, 7.24184182e-01, 4.99529892e-01,\n",
       "       2.93196129e-01, 6.39559542e-01, 6.95104208e-01, 6.46698630e-01,\n",
       "       6.44702454e-01, 3.08376242e-01, 5.49576804e-01, 7.43996999e-01,\n",
       "       1.40901994e-02, 4.21525890e-01, 6.27848737e-01, 7.21286311e-01,\n",
       "       1.49865060e-01, 5.64748630e-02, 3.21683736e-01, 7.42440361e-01,\n",
       "       9.98880719e-01, 9.74115681e-01, 8.20152175e-01, 9.36582428e-01,\n",
       "       5.68689784e-01, 9.17304296e-02, 2.44317388e-01, 2.28602204e-01,\n",
       "       2.17973130e-01, 1.63552949e-01, 4.76306701e-01, 2.02109715e-01,\n",
       "       1.63309952e-01, 5.92018759e-01, 9.96937398e-01, 1.71989009e-01,\n",
       "       2.65407943e-01, 3.77163628e-01, 6.81438742e-01, 5.75023581e-01,\n",
       "       5.77012242e-02, 4.99863662e-01, 9.39271700e-01, 7.50586021e-01,\n",
       "       1.35589756e-01, 6.64588615e-01, 3.85178791e-01, 3.87937617e-02,\n",
       "       1.13277273e-01, 6.27873551e-01, 7.06472229e-01, 6.80793279e-01,\n",
       "       4.28698350e-01, 7.40820348e-02, 3.00384320e-02, 8.55668837e-01,\n",
       "       8.70494275e-01, 7.74771616e-01, 4.34598433e-01, 4.57189881e-01,\n",
       "       7.17990531e-01, 1.73567794e-01, 4.07102270e-01, 5.41198476e-01,\n",
       "       6.48872716e-01, 2.23728381e-01, 4.36219852e-01, 1.64751915e-01,\n",
       "       7.71678028e-01, 3.70044762e-01, 7.72866496e-01, 6.13188811e-01,\n",
       "       3.32073722e-01, 6.04195170e-01, 5.07680431e-01, 5.85968615e-01,\n",
       "       9.62166738e-01, 7.84260658e-01, 7.53036645e-01, 9.53019814e-01,\n",
       "       6.82538705e-01, 9.11833028e-01, 9.37699118e-01, 4.83663662e-01,\n",
       "       6.91186526e-01, 9.10284347e-01, 8.12948286e-01, 3.96111906e-01,\n",
       "       5.81335316e-01, 1.88719233e-02, 4.42304360e-01, 5.25912838e-01,\n",
       "       7.64644345e-01, 2.41787734e-01, 6.70646436e-01, 7.43608226e-01,\n",
       "       4.17826907e-01, 8.39362285e-01, 7.46115366e-01, 9.69433204e-01,\n",
       "       9.62371435e-01, 2.24158587e-01, 4.64983270e-01, 7.73813402e-01,\n",
       "       1.17396867e-02, 2.79450275e-01, 3.27115546e-01, 9.49676798e-01,\n",
       "       1.03574010e-01, 1.82950893e-01, 1.06139548e-01, 4.62463584e-01,\n",
       "       2.71355289e-01, 1.07857813e-01, 6.64885917e-01, 3.06978018e-01,\n",
       "       5.68141425e-01, 1.70941680e-01, 1.28812067e-01, 3.97769731e-01,\n",
       "       5.19267297e-01, 8.01259799e-01, 5.89576464e-01, 2.29376915e-02,\n",
       "       2.36585322e-01, 6.28082168e-01, 2.44527998e-01, 8.05254602e-02,\n",
       "       8.25057521e-03, 6.43289389e-01, 9.61580034e-01, 7.28544765e-01,\n",
       "       2.61048883e-01, 2.94174236e-01, 5.37948098e-01, 8.19946328e-01,\n",
       "       1.11762051e-01, 9.83640591e-01, 4.90804277e-01, 7.17159005e-01,\n",
       "       6.47464091e-01, 1.99239852e-01, 3.24158695e-01, 5.18964662e-01,\n",
       "       1.60225408e-01, 9.77713598e-02, 1.19821811e-01, 5.58861609e-02,\n",
       "       9.35514874e-02, 1.26335415e-03, 2.70184522e-01, 4.97529337e-01,\n",
       "       2.78543387e-01, 2.13077095e-01, 1.06559213e-01, 7.54129635e-01,\n",
       "       3.07666972e-01, 2.30998662e-01, 6.73307992e-01, 7.11986857e-01,\n",
       "       6.43519703e-02, 2.97278751e-01, 4.06039905e-01, 1.52245014e-01,\n",
       "       4.14329054e-01, 7.92244236e-01, 2.48067160e-01, 5.08258915e-01,\n",
       "       5.23709231e-01, 5.59410060e-01, 8.06930544e-01, 3.62353025e-01,\n",
       "       6.31520297e-01, 4.80663913e-01, 1.76321552e-01, 1.12378828e-01,\n",
       "       9.13315750e-01, 2.55530419e-01, 7.89415239e-01, 8.43951531e-01,\n",
       "       4.36145269e-01, 4.93947348e-01, 6.30840160e-03, 9.31627996e-01,\n",
       "       1.48511771e-01, 2.76366163e-01, 9.07741949e-02, 4.59318738e-01,\n",
       "       9.65882883e-01, 3.90659958e-01, 7.31743420e-01, 7.81921991e-01,\n",
       "       7.40486940e-01, 3.04895858e-01, 6.59545833e-01, 5.07660694e-02,\n",
       "       1.67562854e-01, 6.50870391e-01, 6.36789056e-01, 7.79533898e-01,\n",
       "       8.34994229e-01, 9.69771422e-01, 6.23906718e-01, 2.81045506e-01,\n",
       "       1.02315945e-02, 4.60425019e-01, 2.52030555e-01, 2.75633478e-01,\n",
       "       3.46564483e-01, 4.64954680e-01, 2.74888952e-01, 1.23366303e-01,\n",
       "       7.22105496e-01, 6.33690154e-01, 6.13953001e-01, 4.41084662e-01,\n",
       "       2.14323431e-02, 2.98643408e-01, 8.22678423e-01, 4.49850133e-01,\n",
       "       8.82955697e-01, 6.79713610e-01, 9.19360744e-01, 3.64566071e-01,\n",
       "       2.07655385e-01, 3.12823449e-01, 9.17706048e-01, 6.80784671e-02,\n",
       "       1.82744783e-01, 1.93842682e-01, 1.92332051e-01, 3.77073748e-01,\n",
       "       1.74356827e-01, 8.90098802e-01, 6.87356713e-01, 2.63940342e-01,\n",
       "       5.05156801e-01, 4.84413603e-01, 5.62221281e-01, 3.26629572e-01,\n",
       "       5.20176943e-01, 9.07931742e-01, 9.28839651e-01, 5.22187736e-01,\n",
       "       2.67735790e-01, 4.39815534e-01, 7.02408454e-01, 4.01773809e-01,\n",
       "       7.16309385e-01, 1.52024414e-01, 7.24010780e-01, 6.45412982e-01,\n",
       "       7.25758857e-01, 1.35767558e-01, 1.94481613e-02, 2.53840435e-02,\n",
       "       4.37138172e-01, 7.91358942e-01, 3.28217776e-01, 9.57255865e-01,\n",
       "       5.32492605e-01, 6.81754088e-01, 8.59213720e-01, 6.49698335e-01,\n",
       "       9.44283559e-01, 5.75553923e-01, 4.31773943e-01, 8.26438935e-01,\n",
       "       9.83282832e-01, 6.25441976e-01, 1.09216624e-01, 8.66237875e-01,\n",
       "       6.94275378e-01, 5.07482006e-01, 8.20806039e-01, 1.21842327e-01,\n",
       "       2.41560534e-01, 1.42066443e-01, 1.06190057e-01, 5.11830670e-01,\n",
       "       2.70540621e-02, 2.34472898e-02, 9.57631759e-02, 5.70328566e-01,\n",
       "       4.43488146e-01, 5.35589070e-01, 8.45406153e-01, 1.89044232e-01,\n",
       "       3.25332394e-01, 2.96710600e-01, 4.94029370e-01, 2.58866793e-02,\n",
       "       7.47654017e-01, 7.90147475e-01, 3.35620156e-01, 7.50957657e-01,\n",
       "       5.74904245e-01, 3.20644358e-01, 4.23709651e-01, 6.13709979e-01,\n",
       "       3.79894006e-01, 4.49561180e-01, 3.10243517e-02, 8.34247837e-01,\n",
       "       5.15768535e-01, 4.45994585e-01, 2.02357555e-01, 5.19348318e-01,\n",
       "       4.01566331e-01, 3.07021758e-01, 3.89423452e-01, 5.81496221e-01,\n",
       "       4.35965545e-01, 9.86274277e-01, 7.21167281e-01, 3.95964689e-01,\n",
       "       3.91365153e-01, 9.41066839e-01, 8.03133828e-01, 9.79269601e-01,\n",
       "       6.78625107e-01, 1.81900851e-01, 6.85300089e-01, 2.96773895e-01,\n",
       "       5.07928927e-01, 6.09119679e-01, 9.78503678e-01, 7.86715732e-01,\n",
       "       3.21985286e-01, 7.21850080e-01, 4.34818895e-01, 7.56124661e-01,\n",
       "       8.34439796e-01, 6.99021127e-02, 8.43693663e-01, 8.46621927e-01,\n",
       "       7.39975204e-01, 6.42003077e-01, 6.77126659e-01, 8.61978714e-01,\n",
       "       8.32258809e-01, 9.99884907e-01, 8.19964780e-01, 5.53459110e-01,\n",
       "       2.84537197e-01, 5.11826267e-01, 7.65617683e-02, 2.87241510e-01,\n",
       "       4.82821650e-01, 9.89777424e-01, 9.80142504e-01, 2.36121155e-01,\n",
       "       4.50947688e-01, 4.19346939e-01, 4.15279873e-02, 3.05109469e-02,\n",
       "       5.67772782e-02, 6.56166458e-02, 3.90627210e-01, 1.04593082e-01,\n",
       "       9.62639647e-01, 9.03087135e-01, 8.70788695e-01, 7.70557909e-02,\n",
       "       6.83342469e-01, 8.67759192e-03, 4.43099920e-01, 4.88661943e-01,\n",
       "       8.65114590e-01, 3.15453992e-01, 3.30340610e-01, 6.57322907e-01,\n",
       "       1.41437829e-01, 3.40649372e-01, 3.40920021e-01, 9.83468071e-01,\n",
       "       3.39789540e-01, 7.18746404e-01, 2.86913444e-01, 6.48841453e-03,\n",
       "       1.92659281e-01, 9.35834940e-01, 5.95778341e-01, 8.92592029e-01,\n",
       "       2.93620641e-01, 9.94965548e-01, 5.40581351e-01, 4.28010345e-01,\n",
       "       5.31953173e-01, 2.16731295e-01, 6.00545796e-01, 2.97564468e-01,\n",
       "       9.13397121e-01, 3.93783124e-02, 2.00286391e-01, 7.51092317e-01,\n",
       "       6.61543592e-01, 9.81719484e-01, 6.11736351e-01, 5.03527887e-01,\n",
       "       3.48883821e-01, 9.27615706e-01, 5.57294978e-02, 1.52949835e-01,\n",
       "       4.10531878e-01, 5.56087869e-01, 7.53342077e-01, 4.86222995e-01,\n",
       "       5.82496577e-01, 8.71702533e-01, 3.09180936e-02, 6.25590516e-01,\n",
       "       6.66287660e-01, 9.86858258e-01, 1.38477178e-01, 8.19422509e-01,\n",
       "       7.64416890e-01, 9.66555984e-01, 5.71939555e-02, 3.91040227e-01,\n",
       "       2.68755587e-01, 8.84125746e-01, 2.16812113e-01, 5.29844758e-01,\n",
       "       2.75126524e-01, 3.36702598e-01, 2.57200960e-01, 4.20748321e-01,\n",
       "       4.04935756e-01, 3.84249433e-01, 9.91840438e-01, 6.76791118e-01,\n",
       "       8.10031703e-01, 6.76549335e-01, 5.88390991e-01, 4.71693625e-01,\n",
       "       5.46614357e-03, 6.60670325e-01, 4.88039337e-01, 9.55722030e-01,\n",
       "       9.22941902e-01, 1.05706074e-01, 8.55057722e-01, 8.40303859e-01,\n",
       "       3.13122693e-01, 5.24146977e-01, 3.09007093e-02, 5.69463312e-01,\n",
       "       7.57493854e-02, 6.01410761e-01, 1.27006870e-01, 2.96632986e-01,\n",
       "       9.05823629e-01, 1.09769799e-01, 5.06841089e-01, 3.58819926e-01,\n",
       "       6.12522630e-01, 4.20297943e-01, 8.68925409e-01, 1.94439367e-01,\n",
       "       7.63534378e-01, 8.14711105e-02, 4.34078477e-01, 5.60287754e-01,\n",
       "       9.22053503e-01, 7.53994349e-01, 5.99484241e-01, 2.23142998e-01,\n",
       "       8.52918374e-01, 5.64811047e-01, 9.88287059e-02, 1.66042462e-01,\n",
       "       2.65687298e-01, 1.94668226e-01, 5.25663959e-01, 8.11146592e-01,\n",
       "       2.69554775e-01, 5.77058586e-01, 7.51107149e-02, 2.50324331e-01,\n",
       "       9.81996195e-01, 7.59866184e-02, 1.79933256e-01, 7.36779545e-01,\n",
       "       5.62893984e-01, 9.01290245e-02, 3.26852796e-02, 5.18741254e-01,\n",
       "       4.26085807e-01, 4.29733864e-01, 4.69341680e-01, 1.28236179e-01,\n",
       "       1.32461374e-01, 3.00803946e-01, 2.07276555e-01, 1.18189659e-01,\n",
       "       2.89407932e-01, 3.37952179e-01, 4.18367685e-02, 5.57336882e-01,\n",
       "       6.49527825e-01, 7.18828332e-01, 5.20541771e-01, 7.90768454e-01,\n",
       "       8.47591356e-02, 8.60498958e-01, 4.56362720e-01, 4.54520536e-01,\n",
       "       9.27910843e-01, 8.11304676e-01, 9.25288184e-01, 1.64527412e-01,\n",
       "       7.05470427e-01, 6.18797154e-01, 6.56559613e-01, 8.51915889e-01,\n",
       "       7.09869564e-01, 4.79172191e-01, 9.75016161e-01, 4.30984684e-01,\n",
       "       9.09120610e-01, 3.39819411e-01, 4.74946422e-01, 2.97910855e-01,\n",
       "       3.86939289e-02, 2.92343426e-01, 7.70949538e-01, 8.79754206e-01,\n",
       "       5.99883582e-01, 8.45169796e-01, 6.69411073e-02, 4.31039373e-01,\n",
       "       9.14081132e-02, 8.88584457e-01, 7.75631068e-01, 7.00839137e-01,\n",
       "       3.24563045e-01, 9.36305279e-02, 9.33805741e-01, 5.51755954e-01,\n",
       "       1.22726946e-01, 2.39406074e-01, 2.71343755e-01, 4.21702780e-01,\n",
       "       4.08949745e-01, 4.38350458e-01, 4.64134968e-02, 1.12316828e-01,\n",
       "       7.77943186e-01, 4.99737893e-01, 1.88851961e-01, 5.77180461e-01,\n",
       "       8.91570638e-02, 2.63498319e-01, 9.37428014e-01, 6.96507388e-01,\n",
       "       3.92049311e-01, 2.01295556e-01, 1.50246858e-01, 4.75846831e-01,\n",
       "       4.87886001e-01, 3.56150343e-01, 9.81771695e-01, 1.04451283e-02,\n",
       "       6.42478945e-01, 5.86758885e-01, 2.62938679e-02, 5.97643908e-02,\n",
       "       3.23798956e-01, 8.60222384e-01, 9.18711245e-01, 3.93591800e-01,\n",
       "       7.07092957e-01, 6.51580438e-01, 2.04602031e-03, 3.28312353e-01,\n",
       "       7.00335925e-01, 1.37998262e-01, 4.46060565e-01, 3.50723014e-02,\n",
       "       1.42284245e-01, 1.61791597e-01, 6.54109069e-01, 2.81229500e-01,\n",
       "       2.32685424e-01, 2.43306284e-01, 1.30752596e-01, 9.36406930e-01,\n",
       "       5.23899286e-01, 6.48471760e-01, 3.27268160e-02, 4.62444516e-01,\n",
       "       7.25726981e-01, 9.79059014e-01, 4.94677421e-02, 5.84597330e-01,\n",
       "       9.43507508e-02, 8.98780087e-01, 9.28077258e-01, 4.17771485e-02,\n",
       "       8.91056121e-01, 6.95724823e-01, 3.34301629e-01, 7.82913247e-01,\n",
       "       5.41438303e-01, 2.14366578e-01, 6.68375536e-01, 2.94537741e-01,\n",
       "       1.72793201e-01, 5.36503138e-01, 3.43527413e-01, 8.83740102e-01,\n",
       "       2.53407278e-01, 6.52266512e-01, 2.71497668e-01, 3.65507897e-01,\n",
       "       7.05974435e-01, 4.89093654e-01, 5.56362484e-01, 3.49091389e-01,\n",
       "       2.49539573e-01, 6.55220587e-01, 1.36080605e-01, 2.45176967e-01,\n",
       "       1.79223436e-01, 8.58006113e-01, 9.67088882e-01, 1.29434385e-01,\n",
       "       9.13184014e-01, 5.31172375e-02, 1.52712553e-01, 8.04849873e-01,\n",
       "       9.95996944e-02, 4.74697443e-02, 3.33833753e-01, 3.06156654e-01,\n",
       "       2.36801609e-01, 5.43524714e-01, 1.46793399e-01, 6.45877001e-01,\n",
       "       9.95311279e-01, 2.39335093e-01, 9.43184443e-01, 7.28282110e-01,\n",
       "       9.70938902e-02, 4.93404477e-01, 2.86938201e-01, 8.37031733e-01,\n",
       "       4.39823616e-01, 7.37947643e-01, 9.06964695e-01, 4.30717407e-01,\n",
       "       5.27434341e-01, 6.10246499e-01, 2.39326221e-01, 7.29016266e-01,\n",
       "       4.12122186e-01, 9.76526146e-01, 6.28092062e-01, 9.61646212e-02,\n",
       "       7.21284628e-02, 5.05157384e-02, 2.08844396e-01, 4.20190538e-01,\n",
       "       1.14667742e-01, 3.14902060e-01, 9.46696291e-02, 3.24768410e-01,\n",
       "       1.66488862e-01, 2.67726206e-01, 7.21206553e-01, 4.71037953e-01,\n",
       "       2.19335073e-01, 5.45550495e-01, 6.97252200e-01, 4.70898489e-01,\n",
       "       7.08111470e-01, 7.03835543e-01, 2.59917980e-01, 2.65152267e-01,\n",
       "       3.42916172e-01, 5.99802849e-01, 6.34726042e-01, 5.43237456e-01,\n",
       "       6.77298139e-01, 6.26835306e-01, 3.44665355e-01, 6.01022450e-01,\n",
       "       6.37362947e-01, 9.56798266e-01, 3.04176154e-01, 6.28720967e-01,\n",
       "       6.85312212e-01, 9.49947203e-01, 2.91752072e-01, 4.72634511e-01,\n",
       "       5.87736067e-01, 6.40617308e-01, 5.35800302e-01, 5.45109417e-01,\n",
       "       1.03657785e-01, 4.53388961e-01, 3.31668407e-01, 9.77051507e-01,\n",
       "       2.11446100e-01, 1.49958503e-01, 4.19431375e-01, 3.72010453e-01,\n",
       "       4.74457700e-01, 4.30020543e-01, 7.61007670e-01, 4.80495174e-01,\n",
       "       4.24882843e-01, 4.79204390e-01, 3.49507050e-01, 9.75550069e-01])"
      ]
     },
     "execution_count": 87,
     "metadata": {},
     "output_type": "execute_result"
    }
   ],
   "source": [
    "A"
   ]
  },
  {
   "cell_type": "code",
   "execution_count": 88,
   "id": "779463f4",
   "metadata": {},
   "outputs": [
    {
     "name": "stdout",
     "output_type": "stream",
     "text": [
      "[0.12468443 0.30297014 0.22383019 0.68888685 0.86186082 0.20398876\n",
      " 0.2550858 ]\n"
     ]
    }
   ],
   "source": [
    "b = A[3:10]\n",
    "print(b)"
   ]
  },
  {
   "cell_type": "code",
   "execution_count": 89,
   "id": "b6ae5744",
   "metadata": {},
   "outputs": [],
   "source": [
    "b[0] = -1200"
   ]
  },
  {
   "cell_type": "code",
   "execution_count": 90,
   "id": "b6af7b8e",
   "metadata": {},
   "outputs": [
    {
     "data": {
      "text/plain": [
       "array([-1.20000000e+03,  3.02970136e-01,  2.23830185e-01,  6.88886851e-01,\n",
       "        8.61860823e-01,  2.03988762e-01,  2.55085796e-01])"
      ]
     },
     "execution_count": 90,
     "metadata": {},
     "output_type": "execute_result"
    }
   ],
   "source": [
    "b"
   ]
  },
  {
   "cell_type": "code",
   "execution_count": 91,
   "id": "dc47d7e9",
   "metadata": {},
   "outputs": [
    {
     "data": {
      "text/plain": [
       "array([ 5.42667811e-01,  4.44765228e-03,  2.81175374e-01, -1.20000000e+03,\n",
       "        3.02970136e-01,  2.23830185e-01,  6.88886851e-01,  8.61860823e-01,\n",
       "        2.03988762e-01,  2.55085796e-01,  1.64179913e-01,  5.85376573e-01,\n",
       "        5.99316013e-01,  7.07967685e-01,  5.24361039e-01,  7.53128813e-01,\n",
       "        8.93981803e-01,  4.82807600e-01,  7.90032328e-01,  1.85743972e-01,\n",
       "        4.53077701e-02,  7.11806426e-01,  9.79207216e-01,  7.28640072e-01,\n",
       "        4.30499506e-01,  3.29780454e-01,  3.49178733e-01,  1.92653370e-01,\n",
       "        5.54930688e-02,  5.32524879e-01,  9.33005934e-01,  1.35833375e-02,\n",
       "        6.14755104e-01,  3.46378944e-01,  4.36129189e-03,  4.91369922e-01,\n",
       "        7.69048870e-01,  1.15857972e-01,  7.48779077e-01,  5.39012081e-01,\n",
       "        6.12441179e-01,  4.45290516e-01,  4.51460000e-01,  9.00426437e-01,\n",
       "        1.32436416e-01,  8.69585443e-01,  3.05401841e-01,  3.97861543e-01,\n",
       "        9.76749006e-01,  4.54699765e-01,  2.91735672e-01,  4.02892315e-01,\n",
       "        2.02760828e-01,  8.50310989e-01,  6.37327800e-01,  7.03178086e-01,\n",
       "        1.96992582e-01,  3.35119143e-01,  5.28161671e-01,  9.51040632e-01,\n",
       "        5.04623382e-01,  4.64979220e-01,  4.03563841e-01,  2.91779335e-02,\n",
       "        9.93746180e-01,  5.93727359e-01,  3.27063281e-01,  7.78410849e-01,\n",
       "        9.32599343e-01,  7.24661058e-01,  5.32011827e-01,  3.13199557e-01,\n",
       "        3.01210377e-01,  4.43837497e-01,  5.87230240e-01,  5.66498794e-01,\n",
       "        7.81031514e-01,  3.90500307e-01,  1.37706716e-01,  3.55942647e-02,\n",
       "        4.77082576e-01,  8.88293309e-01,  1.55679064e-01,  8.53713647e-01,\n",
       "        1.70486299e-01,  1.54597312e-01,  9.33964927e-01,  9.60893708e-01,\n",
       "        3.21409226e-01,  8.84416698e-01,  8.91454267e-01,  3.62639593e-01,\n",
       "        3.61559030e-01,  2.48304308e-01,  7.53580299e-01,  7.92597859e-02,\n",
       "        4.33093780e-01,  6.00262244e-01,  8.41405350e-01,  8.59452848e-01,\n",
       "        8.53140139e-02,  7.97189236e-01,  2.87763446e-01,  6.73205026e-01,\n",
       "        8.51627756e-01,  3.28903152e-01,  8.77634222e-01,  2.51735356e-01,\n",
       "        6.01206988e-01,  7.02044192e-01,  6.39159042e-02,  3.11607367e-01,\n",
       "        8.59238276e-01,  2.00596070e-01,  9.25686629e-01,  6.93906452e-02,\n",
       "        9.27036348e-01,  1.01288246e-01,  9.64632775e-01,  8.26475514e-01,\n",
       "        9.59207846e-01,  3.28012396e-01,  6.60182960e-01,  8.77594357e-01,\n",
       "        5.68688206e-01,  9.07610237e-02,  7.21964183e-01,  7.24810212e-01,\n",
       "        3.05239243e-01,  9.90946880e-01,  6.93736277e-02,  1.48238369e-01,\n",
       "        2.04641730e-01,  4.74494597e-01,  2.34332993e-02,  5.63808575e-01,\n",
       "        4.71301123e-01,  8.68672381e-01,  9.16733796e-01,  7.53635793e-01,\n",
       "        1.96636802e-02,  8.87743356e-01,  5.88705399e-01,  7.41257874e-01,\n",
       "        4.59206122e-01,  9.92979244e-01,  1.76968711e-01,  1.19450046e-01,\n",
       "        3.53413573e-01,  9.93600977e-01,  4.27172965e-01,  8.49177688e-02,\n",
       "        5.35063264e-01,  1.73404709e-01,  7.58929048e-01,  7.59775887e-01,\n",
       "        3.96298100e-01,  1.71196204e-01,  5.69222142e-02,  9.51138375e-01,\n",
       "        2.58406207e-01,  7.91619530e-01,  7.06919174e-01,  8.45156167e-01,\n",
       "        9.02558266e-01,  8.44520169e-02,  2.91052626e-01,  9.45240580e-01,\n",
       "        6.52858666e-01,  1.67178839e-01,  6.51273751e-01,  3.79146609e-02,\n",
       "        3.48394932e-01,  4.54907744e-01,  3.71315834e-01,  7.79299030e-01,\n",
       "        6.87865794e-02,  1.34814229e-01,  4.94960576e-01,  8.40030008e-01,\n",
       "        9.58752976e-01,  2.29394295e-01,  4.85537173e-01,  6.36776502e-01,\n",
       "        6.55558364e-01,  3.13032766e-01,  3.53146702e-01,  6.96485062e-01,\n",
       "        3.77280194e-01,  3.98634448e-01,  8.81016881e-01,  4.48760839e-01,\n",
       "        7.94089513e-02,  7.63761867e-01,  4.76751088e-01,  6.72568182e-01,\n",
       "        2.69356444e-02,  6.75759958e-01,  7.54088348e-01,  5.53254592e-01,\n",
       "        7.69942944e-01,  4.62804720e-01,  9.93969665e-01,  3.10271202e-01,\n",
       "        9.84723969e-01,  5.36962688e-01,  4.91529573e-01,  3.82148067e-01,\n",
       "        7.42556836e-01,  2.86710121e-01,  8.33005660e-01,  7.23759625e-01,\n",
       "        7.56683093e-01,  2.97929976e-01,  1.89753692e-01,  6.87480582e-01,\n",
       "        3.67356499e-01,  3.31759457e-01,  7.70571192e-01,  3.30342592e-01,\n",
       "        9.03775147e-01,  1.90923805e-01,  2.72418028e-01,  5.51272836e-01,\n",
       "        6.41399223e-01,  7.64329130e-01,  4.38916070e-01,  5.98721513e-01,\n",
       "        2.09756378e-01,  5.93682892e-01,  2.64034200e-01,  4.17771652e-01,\n",
       "        6.44730107e-02,  5.33311277e-01,  9.16021740e-01,  3.84551405e-01,\n",
       "        7.59045044e-01,  7.21871072e-01,  8.18645913e-01,  6.87174397e-01,\n",
       "        4.00782084e-01,  8.53891059e-01,  1.07757180e-01,  4.74213274e-01,\n",
       "        3.51490169e-01,  2.97645399e-01,  7.08261722e-01,  2.29364326e-02,\n",
       "        3.49128106e-01,  5.34948936e-02,  6.74911343e-01,  1.19046696e-01,\n",
       "        4.37508195e-01,  3.18439564e-02,  4.01934307e-01,  1.51969895e-01,\n",
       "        9.04706262e-02,  1.67419506e-01,  8.26411309e-01,  4.63665838e-01,\n",
       "        8.86422438e-01,  5.19908991e-01,  1.87172796e-01,  8.52933677e-02,\n",
       "        3.69421721e-04,  6.28355523e-01,  5.32871574e-03,  5.24001232e-01,\n",
       "        3.20466036e-01,  5.99164604e-01,  1.33860738e-01,  8.86696150e-01,\n",
       "        2.07701280e-02,  6.42267477e-01,  2.54783702e-01,  1.53112230e-02,\n",
       "        7.48862935e-01,  4.24634134e-02,  7.92331481e-01,  7.84366400e-01,\n",
       "        5.72789607e-01,  6.34058432e-01,  9.54060941e-01,  6.28022591e-01,\n",
       "        6.27896416e-01,  6.95025068e-01,  7.24184182e-01,  4.99529892e-01,\n",
       "        2.93196129e-01,  6.39559542e-01,  6.95104208e-01,  6.46698630e-01,\n",
       "        6.44702454e-01,  3.08376242e-01,  5.49576804e-01,  7.43996999e-01,\n",
       "        1.40901994e-02,  4.21525890e-01,  6.27848737e-01,  7.21286311e-01,\n",
       "        1.49865060e-01,  5.64748630e-02,  3.21683736e-01,  7.42440361e-01,\n",
       "        9.98880719e-01,  9.74115681e-01,  8.20152175e-01,  9.36582428e-01,\n",
       "        5.68689784e-01,  9.17304296e-02,  2.44317388e-01,  2.28602204e-01,\n",
       "        2.17973130e-01,  1.63552949e-01,  4.76306701e-01,  2.02109715e-01,\n",
       "        1.63309952e-01,  5.92018759e-01,  9.96937398e-01,  1.71989009e-01,\n",
       "        2.65407943e-01,  3.77163628e-01,  6.81438742e-01,  5.75023581e-01,\n",
       "        5.77012242e-02,  4.99863662e-01,  9.39271700e-01,  7.50586021e-01,\n",
       "        1.35589756e-01,  6.64588615e-01,  3.85178791e-01,  3.87937617e-02,\n",
       "        1.13277273e-01,  6.27873551e-01,  7.06472229e-01,  6.80793279e-01,\n",
       "        4.28698350e-01,  7.40820348e-02,  3.00384320e-02,  8.55668837e-01,\n",
       "        8.70494275e-01,  7.74771616e-01,  4.34598433e-01,  4.57189881e-01,\n",
       "        7.17990531e-01,  1.73567794e-01,  4.07102270e-01,  5.41198476e-01,\n",
       "        6.48872716e-01,  2.23728381e-01,  4.36219852e-01,  1.64751915e-01,\n",
       "        7.71678028e-01,  3.70044762e-01,  7.72866496e-01,  6.13188811e-01,\n",
       "        3.32073722e-01,  6.04195170e-01,  5.07680431e-01,  5.85968615e-01,\n",
       "        9.62166738e-01,  7.84260658e-01,  7.53036645e-01,  9.53019814e-01,\n",
       "        6.82538705e-01,  9.11833028e-01,  9.37699118e-01,  4.83663662e-01,\n",
       "        6.91186526e-01,  9.10284347e-01,  8.12948286e-01,  3.96111906e-01,\n",
       "        5.81335316e-01,  1.88719233e-02,  4.42304360e-01,  5.25912838e-01,\n",
       "        7.64644345e-01,  2.41787734e-01,  6.70646436e-01,  7.43608226e-01,\n",
       "        4.17826907e-01,  8.39362285e-01,  7.46115366e-01,  9.69433204e-01,\n",
       "        9.62371435e-01,  2.24158587e-01,  4.64983270e-01,  7.73813402e-01,\n",
       "        1.17396867e-02,  2.79450275e-01,  3.27115546e-01,  9.49676798e-01,\n",
       "        1.03574010e-01,  1.82950893e-01,  1.06139548e-01,  4.62463584e-01,\n",
       "        2.71355289e-01,  1.07857813e-01,  6.64885917e-01,  3.06978018e-01,\n",
       "        5.68141425e-01,  1.70941680e-01,  1.28812067e-01,  3.97769731e-01,\n",
       "        5.19267297e-01,  8.01259799e-01,  5.89576464e-01,  2.29376915e-02,\n",
       "        2.36585322e-01,  6.28082168e-01,  2.44527998e-01,  8.05254602e-02,\n",
       "        8.25057521e-03,  6.43289389e-01,  9.61580034e-01,  7.28544765e-01,\n",
       "        2.61048883e-01,  2.94174236e-01,  5.37948098e-01,  8.19946328e-01,\n",
       "        1.11762051e-01,  9.83640591e-01,  4.90804277e-01,  7.17159005e-01,\n",
       "        6.47464091e-01,  1.99239852e-01,  3.24158695e-01,  5.18964662e-01,\n",
       "        1.60225408e-01,  9.77713598e-02,  1.19821811e-01,  5.58861609e-02,\n",
       "        9.35514874e-02,  1.26335415e-03,  2.70184522e-01,  4.97529337e-01,\n",
       "        2.78543387e-01,  2.13077095e-01,  1.06559213e-01,  7.54129635e-01,\n",
       "        3.07666972e-01,  2.30998662e-01,  6.73307992e-01,  7.11986857e-01,\n",
       "        6.43519703e-02,  2.97278751e-01,  4.06039905e-01,  1.52245014e-01,\n",
       "        4.14329054e-01,  7.92244236e-01,  2.48067160e-01,  5.08258915e-01,\n",
       "        5.23709231e-01,  5.59410060e-01,  8.06930544e-01,  3.62353025e-01,\n",
       "        6.31520297e-01,  4.80663913e-01,  1.76321552e-01,  1.12378828e-01,\n",
       "        9.13315750e-01,  2.55530419e-01,  7.89415239e-01,  8.43951531e-01,\n",
       "        4.36145269e-01,  4.93947348e-01,  6.30840160e-03,  9.31627996e-01,\n",
       "        1.48511771e-01,  2.76366163e-01,  9.07741949e-02,  4.59318738e-01,\n",
       "        9.65882883e-01,  3.90659958e-01,  7.31743420e-01,  7.81921991e-01,\n",
       "        7.40486940e-01,  3.04895858e-01,  6.59545833e-01,  5.07660694e-02,\n",
       "        1.67562854e-01,  6.50870391e-01,  6.36789056e-01,  7.79533898e-01,\n",
       "        8.34994229e-01,  9.69771422e-01,  6.23906718e-01,  2.81045506e-01,\n",
       "        1.02315945e-02,  4.60425019e-01,  2.52030555e-01,  2.75633478e-01,\n",
       "        3.46564483e-01,  4.64954680e-01,  2.74888952e-01,  1.23366303e-01,\n",
       "        7.22105496e-01,  6.33690154e-01,  6.13953001e-01,  4.41084662e-01,\n",
       "        2.14323431e-02,  2.98643408e-01,  8.22678423e-01,  4.49850133e-01,\n",
       "        8.82955697e-01,  6.79713610e-01,  9.19360744e-01,  3.64566071e-01,\n",
       "        2.07655385e-01,  3.12823449e-01,  9.17706048e-01,  6.80784671e-02,\n",
       "        1.82744783e-01,  1.93842682e-01,  1.92332051e-01,  3.77073748e-01,\n",
       "        1.74356827e-01,  8.90098802e-01,  6.87356713e-01,  2.63940342e-01,\n",
       "        5.05156801e-01,  4.84413603e-01,  5.62221281e-01,  3.26629572e-01,\n",
       "        5.20176943e-01,  9.07931742e-01,  9.28839651e-01,  5.22187736e-01,\n",
       "        2.67735790e-01,  4.39815534e-01,  7.02408454e-01,  4.01773809e-01,\n",
       "        7.16309385e-01,  1.52024414e-01,  7.24010780e-01,  6.45412982e-01,\n",
       "        7.25758857e-01,  1.35767558e-01,  1.94481613e-02,  2.53840435e-02,\n",
       "        4.37138172e-01,  7.91358942e-01,  3.28217776e-01,  9.57255865e-01,\n",
       "        5.32492605e-01,  6.81754088e-01,  8.59213720e-01,  6.49698335e-01,\n",
       "        9.44283559e-01,  5.75553923e-01,  4.31773943e-01,  8.26438935e-01,\n",
       "        9.83282832e-01,  6.25441976e-01,  1.09216624e-01,  8.66237875e-01,\n",
       "        6.94275378e-01,  5.07482006e-01,  8.20806039e-01,  1.21842327e-01,\n",
       "        2.41560534e-01,  1.42066443e-01,  1.06190057e-01,  5.11830670e-01,\n",
       "        2.70540621e-02,  2.34472898e-02,  9.57631759e-02,  5.70328566e-01,\n",
       "        4.43488146e-01,  5.35589070e-01,  8.45406153e-01,  1.89044232e-01,\n",
       "        3.25332394e-01,  2.96710600e-01,  4.94029370e-01,  2.58866793e-02,\n",
       "        7.47654017e-01,  7.90147475e-01,  3.35620156e-01,  7.50957657e-01,\n",
       "        5.74904245e-01,  3.20644358e-01,  4.23709651e-01,  6.13709979e-01,\n",
       "        3.79894006e-01,  4.49561180e-01,  3.10243517e-02,  8.34247837e-01,\n",
       "        5.15768535e-01,  4.45994585e-01,  2.02357555e-01,  5.19348318e-01,\n",
       "        4.01566331e-01,  3.07021758e-01,  3.89423452e-01,  5.81496221e-01,\n",
       "        4.35965545e-01,  9.86274277e-01,  7.21167281e-01,  3.95964689e-01,\n",
       "        3.91365153e-01,  9.41066839e-01,  8.03133828e-01,  9.79269601e-01,\n",
       "        6.78625107e-01,  1.81900851e-01,  6.85300089e-01,  2.96773895e-01,\n",
       "        5.07928927e-01,  6.09119679e-01,  9.78503678e-01,  7.86715732e-01,\n",
       "        3.21985286e-01,  7.21850080e-01,  4.34818895e-01,  7.56124661e-01,\n",
       "        8.34439796e-01,  6.99021127e-02,  8.43693663e-01,  8.46621927e-01,\n",
       "        7.39975204e-01,  6.42003077e-01,  6.77126659e-01,  8.61978714e-01,\n",
       "        8.32258809e-01,  9.99884907e-01,  8.19964780e-01,  5.53459110e-01,\n",
       "        2.84537197e-01,  5.11826267e-01,  7.65617683e-02,  2.87241510e-01,\n",
       "        4.82821650e-01,  9.89777424e-01,  9.80142504e-01,  2.36121155e-01,\n",
       "        4.50947688e-01,  4.19346939e-01,  4.15279873e-02,  3.05109469e-02,\n",
       "        5.67772782e-02,  6.56166458e-02,  3.90627210e-01,  1.04593082e-01,\n",
       "        9.62639647e-01,  9.03087135e-01,  8.70788695e-01,  7.70557909e-02,\n",
       "        6.83342469e-01,  8.67759192e-03,  4.43099920e-01,  4.88661943e-01,\n",
       "        8.65114590e-01,  3.15453992e-01,  3.30340610e-01,  6.57322907e-01,\n",
       "        1.41437829e-01,  3.40649372e-01,  3.40920021e-01,  9.83468071e-01,\n",
       "        3.39789540e-01,  7.18746404e-01,  2.86913444e-01,  6.48841453e-03,\n",
       "        1.92659281e-01,  9.35834940e-01,  5.95778341e-01,  8.92592029e-01,\n",
       "        2.93620641e-01,  9.94965548e-01,  5.40581351e-01,  4.28010345e-01,\n",
       "        5.31953173e-01,  2.16731295e-01,  6.00545796e-01,  2.97564468e-01,\n",
       "        9.13397121e-01,  3.93783124e-02,  2.00286391e-01,  7.51092317e-01,\n",
       "        6.61543592e-01,  9.81719484e-01,  6.11736351e-01,  5.03527887e-01,\n",
       "        3.48883821e-01,  9.27615706e-01,  5.57294978e-02,  1.52949835e-01,\n",
       "        4.10531878e-01,  5.56087869e-01,  7.53342077e-01,  4.86222995e-01,\n",
       "        5.82496577e-01,  8.71702533e-01,  3.09180936e-02,  6.25590516e-01,\n",
       "        6.66287660e-01,  9.86858258e-01,  1.38477178e-01,  8.19422509e-01,\n",
       "        7.64416890e-01,  9.66555984e-01,  5.71939555e-02,  3.91040227e-01,\n",
       "        2.68755587e-01,  8.84125746e-01,  2.16812113e-01,  5.29844758e-01,\n",
       "        2.75126524e-01,  3.36702598e-01,  2.57200960e-01,  4.20748321e-01,\n",
       "        4.04935756e-01,  3.84249433e-01,  9.91840438e-01,  6.76791118e-01,\n",
       "        8.10031703e-01,  6.76549335e-01,  5.88390991e-01,  4.71693625e-01,\n",
       "        5.46614357e-03,  6.60670325e-01,  4.88039337e-01,  9.55722030e-01,\n",
       "        9.22941902e-01,  1.05706074e-01,  8.55057722e-01,  8.40303859e-01,\n",
       "        3.13122693e-01,  5.24146977e-01,  3.09007093e-02,  5.69463312e-01,\n",
       "        7.57493854e-02,  6.01410761e-01,  1.27006870e-01,  2.96632986e-01,\n",
       "        9.05823629e-01,  1.09769799e-01,  5.06841089e-01,  3.58819926e-01,\n",
       "        6.12522630e-01,  4.20297943e-01,  8.68925409e-01,  1.94439367e-01,\n",
       "        7.63534378e-01,  8.14711105e-02,  4.34078477e-01,  5.60287754e-01,\n",
       "        9.22053503e-01,  7.53994349e-01,  5.99484241e-01,  2.23142998e-01,\n",
       "        8.52918374e-01,  5.64811047e-01,  9.88287059e-02,  1.66042462e-01,\n",
       "        2.65687298e-01,  1.94668226e-01,  5.25663959e-01,  8.11146592e-01,\n",
       "        2.69554775e-01,  5.77058586e-01,  7.51107149e-02,  2.50324331e-01,\n",
       "        9.81996195e-01,  7.59866184e-02,  1.79933256e-01,  7.36779545e-01,\n",
       "        5.62893984e-01,  9.01290245e-02,  3.26852796e-02,  5.18741254e-01,\n",
       "        4.26085807e-01,  4.29733864e-01,  4.69341680e-01,  1.28236179e-01,\n",
       "        1.32461374e-01,  3.00803946e-01,  2.07276555e-01,  1.18189659e-01,\n",
       "        2.89407932e-01,  3.37952179e-01,  4.18367685e-02,  5.57336882e-01,\n",
       "        6.49527825e-01,  7.18828332e-01,  5.20541771e-01,  7.90768454e-01,\n",
       "        8.47591356e-02,  8.60498958e-01,  4.56362720e-01,  4.54520536e-01,\n",
       "        9.27910843e-01,  8.11304676e-01,  9.25288184e-01,  1.64527412e-01,\n",
       "        7.05470427e-01,  6.18797154e-01,  6.56559613e-01,  8.51915889e-01,\n",
       "        7.09869564e-01,  4.79172191e-01,  9.75016161e-01,  4.30984684e-01,\n",
       "        9.09120610e-01,  3.39819411e-01,  4.74946422e-01,  2.97910855e-01,\n",
       "        3.86939289e-02,  2.92343426e-01,  7.70949538e-01,  8.79754206e-01,\n",
       "        5.99883582e-01,  8.45169796e-01,  6.69411073e-02,  4.31039373e-01,\n",
       "        9.14081132e-02,  8.88584457e-01,  7.75631068e-01,  7.00839137e-01,\n",
       "        3.24563045e-01,  9.36305279e-02,  9.33805741e-01,  5.51755954e-01,\n",
       "        1.22726946e-01,  2.39406074e-01,  2.71343755e-01,  4.21702780e-01,\n",
       "        4.08949745e-01,  4.38350458e-01,  4.64134968e-02,  1.12316828e-01,\n",
       "        7.77943186e-01,  4.99737893e-01,  1.88851961e-01,  5.77180461e-01,\n",
       "        8.91570638e-02,  2.63498319e-01,  9.37428014e-01,  6.96507388e-01,\n",
       "        3.92049311e-01,  2.01295556e-01,  1.50246858e-01,  4.75846831e-01,\n",
       "        4.87886001e-01,  3.56150343e-01,  9.81771695e-01,  1.04451283e-02,\n",
       "        6.42478945e-01,  5.86758885e-01,  2.62938679e-02,  5.97643908e-02,\n",
       "        3.23798956e-01,  8.60222384e-01,  9.18711245e-01,  3.93591800e-01,\n",
       "        7.07092957e-01,  6.51580438e-01,  2.04602031e-03,  3.28312353e-01,\n",
       "        7.00335925e-01,  1.37998262e-01,  4.46060565e-01,  3.50723014e-02,\n",
       "        1.42284245e-01,  1.61791597e-01,  6.54109069e-01,  2.81229500e-01,\n",
       "        2.32685424e-01,  2.43306284e-01,  1.30752596e-01,  9.36406930e-01,\n",
       "        5.23899286e-01,  6.48471760e-01,  3.27268160e-02,  4.62444516e-01,\n",
       "        7.25726981e-01,  9.79059014e-01,  4.94677421e-02,  5.84597330e-01,\n",
       "        9.43507508e-02,  8.98780087e-01,  9.28077258e-01,  4.17771485e-02,\n",
       "        8.91056121e-01,  6.95724823e-01,  3.34301629e-01,  7.82913247e-01,\n",
       "        5.41438303e-01,  2.14366578e-01,  6.68375536e-01,  2.94537741e-01,\n",
       "        1.72793201e-01,  5.36503138e-01,  3.43527413e-01,  8.83740102e-01,\n",
       "        2.53407278e-01,  6.52266512e-01,  2.71497668e-01,  3.65507897e-01,\n",
       "        7.05974435e-01,  4.89093654e-01,  5.56362484e-01,  3.49091389e-01,\n",
       "        2.49539573e-01,  6.55220587e-01,  1.36080605e-01,  2.45176967e-01,\n",
       "        1.79223436e-01,  8.58006113e-01,  9.67088882e-01,  1.29434385e-01,\n",
       "        9.13184014e-01,  5.31172375e-02,  1.52712553e-01,  8.04849873e-01,\n",
       "        9.95996944e-02,  4.74697443e-02,  3.33833753e-01,  3.06156654e-01,\n",
       "        2.36801609e-01,  5.43524714e-01,  1.46793399e-01,  6.45877001e-01,\n",
       "        9.95311279e-01,  2.39335093e-01,  9.43184443e-01,  7.28282110e-01,\n",
       "        9.70938902e-02,  4.93404477e-01,  2.86938201e-01,  8.37031733e-01,\n",
       "        4.39823616e-01,  7.37947643e-01,  9.06964695e-01,  4.30717407e-01,\n",
       "        5.27434341e-01,  6.10246499e-01,  2.39326221e-01,  7.29016266e-01,\n",
       "        4.12122186e-01,  9.76526146e-01,  6.28092062e-01,  9.61646212e-02,\n",
       "        7.21284628e-02,  5.05157384e-02,  2.08844396e-01,  4.20190538e-01,\n",
       "        1.14667742e-01,  3.14902060e-01,  9.46696291e-02,  3.24768410e-01,\n",
       "        1.66488862e-01,  2.67726206e-01,  7.21206553e-01,  4.71037953e-01,\n",
       "        2.19335073e-01,  5.45550495e-01,  6.97252200e-01,  4.70898489e-01,\n",
       "        7.08111470e-01,  7.03835543e-01,  2.59917980e-01,  2.65152267e-01,\n",
       "        3.42916172e-01,  5.99802849e-01,  6.34726042e-01,  5.43237456e-01,\n",
       "        6.77298139e-01,  6.26835306e-01,  3.44665355e-01,  6.01022450e-01,\n",
       "        6.37362947e-01,  9.56798266e-01,  3.04176154e-01,  6.28720967e-01,\n",
       "        6.85312212e-01,  9.49947203e-01,  2.91752072e-01,  4.72634511e-01,\n",
       "        5.87736067e-01,  6.40617308e-01,  5.35800302e-01,  5.45109417e-01,\n",
       "        1.03657785e-01,  4.53388961e-01,  3.31668407e-01,  9.77051507e-01,\n",
       "        2.11446100e-01,  1.49958503e-01,  4.19431375e-01,  3.72010453e-01,\n",
       "        4.74457700e-01,  4.30020543e-01,  7.61007670e-01,  4.80495174e-01,\n",
       "        4.24882843e-01,  4.79204390e-01,  3.49507050e-01,  9.75550069e-01])"
      ]
     },
     "execution_count": 91,
     "metadata": {},
     "output_type": "execute_result"
    }
   ],
   "source": [
    "A"
   ]
  },
  {
   "cell_type": "code",
   "execution_count": 92,
   "id": "294d9b3e",
   "metadata": {},
   "outputs": [],
   "source": [
    "b = A[3:10].copy()"
   ]
  },
  {
   "cell_type": "code",
   "execution_count": 28,
   "id": "fa473453",
   "metadata": {},
   "outputs": [],
   "source": [
    "import numpy as np\n",
    "A = np.arange(100)"
   ]
  },
  {
   "cell_type": "code",
   "execution_count": 24,
   "id": "8826a45b",
   "metadata": {},
   "outputs": [
    {
     "data": {
      "text/plain": [
       "array([ 5, 10])"
      ]
     },
     "execution_count": 24,
     "metadata": {},
     "output_type": "execute_result"
    }
   ],
   "source": [
    "A[::5]"
   ]
  },
  {
   "cell_type": "code",
   "execution_count": 97,
   "id": "6ec130c1",
   "metadata": {},
   "outputs": [
    {
     "data": {
      "text/plain": [
       "array([99, 94, 89, 84, 79, 74, 69, 64, 59, 54, 49, 44, 39, 34, 29, 24, 19,\n",
       "       14,  9,  4])"
      ]
     },
     "execution_count": 97,
     "metadata": {},
     "output_type": "execute_result"
    }
   ],
   "source": [
    "A[::-5]"
   ]
  },
  {
   "cell_type": "code",
   "execution_count": 98,
   "id": "a92a04b4",
   "metadata": {},
   "outputs": [
    {
     "data": {
      "text/plain": [
       "array([99, 98, 97, 96, 95, 94, 93, 92, 91, 90, 89, 88, 87, 86, 85, 84, 83,\n",
       "       82, 81, 80, 79, 78, 77, 76, 75, 74, 73, 72, 71, 70, 69, 68, 67, 66,\n",
       "       65, 64, 63, 62, 61, 60, 59, 58, 57, 56, 55, 54, 53, 52, 51, 50, 49,\n",
       "       48, 47, 46, 45, 44, 43, 42, 41, 40, 39, 38, 37, 36, 35, 34, 33, 32,\n",
       "       31, 30, 29, 28, 27, 26, 25, 24, 23, 22, 21, 20, 19, 18, 17, 16, 15,\n",
       "       14, 13, 12, 11, 10,  9,  8,  7,  6,  5,  4,  3,  2,  1,  0])"
      ]
     },
     "execution_count": 98,
     "metadata": {},
     "output_type": "execute_result"
    }
   ],
   "source": [
    "A[::-1]"
   ]
  },
  {
   "cell_type": "code",
   "execution_count": 1,
   "id": "1d97d0c3",
   "metadata": {},
   "outputs": [
    {
     "name": "stdout",
     "output_type": "stream",
     "text": [
      "[0.33966066 0.78343368 0.80021963 0.29430131 0.07819118 0.05421567\n",
      " 0.42486458 0.64839166 0.99220587 0.84089315]\n"
     ]
    }
   ],
   "source": [
    "import numpy as np\n",
    "A = np.random.rand(10)\n",
    "print(A)"
   ]
  },
  {
   "cell_type": "code",
   "execution_count": 2,
   "id": "5283a284",
   "metadata": {},
   "outputs": [
    {
     "data": {
      "text/plain": [
       "1"
      ]
     },
     "execution_count": 2,
     "metadata": {},
     "output_type": "execute_result"
    }
   ],
   "source": [
    "A.ndim"
   ]
  },
  {
   "cell_type": "code",
   "execution_count": 4,
   "id": "b97a521b",
   "metadata": {},
   "outputs": [
    {
     "data": {
      "text/plain": [
       "array([0.78343368, 0.29430131, 0.05421567])"
      ]
     },
     "execution_count": 4,
     "metadata": {},
     "output_type": "execute_result"
    }
   ],
   "source": [
    "A[[1, 3, 5]]"
   ]
  },
  {
   "cell_type": "code",
   "execution_count": 5,
   "id": "93cac972",
   "metadata": {},
   "outputs": [
    {
     "data": {
      "text/plain": [
       "array([0.78343368, 0.29430131, 0.05421567])"
      ]
     },
     "execution_count": 5,
     "metadata": {},
     "output_type": "execute_result"
    }
   ],
   "source": [
    "A[[False, True, False, True, False, True, False, False, False, False]]"
   ]
  },
  {
   "cell_type": "code",
   "execution_count": 20,
   "id": "a84d45d7",
   "metadata": {},
   "outputs": [
    {
     "name": "stdout",
     "output_type": "stream",
     "text": [
      "[ 0  1  2  3  4  5  6  7  8  9 10 11 12 13 14 15 16 17 18 19 20 21 22 23\n",
      " 24 25 26 27 28 29 30 31 32 33 34 35 36 37 38 39 40 41 42 43 44 45 46 47\n",
      " 48 49 50 51 52 53 54 55 56 57 58 59 60 61 62 63 64 65 66 67 68 69 70 71\n",
      " 72 73 74 75 76 77 78 79 80 81 82 83 84 85 86 87 88 89 90 91 92 93 94 95\n",
      " 96 97 98 99]\n"
     ]
    }
   ],
   "source": [
    "A = np.arange(100)\n",
    "print(A)"
   ]
  },
  {
   "cell_type": "code",
   "execution_count": 21,
   "id": "97bd824a",
   "metadata": {},
   "outputs": [
    {
     "name": "stdout",
     "output_type": "stream",
     "text": [
      "[    0     1     2 -1200     4     5     6     7     8     9    10    11\n",
      "    12    13    14    15    16    17    18    19    20    21    22    23\n",
      "    24    25    26    27    28    29    30    31    32    33    34    35\n",
      "    36    37    38    39    40    41    42    43    44    45    46    47\n",
      "    48    49    50    51    52    53    54    55    56    57    58    59\n",
      "    60    61    62    63    64    65    66    67    68    69    70    71\n",
      "    72    73    74    75    76    77    78    79    80    81    82    83\n",
      "    84    85    86    87    88    89    90    91    92    93    94    95\n",
      "    96    97    98    99]\n"
     ]
    }
   ],
   "source": [
    "A[3] = -1200\n",
    "print(A)"
   ]
  },
  {
   "cell_type": "code",
   "execution_count": 36,
   "id": "c8412299",
   "metadata": {},
   "outputs": [],
   "source": [
    "idx = np.argwhere?"
   ]
  },
  {
   "cell_type": "code",
   "execution_count": null,
   "id": "fad8331f",
   "metadata": {},
   "outputs": [],
   "source": [
    "idx = np.argwhere"
   ]
  },
  {
   "cell_type": "code",
   "execution_count": 14,
   "id": "7dac32fe",
   "metadata": {},
   "outputs": [
    {
     "data": {
      "text/plain": [
       "array([ 0,  1,  2,  3,  4,  5,  6,  7,  8,  9, 10, 11, 12, 13, 14, 15, 16,\n",
       "       17, 18, 19, 20, 21, 22, 23, 24, 25, 26, 27, 28, 29, 30, 31, 32, 33,\n",
       "       34, 35, 36, 37, 38, 39, 40, 41, 42, 43, 44, 45, 46, 47, 48, 49, 50,\n",
       "       51, 52, 53, 54, 55, 56, 57, 58, 59, 60, 61, 62, 63, 64, 65, 66, 67,\n",
       "       68, 69, 70, 71, 72, 73, 74, 75, 76, 77, 78, 79, 80, 81, 82, 83, 84,\n",
       "       85, 86, 87, 88, 89, 90, 91, 92, 93, 94, 95, 96, 97, 98, 99])"
      ]
     },
     "execution_count": 14,
     "metadata": {},
     "output_type": "execute_result"
    }
   ],
   "source": [
    "A[idx] = 3\n",
    "A"
   ]
  },
  {
   "cell_type": "code",
   "execution_count": 15,
   "id": "01a06982",
   "metadata": {},
   "outputs": [],
   "source": [
    "A = np.round?"
   ]
  },
  {
   "cell_type": "code",
   "execution_count": 67,
   "id": "bb8af3b3",
   "metadata": {},
   "outputs": [],
   "source": [
    "A = np.round(10 * np.random.rand(5, 4))"
   ]
  },
  {
   "cell_type": "code",
   "execution_count": 68,
   "id": "ad8315a1",
   "metadata": {},
   "outputs": [
    {
     "data": {
      "text/plain": [
       "array([[5., 7., 8., 2.],\n",
       "       [8., 4., 6., 5.],\n",
       "       [8., 3., 0., 6.],\n",
       "       [2., 3., 9., 0.],\n",
       "       [2., 2., 0., 4.]])"
      ]
     },
     "execution_count": 68,
     "metadata": {},
     "output_type": "execute_result"
    }
   ],
   "source": [
    "A"
   ]
  },
  {
   "cell_type": "code",
   "execution_count": 39,
   "id": "e5972650",
   "metadata": {},
   "outputs": [
    {
     "data": {
      "text/plain": [
       "2.0"
      ]
     },
     "execution_count": 39,
     "metadata": {},
     "output_type": "execute_result"
    }
   ],
   "source": [
    "A[0, 2]"
   ]
  },
  {
   "cell_type": "code",
   "execution_count": 40,
   "id": "12c12254",
   "metadata": {},
   "outputs": [
    {
     "data": {
      "text/plain": [
       "array([9., 2., 1., 9.])"
      ]
     },
     "execution_count": 40,
     "metadata": {},
     "output_type": "execute_result"
    }
   ],
   "source": [
    "A[1, :]"
   ]
  },
  {
   "cell_type": "code",
   "execution_count": 41,
   "id": "e0e2ef21",
   "metadata": {},
   "outputs": [
    {
     "data": {
      "text/plain": [
       "array([7., 9., 7., 4., 0.])"
      ]
     },
     "execution_count": 41,
     "metadata": {},
     "output_type": "execute_result"
    }
   ],
   "source": [
    "A[:, 3]"
   ]
  },
  {
   "cell_type": "code",
   "execution_count": 42,
   "id": "09f0f2c5",
   "metadata": {},
   "outputs": [
    {
     "data": {
      "text/plain": [
       "array([[1., 9.],\n",
       "       [6., 7.]])"
      ]
     },
     "execution_count": 42,
     "metadata": {},
     "output_type": "execute_result"
    }
   ],
   "source": [
    "A[1:3, 2:4]"
   ]
  },
  {
   "cell_type": "code",
   "execution_count": 43,
   "id": "469b54f1",
   "metadata": {},
   "outputs": [
    {
     "data": {
      "text/plain": [
       "array([[5., 5., 2., 7.],\n",
       "       [9., 2., 1., 9.],\n",
       "       [1., 5., 6., 7.],\n",
       "       [2., 4., 4., 4.],\n",
       "       [4., 6., 2., 0.]])"
      ]
     },
     "execution_count": 43,
     "metadata": {},
     "output_type": "execute_result"
    }
   ],
   "source": [
    "A"
   ]
  },
  {
   "cell_type": "code",
   "execution_count": 44,
   "id": "965f96a9",
   "metadata": {},
   "outputs": [
    {
     "data": {
      "text/plain": [
       "array([[5., 9., 1., 2., 4.],\n",
       "       [5., 2., 5., 4., 6.],\n",
       "       [2., 1., 6., 4., 2.],\n",
       "       [7., 9., 7., 4., 0.]])"
      ]
     },
     "execution_count": 44,
     "metadata": {},
     "output_type": "execute_result"
    }
   ],
   "source": [
    "A.T"
   ]
  },
  {
   "cell_type": "code",
   "execution_count": 45,
   "id": "530f55e3",
   "metadata": {},
   "outputs": [],
   "source": [
    "import numpy.linalg as la"
   ]
  },
  {
   "cell_type": "code",
   "execution_count": 46,
   "id": "54afd6c4",
   "metadata": {},
   "outputs": [
    {
     "data": {
      "text/plain": [
       "array([[-1.39434634,  0.74580674,  2.77829095],\n",
       "       [ 1.45942868, -1.55899253,  0.19648433],\n",
       "       [ 0.67875288,  1.3216592 , -1.38348609]])"
      ]
     },
     "execution_count": 46,
     "metadata": {},
     "output_type": "execute_result"
    }
   ],
   "source": [
    "la.inv(np.random.rand(3, 3))"
   ]
  },
  {
   "cell_type": "code",
   "execution_count": 69,
   "id": "4182d587",
   "metadata": {},
   "outputs": [
    {
     "data": {
      "text/plain": [
       "array([[5., 7., 8., 2.],\n",
       "       [8., 4., 6., 5.],\n",
       "       [8., 3., 0., 6.],\n",
       "       [2., 3., 9., 0.],\n",
       "       [2., 2., 0., 4.]])"
      ]
     },
     "execution_count": 69,
     "metadata": {},
     "output_type": "execute_result"
    }
   ],
   "source": [
    "A"
   ]
  },
  {
   "cell_type": "code",
   "execution_count": 70,
   "id": "13e8691c",
   "metadata": {},
   "outputs": [
    {
     "data": {
      "text/plain": [
       "array([[2., 2., 0., 0.],\n",
       "       [2., 3., 0., 2.],\n",
       "       [5., 3., 6., 4.],\n",
       "       [8., 4., 8., 5.],\n",
       "       [8., 7., 9., 6.]])"
      ]
     },
     "execution_count": 70,
     "metadata": {},
     "output_type": "execute_result"
    }
   ],
   "source": [
    "A.sort(axis = 0)\n",
    "A"
   ]
  },
  {
   "cell_type": "code",
   "execution_count": 71,
   "id": "2156f9e4",
   "metadata": {},
   "outputs": [],
   "source": [
    "A.sort(axis = 1)"
   ]
  },
  {
   "cell_type": "code",
   "execution_count": 72,
   "id": "0105f6c7",
   "metadata": {},
   "outputs": [
    {
     "data": {
      "text/plain": [
       "array([[0., 0., 2., 2.],\n",
       "       [0., 2., 2., 3.],\n",
       "       [3., 4., 5., 6.],\n",
       "       [4., 5., 8., 8.],\n",
       "       [6., 7., 8., 9.]])"
      ]
     },
     "execution_count": 72,
     "metadata": {},
     "output_type": "execute_result"
    }
   ],
   "source": [
    "A"
   ]
  },
  {
   "cell_type": "code",
   "execution_count": 61,
   "id": "f087e4c9",
   "metadata": {},
   "outputs": [],
   "source": [
    "np.sort?"
   ]
  },
  {
   "cell_type": "code",
   "execution_count": 73,
   "id": "9c8536e7",
   "metadata": {},
   "outputs": [
    {
     "data": {
      "text/plain": [
       "array([ 0,  1,  2,  3,  4,  5,  6,  7,  8,  9, 10, 11, 12, 13, 14, 15, 16,\n",
       "       17, 18, 19, 20, 21, 22, 23, 24, 25, 26, 27, 28, 29, 30, 31, 32, 33,\n",
       "       34, 35, 36, 37, 38, 39, 40, 41, 42, 43, 44, 45, 46, 47, 48, 49, 50,\n",
       "       51, 52, 53, 54, 55, 56, 57, 58, 59, 60, 61, 62, 63, 64, 65, 66, 67,\n",
       "       68, 69, 70, 71, 72, 73, 74, 75, 76, 77, 78, 79, 80, 81, 82, 83, 84,\n",
       "       85, 86, 87, 88, 89, 90, 91, 92, 93, 94, 95, 96, 97, 98, 99])"
      ]
     },
     "execution_count": 73,
     "metadata": {},
     "output_type": "execute_result"
    }
   ],
   "source": [
    "A = np.arange(100)\n",
    "A"
   ]
  },
  {
   "cell_type": "code",
   "execution_count": 74,
   "id": "65908dd2",
   "metadata": {},
   "outputs": [],
   "source": [
    "B = A[A < 40]"
   ]
  },
  {
   "cell_type": "code",
   "execution_count": 75,
   "id": "b21eb61d",
   "metadata": {},
   "outputs": [
    {
     "data": {
      "text/plain": [
       "array([ 0,  1,  2,  3,  4,  5,  6,  7,  8,  9, 10, 11, 12, 13, 14, 15, 16,\n",
       "       17, 18, 19, 20, 21, 22, 23, 24, 25, 26, 27, 28, 29, 30, 31, 32, 33,\n",
       "       34, 35, 36, 37, 38, 39])"
      ]
     },
     "execution_count": 75,
     "metadata": {},
     "output_type": "execute_result"
    }
   ],
   "source": [
    "B"
   ]
  },
  {
   "cell_type": "code",
   "execution_count": 78,
   "id": "d18aa26e",
   "metadata": {},
   "outputs": [],
   "source": [
    "B = A[(A < 40) & (A > 30)]\n",
    "#or == |\n",
    "#and == &\n",
    "#not == ~"
   ]
  },
  {
   "cell_type": "code",
   "execution_count": 79,
   "id": "24dbaaeb",
   "metadata": {},
   "outputs": [
    {
     "data": {
      "text/plain": [
       "array([31, 32, 33, 34, 35, 36, 37, 38, 39])"
      ]
     },
     "execution_count": 79,
     "metadata": {},
     "output_type": "execute_result"
    }
   ],
   "source": [
    "B"
   ]
  },
  {
   "cell_type": "code",
   "execution_count": 80,
   "id": "ddfaca26",
   "metadata": {},
   "outputs": [],
   "source": [
    "A = np.round(10 * np.random.rand(2, 3))"
   ]
  },
  {
   "cell_type": "code",
   "execution_count": 81,
   "id": "dd4c4215",
   "metadata": {},
   "outputs": [
    {
     "data": {
      "text/plain": [
       "array([[1., 7., 2.],\n",
       "       [9., 2., 9.]])"
      ]
     },
     "execution_count": 81,
     "metadata": {},
     "output_type": "execute_result"
    }
   ],
   "source": [
    "A"
   ]
  },
  {
   "cell_type": "code",
   "execution_count": 82,
   "id": "5efe3290",
   "metadata": {},
   "outputs": [
    {
     "data": {
      "text/plain": [
       "array([[ 4., 10.,  5.],\n",
       "       [12.,  5., 12.]])"
      ]
     },
     "execution_count": 82,
     "metadata": {},
     "output_type": "execute_result"
    }
   ],
   "source": [
    " A + 3"
   ]
  },
  {
   "cell_type": "code",
   "execution_count": 83,
   "id": "f1c113aa",
   "metadata": {},
   "outputs": [
    {
     "data": {
      "text/plain": [
       "array([[ 1.,  7.,  2.],\n",
       "       [10.,  3., 10.]])"
      ]
     },
     "execution_count": 83,
     "metadata": {},
     "output_type": "execute_result"
    }
   ],
   "source": [
    "A + (np.arange(2).reshape(2, 1))"
   ]
  },
  {
   "cell_type": "code",
   "execution_count": 96,
   "id": "fa1d2f4e",
   "metadata": {},
   "outputs": [
    {
     "data": {
      "text/plain": [
       "array([[1., 7., 2.],\n",
       "       [9., 2., 9.]])"
      ]
     },
     "execution_count": 96,
     "metadata": {},
     "output_type": "execute_result"
    }
   ],
   "source": [
    "A"
   ]
  },
  {
   "cell_type": "code",
   "execution_count": 97,
   "id": "c6796fba",
   "metadata": {},
   "outputs": [],
   "source": [
    "B = np.round(10 * np.random.rand(2, 3))"
   ]
  },
  {
   "cell_type": "code",
   "execution_count": 98,
   "id": "ec25aefe",
   "metadata": {},
   "outputs": [
    {
     "data": {
      "text/plain": [
       "array([[3., 5., 3.],\n",
       "       [1., 3., 6.]])"
      ]
     },
     "execution_count": 98,
     "metadata": {},
     "output_type": "execute_result"
    }
   ],
   "source": [
    "B"
   ]
  },
  {
   "cell_type": "code",
   "execution_count": 100,
   "id": "848ea00f",
   "metadata": {},
   "outputs": [
    {
     "data": {
      "text/plain": [
       "array([[1., 7., 2.],\n",
       "       [9., 2., 9.],\n",
       "       [3., 5., 3.],\n",
       "       [1., 3., 6.]])"
      ]
     },
     "execution_count": 100,
     "metadata": {},
     "output_type": "execute_result"
    }
   ],
   "source": [
    "C = np.vstack\n",
    "C"
   ]
  },
  {
   "cell_type": "code",
   "execution_count": 101,
   "id": "42a7b2b0",
   "metadata": {},
   "outputs": [
    {
     "name": "stdout",
     "output_type": "stream",
     "text": [
      "71.7 ms ± 2.99 ms per loop (mean ± std. dev. of 7 runs, 10 loops each)\n",
      "954 µs ± 63.6 µs per loop (mean ± std. dev. of 7 runs, 1000 loops each)\n"
     ]
    }
   ],
   "source": [
    "B = np.random.rand(1000000)\n",
    "%timeit sum(B)\n",
    "%timeit np.sum(B)"
   ]
  },
  {
   "cell_type": "code",
   "execution_count": 102,
   "id": "9d4f19f2",
   "metadata": {},
   "outputs": [],
   "source": [
    "def mySum(G):\n",
    "    s = 0\n",
    "    for i in G:\n",
    "        s += i\n",
    "    return s"
   ]
  },
  {
   "cell_type": "code",
   "execution_count": 103,
   "id": "04765378",
   "metadata": {},
   "outputs": [
    {
     "name": "stdout",
     "output_type": "stream",
     "text": [
      "94.7 ms ± 2.85 ms per loop (mean ± std. dev. of 7 runs, 10 loops each)\n"
     ]
    }
   ],
   "source": [
    "%timeit mySum(B)"
   ]
  },
  {
   "cell_type": "code",
   "execution_count": 104,
   "id": "07927218",
   "metadata": {},
   "outputs": [],
   "source": [
    "import pandas as pd\n",
    "A = pd.Series([2, 3, 4, 5], index = ['a', 'b', 'c', 'd'])"
   ]
  },
  {
   "cell_type": "code",
   "execution_count": 106,
   "id": "e545b970",
   "metadata": {},
   "outputs": [
    {
     "name": "stdout",
     "output_type": "stream",
     "text": [
      "a    2\n",
      "b    3\n",
      "c    4\n",
      "d    5\n",
      "dtype: int64\n"
     ]
    }
   ],
   "source": [
    "print(A)"
   ]
  },
  {
   "cell_type": "code",
   "execution_count": 107,
   "id": "6f126faa",
   "metadata": {},
   "outputs": [
    {
     "data": {
      "text/plain": [
       "numpy.ndarray"
      ]
     },
     "execution_count": 107,
     "metadata": {},
     "output_type": "execute_result"
    }
   ],
   "source": [
    "type(A.values)"
   ]
  },
  {
   "cell_type": "code",
   "execution_count": 108,
   "id": "32a65e3d",
   "metadata": {},
   "outputs": [
    {
     "data": {
      "text/plain": [
       "pandas.core.series.Series"
      ]
     },
     "execution_count": 108,
     "metadata": {},
     "output_type": "execute_result"
    }
   ],
   "source": [
    "type(A)"
   ]
  },
  {
   "cell_type": "code",
   "execution_count": 109,
   "id": "f58cb012",
   "metadata": {},
   "outputs": [
    {
     "data": {
      "text/plain": [
       "Index(['a', 'b', 'c', 'd'], dtype='object')"
      ]
     },
     "execution_count": 109,
     "metadata": {},
     "output_type": "execute_result"
    }
   ],
   "source": [
    "A.index"
   ]
  },
  {
   "cell_type": "code",
   "execution_count": 111,
   "id": "2e4456c9",
   "metadata": {},
   "outputs": [
    {
     "data": {
      "text/plain": [
       "3"
      ]
     },
     "execution_count": 111,
     "metadata": {},
     "output_type": "execute_result"
    }
   ],
   "source": [
    "A['b']"
   ]
  },
  {
   "cell_type": "code",
   "execution_count": 112,
   "id": "1b3755fc",
   "metadata": {},
   "outputs": [
    {
     "data": {
      "text/plain": [
       "a    2\n",
       "b    3\n",
       "c    4\n",
       "dtype: int64"
      ]
     },
     "execution_count": 112,
     "metadata": {},
     "output_type": "execute_result"
    }
   ],
   "source": [
    "A['a':'c']"
   ]
  },
  {
   "cell_type": "code",
   "execution_count": 1,
   "id": "ed505598",
   "metadata": {},
   "outputs": [],
   "source": [
    "import pandas as pd"
   ]
  },
  {
   "cell_type": "code",
   "execution_count": 2,
   "id": "24b32622",
   "metadata": {},
   "outputs": [],
   "source": [
    "grads_dict = {'A': 4, 'B': 3.5, 'C': 3, 'D': 2.5}\n",
    "grads_series = pd.Series(grads_dict)"
   ]
  },
  {
   "cell_type": "code",
   "execution_count": 4,
   "id": "b4dd0744",
   "metadata": {},
   "outputs": [
    {
     "data": {
      "text/plain": [
       "numpy.ndarray"
      ]
     },
     "execution_count": 4,
     "metadata": {},
     "output_type": "execute_result"
    }
   ],
   "source": [
    "type(grads_series.values)"
   ]
  },
  {
   "cell_type": "code",
   "execution_count": 5,
   "id": "1bf7d742",
   "metadata": {},
   "outputs": [],
   "source": [
    "marks_dict = {'A': 85, 'B': 75, 'C': 65, 'D': 55}\n",
    "marks = pd.Series(marks_dict)"
   ]
  },
  {
   "cell_type": "code",
   "execution_count": 6,
   "id": "60182c6c",
   "metadata": {},
   "outputs": [
    {
     "data": {
      "text/plain": [
       "A    85\n",
       "B    75\n",
       "C    65\n",
       "D    55\n",
       "dtype: int64"
      ]
     },
     "execution_count": 6,
     "metadata": {},
     "output_type": "execute_result"
    }
   ],
   "source": [
    "marks"
   ]
  },
  {
   "cell_type": "code",
   "execution_count": 7,
   "id": "556f80ef",
   "metadata": {},
   "outputs": [
    {
     "data": {
      "text/plain": [
       "A    4.0\n",
       "B    3.5\n",
       "C    3.0\n",
       "D    2.5\n",
       "dtype: float64"
      ]
     },
     "execution_count": 7,
     "metadata": {},
     "output_type": "execute_result"
    }
   ],
   "source": [
    "grads_series"
   ]
  },
  {
   "cell_type": "code",
   "execution_count": 8,
   "id": "b6883024",
   "metadata": {},
   "outputs": [
    {
     "data": {
      "text/plain": [
       "85"
      ]
     },
     "execution_count": 8,
     "metadata": {},
     "output_type": "execute_result"
    }
   ],
   "source": [
    "marks['A']"
   ]
  },
  {
   "cell_type": "code",
   "execution_count": 9,
   "id": "49fc8b6c",
   "metadata": {},
   "outputs": [
    {
     "data": {
      "text/plain": [
       "A    85\n",
       "B    75\n",
       "dtype: int64"
      ]
     },
     "execution_count": 9,
     "metadata": {},
     "output_type": "execute_result"
    }
   ],
   "source": [
    "marks[0:2]"
   ]
  },
  {
   "cell_type": "code",
   "execution_count": 10,
   "id": "f0b8cf5c",
   "metadata": {},
   "outputs": [
    {
     "data": {
      "text/plain": [
       "A    85\n",
       "B    75\n",
       "C    65\n",
       "D    55\n",
       "dtype: int64"
      ]
     },
     "execution_count": 10,
     "metadata": {},
     "output_type": "execute_result"
    }
   ],
   "source": [
    "marks"
   ]
  },
  {
   "cell_type": "code",
   "execution_count": 11,
   "id": "d941f289",
   "metadata": {},
   "outputs": [
    {
     "data": {
      "text/plain": [
       "A    4.0\n",
       "B    3.5\n",
       "C    3.0\n",
       "D    2.5\n",
       "dtype: float64"
      ]
     },
     "execution_count": 11,
     "metadata": {},
     "output_type": "execute_result"
    }
   ],
   "source": [
    "grads_series"
   ]
  },
  {
   "cell_type": "code",
   "execution_count": 12,
   "id": "96998b59",
   "metadata": {},
   "outputs": [],
   "source": [
    "dataframe = pd.DataFrame({'Marks': marks, 'Grades': grads_series})"
   ]
  },
  {
   "cell_type": "code",
   "execution_count": 13,
   "id": "9f417930",
   "metadata": {},
   "outputs": [
    {
     "data": {
      "text/html": [
       "<div>\n",
       "<style scoped>\n",
       "    .dataframe tbody tr th:only-of-type {\n",
       "        vertical-align: middle;\n",
       "    }\n",
       "\n",
       "    .dataframe tbody tr th {\n",
       "        vertical-align: top;\n",
       "    }\n",
       "\n",
       "    .dataframe thead th {\n",
       "        text-align: right;\n",
       "    }\n",
       "</style>\n",
       "<table border=\"1\" class=\"dataframe\">\n",
       "  <thead>\n",
       "    <tr style=\"text-align: right;\">\n",
       "      <th></th>\n",
       "      <th>Marks</th>\n",
       "      <th>Grades</th>\n",
       "    </tr>\n",
       "  </thead>\n",
       "  <tbody>\n",
       "    <tr>\n",
       "      <th>A</th>\n",
       "      <td>85</td>\n",
       "      <td>4.0</td>\n",
       "    </tr>\n",
       "    <tr>\n",
       "      <th>B</th>\n",
       "      <td>75</td>\n",
       "      <td>3.5</td>\n",
       "    </tr>\n",
       "    <tr>\n",
       "      <th>C</th>\n",
       "      <td>65</td>\n",
       "      <td>3.0</td>\n",
       "    </tr>\n",
       "    <tr>\n",
       "      <th>D</th>\n",
       "      <td>55</td>\n",
       "      <td>2.5</td>\n",
       "    </tr>\n",
       "  </tbody>\n",
       "</table>\n",
       "</div>"
      ],
      "text/plain": [
       "   Marks  Grades\n",
       "A     85     4.0\n",
       "B     75     3.5\n",
       "C     65     3.0\n",
       "D     55     2.5"
      ]
     },
     "execution_count": 13,
     "metadata": {},
     "output_type": "execute_result"
    }
   ],
   "source": [
    "dataframe"
   ]
  },
  {
   "cell_type": "code",
   "execution_count": 14,
   "id": "bb337726",
   "metadata": {},
   "outputs": [
    {
     "data": {
      "text/html": [
       "<div>\n",
       "<style scoped>\n",
       "    .dataframe tbody tr th:only-of-type {\n",
       "        vertical-align: middle;\n",
       "    }\n",
       "\n",
       "    .dataframe tbody tr th {\n",
       "        vertical-align: top;\n",
       "    }\n",
       "\n",
       "    .dataframe thead th {\n",
       "        text-align: right;\n",
       "    }\n",
       "</style>\n",
       "<table border=\"1\" class=\"dataframe\">\n",
       "  <thead>\n",
       "    <tr style=\"text-align: right;\">\n",
       "      <th></th>\n",
       "      <th>A</th>\n",
       "      <th>B</th>\n",
       "      <th>C</th>\n",
       "      <th>D</th>\n",
       "    </tr>\n",
       "  </thead>\n",
       "  <tbody>\n",
       "    <tr>\n",
       "      <th>Marks</th>\n",
       "      <td>85.0</td>\n",
       "      <td>75.0</td>\n",
       "      <td>65.0</td>\n",
       "      <td>55.0</td>\n",
       "    </tr>\n",
       "    <tr>\n",
       "      <th>Grades</th>\n",
       "      <td>4.0</td>\n",
       "      <td>3.5</td>\n",
       "      <td>3.0</td>\n",
       "      <td>2.5</td>\n",
       "    </tr>\n",
       "  </tbody>\n",
       "</table>\n",
       "</div>"
      ],
      "text/plain": [
       "           A     B     C     D\n",
       "Marks   85.0  75.0  65.0  55.0\n",
       "Grades   4.0   3.5   3.0   2.5"
      ]
     },
     "execution_count": 14,
     "metadata": {},
     "output_type": "execute_result"
    }
   ],
   "source": [
    "dataframe.T"
   ]
  },
  {
   "cell_type": "code",
   "execution_count": 15,
   "id": "a026f768",
   "metadata": {},
   "outputs": [
    {
     "data": {
      "text/html": [
       "<div>\n",
       "<style scoped>\n",
       "    .dataframe tbody tr th:only-of-type {\n",
       "        vertical-align: middle;\n",
       "    }\n",
       "\n",
       "    .dataframe tbody tr th {\n",
       "        vertical-align: top;\n",
       "    }\n",
       "\n",
       "    .dataframe thead th {\n",
       "        text-align: right;\n",
       "    }\n",
       "</style>\n",
       "<table border=\"1\" class=\"dataframe\">\n",
       "  <thead>\n",
       "    <tr style=\"text-align: right;\">\n",
       "      <th></th>\n",
       "      <th>Marks</th>\n",
       "      <th>Grades</th>\n",
       "    </tr>\n",
       "  </thead>\n",
       "  <tbody>\n",
       "    <tr>\n",
       "      <th>A</th>\n",
       "      <td>85</td>\n",
       "      <td>4.0</td>\n",
       "    </tr>\n",
       "    <tr>\n",
       "      <th>B</th>\n",
       "      <td>75</td>\n",
       "      <td>3.5</td>\n",
       "    </tr>\n",
       "    <tr>\n",
       "      <th>C</th>\n",
       "      <td>65</td>\n",
       "      <td>3.0</td>\n",
       "    </tr>\n",
       "    <tr>\n",
       "      <th>D</th>\n",
       "      <td>55</td>\n",
       "      <td>2.5</td>\n",
       "    </tr>\n",
       "  </tbody>\n",
       "</table>\n",
       "</div>"
      ],
      "text/plain": [
       "   Marks  Grades\n",
       "A     85     4.0\n",
       "B     75     3.5\n",
       "C     65     3.0\n",
       "D     55     2.5"
      ]
     },
     "execution_count": 15,
     "metadata": {},
     "output_type": "execute_result"
    }
   ],
   "source": [
    "dataframe"
   ]
  },
  {
   "cell_type": "code",
   "execution_count": 18,
   "id": "075d77d8",
   "metadata": {},
   "outputs": [
    {
     "data": {
      "text/plain": [
       "array([[85. ,  4. ],\n",
       "       [75. ,  3.5],\n",
       "       [65. ,  3. ],\n",
       "       [55. ,  2.5]])"
      ]
     },
     "execution_count": 18,
     "metadata": {},
     "output_type": "execute_result"
    }
   ],
   "source": [
    "dataframe.values"
   ]
  },
  {
   "cell_type": "code",
   "execution_count": 19,
   "id": "52893795",
   "metadata": {},
   "outputs": [
    {
     "data": {
      "text/plain": [
       "65.0"
      ]
     },
     "execution_count": 19,
     "metadata": {},
     "output_type": "execute_result"
    }
   ],
   "source": [
    "dataframe.values[2, 0]"
   ]
  },
  {
   "cell_type": "code",
   "execution_count": 20,
   "id": "aa44db89",
   "metadata": {},
   "outputs": [
    {
     "data": {
      "text/plain": [
       "Index(['Marks', 'Grades'], dtype='object')"
      ]
     },
     "execution_count": 20,
     "metadata": {},
     "output_type": "execute_result"
    }
   ],
   "source": [
    "dataframe.columns"
   ]
  },
  {
   "cell_type": "code",
   "execution_count": 21,
   "id": "c57c51e2",
   "metadata": {},
   "outputs": [
    {
     "data": {
      "text/html": [
       "<div>\n",
       "<style scoped>\n",
       "    .dataframe tbody tr th:only-of-type {\n",
       "        vertical-align: middle;\n",
       "    }\n",
       "\n",
       "    .dataframe tbody tr th {\n",
       "        vertical-align: top;\n",
       "    }\n",
       "\n",
       "    .dataframe thead th {\n",
       "        text-align: right;\n",
       "    }\n",
       "</style>\n",
       "<table border=\"1\" class=\"dataframe\">\n",
       "  <thead>\n",
       "    <tr style=\"text-align: right;\">\n",
       "      <th></th>\n",
       "      <th>Marks</th>\n",
       "      <th>Grades</th>\n",
       "    </tr>\n",
       "  </thead>\n",
       "  <tbody>\n",
       "    <tr>\n",
       "      <th>A</th>\n",
       "      <td>85</td>\n",
       "      <td>4.0</td>\n",
       "    </tr>\n",
       "    <tr>\n",
       "      <th>B</th>\n",
       "      <td>75</td>\n",
       "      <td>3.5</td>\n",
       "    </tr>\n",
       "    <tr>\n",
       "      <th>C</th>\n",
       "      <td>65</td>\n",
       "      <td>3.0</td>\n",
       "    </tr>\n",
       "    <tr>\n",
       "      <th>D</th>\n",
       "      <td>55</td>\n",
       "      <td>2.5</td>\n",
       "    </tr>\n",
       "  </tbody>\n",
       "</table>\n",
       "</div>"
      ],
      "text/plain": [
       "   Marks  Grades\n",
       "A     85     4.0\n",
       "B     75     3.5\n",
       "C     65     3.0\n",
       "D     55     2.5"
      ]
     },
     "execution_count": 21,
     "metadata": {},
     "output_type": "execute_result"
    }
   ],
   "source": [
    "dataframe"
   ]
  },
  {
   "cell_type": "code",
   "execution_count": 22,
   "id": "2e1bbb08",
   "metadata": {},
   "outputs": [],
   "source": [
    "dataframe['ScaledMarks'] = 100 * (dataframe['Marks'] / 90)"
   ]
  },
  {
   "cell_type": "code",
   "execution_count": 24,
   "id": "0d49c64d",
   "metadata": {},
   "outputs": [
    {
     "data": {
      "text/html": [
       "<div>\n",
       "<style scoped>\n",
       "    .dataframe tbody tr th:only-of-type {\n",
       "        vertical-align: middle;\n",
       "    }\n",
       "\n",
       "    .dataframe tbody tr th {\n",
       "        vertical-align: top;\n",
       "    }\n",
       "\n",
       "    .dataframe thead th {\n",
       "        text-align: right;\n",
       "    }\n",
       "</style>\n",
       "<table border=\"1\" class=\"dataframe\">\n",
       "  <thead>\n",
       "    <tr style=\"text-align: right;\">\n",
       "      <th></th>\n",
       "      <th>Marks</th>\n",
       "      <th>Grades</th>\n",
       "      <th>ScaledMarks</th>\n",
       "    </tr>\n",
       "  </thead>\n",
       "  <tbody>\n",
       "    <tr>\n",
       "      <th>A</th>\n",
       "      <td>85</td>\n",
       "      <td>4.0</td>\n",
       "      <td>94.444444</td>\n",
       "    </tr>\n",
       "    <tr>\n",
       "      <th>B</th>\n",
       "      <td>75</td>\n",
       "      <td>3.5</td>\n",
       "      <td>83.333333</td>\n",
       "    </tr>\n",
       "    <tr>\n",
       "      <th>C</th>\n",
       "      <td>65</td>\n",
       "      <td>3.0</td>\n",
       "      <td>72.222222</td>\n",
       "    </tr>\n",
       "    <tr>\n",
       "      <th>D</th>\n",
       "      <td>55</td>\n",
       "      <td>2.5</td>\n",
       "      <td>61.111111</td>\n",
       "    </tr>\n",
       "  </tbody>\n",
       "</table>\n",
       "</div>"
      ],
      "text/plain": [
       "   Marks  Grades  ScaledMarks\n",
       "A     85     4.0    94.444444\n",
       "B     75     3.5    83.333333\n",
       "C     65     3.0    72.222222\n",
       "D     55     2.5    61.111111"
      ]
     },
     "execution_count": 24,
     "metadata": {},
     "output_type": "execute_result"
    }
   ],
   "source": [
    "dataframe"
   ]
  },
  {
   "cell_type": "code",
   "execution_count": 25,
   "id": "ab32bf45",
   "metadata": {},
   "outputs": [],
   "source": [
    "del dataframe['ScaledMarks']"
   ]
  },
  {
   "cell_type": "code",
   "execution_count": 26,
   "id": "14caadea",
   "metadata": {},
   "outputs": [
    {
     "data": {
      "text/html": [
       "<div>\n",
       "<style scoped>\n",
       "    .dataframe tbody tr th:only-of-type {\n",
       "        vertical-align: middle;\n",
       "    }\n",
       "\n",
       "    .dataframe tbody tr th {\n",
       "        vertical-align: top;\n",
       "    }\n",
       "\n",
       "    .dataframe thead th {\n",
       "        text-align: right;\n",
       "    }\n",
       "</style>\n",
       "<table border=\"1\" class=\"dataframe\">\n",
       "  <thead>\n",
       "    <tr style=\"text-align: right;\">\n",
       "      <th></th>\n",
       "      <th>Marks</th>\n",
       "      <th>Grades</th>\n",
       "    </tr>\n",
       "  </thead>\n",
       "  <tbody>\n",
       "    <tr>\n",
       "      <th>A</th>\n",
       "      <td>85</td>\n",
       "      <td>4.0</td>\n",
       "    </tr>\n",
       "    <tr>\n",
       "      <th>B</th>\n",
       "      <td>75</td>\n",
       "      <td>3.5</td>\n",
       "    </tr>\n",
       "    <tr>\n",
       "      <th>C</th>\n",
       "      <td>65</td>\n",
       "      <td>3.0</td>\n",
       "    </tr>\n",
       "    <tr>\n",
       "      <th>D</th>\n",
       "      <td>55</td>\n",
       "      <td>2.5</td>\n",
       "    </tr>\n",
       "  </tbody>\n",
       "</table>\n",
       "</div>"
      ],
      "text/plain": [
       "   Marks  Grades\n",
       "A     85     4.0\n",
       "B     75     3.5\n",
       "C     65     3.0\n",
       "D     55     2.5"
      ]
     },
     "execution_count": 26,
     "metadata": {},
     "output_type": "execute_result"
    }
   ],
   "source": [
    "dataframe"
   ]
  },
  {
   "cell_type": "code",
   "execution_count": 28,
   "id": "87f2fad5",
   "metadata": {},
   "outputs": [
    {
     "data": {
      "text/plain": [
       "array([[85. ,  4. ],\n",
       "       [75. ,  3.5],\n",
       "       [65. ,  3. ],\n",
       "       [55. ,  2.5]])"
      ]
     },
     "execution_count": 28,
     "metadata": {},
     "output_type": "execute_result"
    }
   ],
   "source": [
    "dataframe.values"
   ]
  },
  {
   "cell_type": "code",
   "execution_count": 31,
   "id": "dcfb25fa",
   "metadata": {},
   "outputs": [
    {
     "data": {
      "text/plain": [
       "A     True\n",
       "B     True\n",
       "C    False\n",
       "D    False\n",
       "Name: Marks, dtype: bool"
      ]
     },
     "execution_count": 31,
     "metadata": {},
     "output_type": "execute_result"
    }
   ],
   "source": [
    "dataframe['Marks'] > 70"
   ]
  },
  {
   "cell_type": "code",
   "execution_count": 29,
   "id": "4e3c25b0",
   "metadata": {},
   "outputs": [],
   "source": [
    "dataframe2 = dataframe[dataframe['Marks'] > 70]"
   ]
  },
  {
   "cell_type": "code",
   "execution_count": 30,
   "id": "45f5f374",
   "metadata": {},
   "outputs": [
    {
     "data": {
      "text/html": [
       "<div>\n",
       "<style scoped>\n",
       "    .dataframe tbody tr th:only-of-type {\n",
       "        vertical-align: middle;\n",
       "    }\n",
       "\n",
       "    .dataframe tbody tr th {\n",
       "        vertical-align: top;\n",
       "    }\n",
       "\n",
       "    .dataframe thead th {\n",
       "        text-align: right;\n",
       "    }\n",
       "</style>\n",
       "<table border=\"1\" class=\"dataframe\">\n",
       "  <thead>\n",
       "    <tr style=\"text-align: right;\">\n",
       "      <th></th>\n",
       "      <th>Marks</th>\n",
       "      <th>Grades</th>\n",
       "    </tr>\n",
       "  </thead>\n",
       "  <tbody>\n",
       "    <tr>\n",
       "      <th>A</th>\n",
       "      <td>85</td>\n",
       "      <td>4.0</td>\n",
       "    </tr>\n",
       "    <tr>\n",
       "      <th>B</th>\n",
       "      <td>75</td>\n",
       "      <td>3.5</td>\n",
       "    </tr>\n",
       "  </tbody>\n",
       "</table>\n",
       "</div>"
      ],
      "text/plain": [
       "   Marks  Grades\n",
       "A     85     4.0\n",
       "B     75     3.5"
      ]
     },
     "execution_count": 30,
     "metadata": {},
     "output_type": "execute_result"
    }
   ],
   "source": [
    "dataframe2"
   ]
  },
  {
   "cell_type": "code",
   "execution_count": 32,
   "id": "a08f7acb",
   "metadata": {},
   "outputs": [],
   "source": [
    "A = pd.DataFrame([{'a': 1, 'b': 4}, {'b': -3, 'c': 9}])"
   ]
  },
  {
   "cell_type": "code",
   "execution_count": 35,
   "id": "5c7eab81",
   "metadata": {},
   "outputs": [
    {
     "data": {
      "text/html": [
       "<div>\n",
       "<style scoped>\n",
       "    .dataframe tbody tr th:only-of-type {\n",
       "        vertical-align: middle;\n",
       "    }\n",
       "\n",
       "    .dataframe tbody tr th {\n",
       "        vertical-align: top;\n",
       "    }\n",
       "\n",
       "    .dataframe thead th {\n",
       "        text-align: right;\n",
       "    }\n",
       "</style>\n",
       "<table border=\"1\" class=\"dataframe\">\n",
       "  <thead>\n",
       "    <tr style=\"text-align: right;\">\n",
       "      <th></th>\n",
       "      <th>a</th>\n",
       "      <th>b</th>\n",
       "      <th>c</th>\n",
       "    </tr>\n",
       "  </thead>\n",
       "  <tbody>\n",
       "    <tr>\n",
       "      <th>0</th>\n",
       "      <td>1.0</td>\n",
       "      <td>4</td>\n",
       "      <td>NaN</td>\n",
       "    </tr>\n",
       "    <tr>\n",
       "      <th>1</th>\n",
       "      <td>NaN</td>\n",
       "      <td>-3</td>\n",
       "      <td>9.0</td>\n",
       "    </tr>\n",
       "  </tbody>\n",
       "</table>\n",
       "</div>"
      ],
      "text/plain": [
       "     a  b    c\n",
       "0  1.0  4  NaN\n",
       "1  NaN -3  9.0"
      ]
     },
     "execution_count": 35,
     "metadata": {},
     "output_type": "execute_result"
    }
   ],
   "source": [
    "A"
   ]
  },
  {
   "cell_type": "code",
   "execution_count": 36,
   "id": "e5177020",
   "metadata": {},
   "outputs": [
    {
     "data": {
      "text/plain": [
       "RangeIndex(start=0, stop=2, step=1)"
      ]
     },
     "execution_count": 36,
     "metadata": {},
     "output_type": "execute_result"
    }
   ],
   "source": [
    "A.index"
   ]
  },
  {
   "cell_type": "code",
   "execution_count": 39,
   "id": "0cbec131",
   "metadata": {},
   "outputs": [
    {
     "data": {
      "text/html": [
       "<div>\n",
       "<style scoped>\n",
       "    .dataframe tbody tr th:only-of-type {\n",
       "        vertical-align: middle;\n",
       "    }\n",
       "\n",
       "    .dataframe tbody tr th {\n",
       "        vertical-align: top;\n",
       "    }\n",
       "\n",
       "    .dataframe thead th {\n",
       "        text-align: right;\n",
       "    }\n",
       "</style>\n",
       "<table border=\"1\" class=\"dataframe\">\n",
       "  <thead>\n",
       "    <tr style=\"text-align: right;\">\n",
       "      <th></th>\n",
       "      <th>a</th>\n",
       "      <th>b</th>\n",
       "      <th>c</th>\n",
       "    </tr>\n",
       "  </thead>\n",
       "  <tbody>\n",
       "    <tr>\n",
       "      <th>0</th>\n",
       "      <td>1.0</td>\n",
       "      <td>4</td>\n",
       "      <td>1000.0</td>\n",
       "    </tr>\n",
       "    <tr>\n",
       "      <th>1</th>\n",
       "      <td>1000.0</td>\n",
       "      <td>-3</td>\n",
       "      <td>9.0</td>\n",
       "    </tr>\n",
       "  </tbody>\n",
       "</table>\n",
       "</div>"
      ],
      "text/plain": [
       "        a  b       c\n",
       "0     1.0  4  1000.0\n",
       "1  1000.0 -3     9.0"
      ]
     },
     "execution_count": 39,
     "metadata": {},
     "output_type": "execute_result"
    }
   ],
   "source": [
    "A.fillna(1000)"
   ]
  },
  {
   "cell_type": "code",
   "execution_count": 42,
   "id": "5611d4f7",
   "metadata": {},
   "outputs": [
    {
     "data": {
      "text/html": [
       "<div>\n",
       "<style scoped>\n",
       "    .dataframe tbody tr th:only-of-type {\n",
       "        vertical-align: middle;\n",
       "    }\n",
       "\n",
       "    .dataframe tbody tr th {\n",
       "        vertical-align: top;\n",
       "    }\n",
       "\n",
       "    .dataframe thead th {\n",
       "        text-align: right;\n",
       "    }\n",
       "</style>\n",
       "<table border=\"1\" class=\"dataframe\">\n",
       "  <thead>\n",
       "    <tr style=\"text-align: right;\">\n",
       "      <th></th>\n",
       "      <th>a</th>\n",
       "      <th>b</th>\n",
       "      <th>c</th>\n",
       "    </tr>\n",
       "  </thead>\n",
       "  <tbody>\n",
       "  </tbody>\n",
       "</table>\n",
       "</div>"
      ],
      "text/plain": [
       "Empty DataFrame\n",
       "Columns: [a, b, c]\n",
       "Index: []"
      ]
     },
     "execution_count": 42,
     "metadata": {},
     "output_type": "execute_result"
    }
   ],
   "source": [
    "A.dropna()"
   ]
  },
  {
   "cell_type": "code",
   "execution_count": 43,
   "id": "8a21b732",
   "metadata": {},
   "outputs": [],
   "source": [
    "A = pd.Series(['a', 'b', 'c'], index = [1, 3, 5])"
   ]
  },
  {
   "cell_type": "code",
   "execution_count": 44,
   "id": "3dec7853",
   "metadata": {},
   "outputs": [
    {
     "data": {
      "text/plain": [
       "1    a\n",
       "3    b\n",
       "5    c\n",
       "dtype: object"
      ]
     },
     "execution_count": 44,
     "metadata": {},
     "output_type": "execute_result"
    }
   ],
   "source": [
    "A"
   ]
  },
  {
   "cell_type": "code",
   "execution_count": 45,
   "id": "a0d24417",
   "metadata": {},
   "outputs": [
    {
     "data": {
      "text/plain": [
       "'a'"
      ]
     },
     "execution_count": 45,
     "metadata": {},
     "output_type": "execute_result"
    }
   ],
   "source": [
    "A[1]"
   ]
  },
  {
   "cell_type": "code",
   "execution_count": 46,
   "id": "f220d3ba",
   "metadata": {},
   "outputs": [
    {
     "data": {
      "text/plain": [
       "3    b\n",
       "5    c\n",
       "dtype: object"
      ]
     },
     "execution_count": 46,
     "metadata": {},
     "output_type": "execute_result"
    }
   ],
   "source": [
    "A[1:3]"
   ]
  },
  {
   "cell_type": "code",
   "execution_count": 47,
   "id": "501ec06a",
   "metadata": {},
   "outputs": [
    {
     "data": {
      "text/plain": [
       "1    a\n",
       "3    b\n",
       "dtype: object"
      ]
     },
     "execution_count": 47,
     "metadata": {},
     "output_type": "execute_result"
    }
   ],
   "source": [
    "A.loc[1:3]"
   ]
  },
  {
   "cell_type": "code",
   "execution_count": 48,
   "id": "d57d2cda",
   "metadata": {},
   "outputs": [
    {
     "data": {
      "text/plain": [
       "3    b\n",
       "5    c\n",
       "dtype: object"
      ]
     },
     "execution_count": 48,
     "metadata": {},
     "output_type": "execute_result"
    }
   ],
   "source": [
    "A.iloc[1:3]"
   ]
  },
  {
   "cell_type": "code",
   "execution_count": 49,
   "id": "abaf809e",
   "metadata": {},
   "outputs": [
    {
     "data": {
      "text/html": [
       "<div>\n",
       "<style scoped>\n",
       "    .dataframe tbody tr th:only-of-type {\n",
       "        vertical-align: middle;\n",
       "    }\n",
       "\n",
       "    .dataframe tbody tr th {\n",
       "        vertical-align: top;\n",
       "    }\n",
       "\n",
       "    .dataframe thead th {\n",
       "        text-align: right;\n",
       "    }\n",
       "</style>\n",
       "<table border=\"1\" class=\"dataframe\">\n",
       "  <thead>\n",
       "    <tr style=\"text-align: right;\">\n",
       "      <th></th>\n",
       "      <th>Marks</th>\n",
       "      <th>Grades</th>\n",
       "    </tr>\n",
       "  </thead>\n",
       "  <tbody>\n",
       "    <tr>\n",
       "      <th>A</th>\n",
       "      <td>85</td>\n",
       "      <td>4.0</td>\n",
       "    </tr>\n",
       "    <tr>\n",
       "      <th>B</th>\n",
       "      <td>75</td>\n",
       "      <td>3.5</td>\n",
       "    </tr>\n",
       "    <tr>\n",
       "      <th>C</th>\n",
       "      <td>65</td>\n",
       "      <td>3.0</td>\n",
       "    </tr>\n",
       "    <tr>\n",
       "      <th>D</th>\n",
       "      <td>55</td>\n",
       "      <td>2.5</td>\n",
       "    </tr>\n",
       "  </tbody>\n",
       "</table>\n",
       "</div>"
      ],
      "text/plain": [
       "   Marks  Grades\n",
       "A     85     4.0\n",
       "B     75     3.5\n",
       "C     65     3.0\n",
       "D     55     2.5"
      ]
     },
     "execution_count": 49,
     "metadata": {},
     "output_type": "execute_result"
    }
   ],
   "source": [
    "dataframe"
   ]
  },
  {
   "cell_type": "code",
   "execution_count": 50,
   "id": "39dd79be",
   "metadata": {},
   "outputs": [
    {
     "data": {
      "text/plain": [
       "Marks     65.0\n",
       "Grades     3.0\n",
       "Name: C, dtype: float64"
      ]
     },
     "execution_count": 50,
     "metadata": {},
     "output_type": "execute_result"
    }
   ],
   "source": [
    "dataframe.iloc[2, :]"
   ]
  },
  {
   "cell_type": "code",
   "execution_count": 51,
   "id": "3062e387",
   "metadata": {},
   "outputs": [
    {
     "data": {
      "text/html": [
       "<div>\n",
       "<style scoped>\n",
       "    .dataframe tbody tr th:only-of-type {\n",
       "        vertical-align: middle;\n",
       "    }\n",
       "\n",
       "    .dataframe tbody tr th {\n",
       "        vertical-align: top;\n",
       "    }\n",
       "\n",
       "    .dataframe thead th {\n",
       "        text-align: right;\n",
       "    }\n",
       "</style>\n",
       "<table border=\"1\" class=\"dataframe\">\n",
       "  <thead>\n",
       "    <tr style=\"text-align: right;\">\n",
       "      <th></th>\n",
       "      <th>Marks</th>\n",
       "      <th>Grades</th>\n",
       "    </tr>\n",
       "  </thead>\n",
       "  <tbody>\n",
       "    <tr>\n",
       "      <th>D</th>\n",
       "      <td>55</td>\n",
       "      <td>2.5</td>\n",
       "    </tr>\n",
       "    <tr>\n",
       "      <th>C</th>\n",
       "      <td>65</td>\n",
       "      <td>3.0</td>\n",
       "    </tr>\n",
       "    <tr>\n",
       "      <th>B</th>\n",
       "      <td>75</td>\n",
       "      <td>3.5</td>\n",
       "    </tr>\n",
       "    <tr>\n",
       "      <th>A</th>\n",
       "      <td>85</td>\n",
       "      <td>4.0</td>\n",
       "    </tr>\n",
       "  </tbody>\n",
       "</table>\n",
       "</div>"
      ],
      "text/plain": [
       "   Marks  Grades\n",
       "D     55     2.5\n",
       "C     65     3.0\n",
       "B     75     3.5\n",
       "A     85     4.0"
      ]
     },
     "execution_count": 51,
     "metadata": {},
     "output_type": "execute_result"
    }
   ],
   "source": [
    "dataframe.iloc[::-1, :]"
   ]
  },
  {
   "cell_type": "code",
   "execution_count": null,
   "id": "81efdcb5",
   "metadata": {},
   "outputs": [],
   "source": []
  }
 ],
 "metadata": {
  "kernelspec": {
   "display_name": "Python 3 (ipykernel)",
   "language": "python",
   "name": "python3"
  },
  "language_info": {
   "codemirror_mode": {
    "name": "ipython",
    "version": 3
   },
   "file_extension": ".py",
   "mimetype": "text/x-python",
   "name": "python",
   "nbconvert_exporter": "python",
   "pygments_lexer": "ipython3",
   "version": "3.8.13"
  }
 },
 "nbformat": 4,
 "nbformat_minor": 5
}
